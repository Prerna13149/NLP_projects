{
  "nbformat": 4,
  "nbformat_minor": 0,
  "metadata": {
    "kernelspec": {
      "display_name": "Python 3",
      "language": "python",
      "name": "python3"
    },
    "language_info": {
      "codemirror_mode": {
        "name": "ipython",
        "version": 3
      },
      "file_extension": ".py",
      "mimetype": "text/x-python",
      "name": "python",
      "nbconvert_exporter": "python",
      "pygments_lexer": "ipython3",
      "version": "3.7.3"
    },
    "colab": {
      "name": "pset1_original.ipynb",
      "provenance": [],
      "collapsed_sections": [],
      "toc_visible": true
    }
  },
  "cells": [
    {
      "cell_type": "markdown",
      "metadata": {
        "id": "naQU1OXT5uFU",
        "colab_type": "text"
      },
      "source": [
        "Problem Set 1: Text Classification\n",
        "=============\n",
        "\n",
        "In this problem set, you will build a system for automatically classifying song lyrics comments by era. You will:\n",
        "\n",
        "- Do some basic text processing, tokenizing your input and converting it into a bag-of-words representation\n",
        "- Build a machine learning classifier based on the generative model, using Naive Bayes\n",
        "- Evaluate your classifiers and examine what they have learned\n",
        "- Build a machine learning classifier based on the discriminative model, using Perceptron\n",
        "- Build a logistic regression classifier using PyTorch\n",
        "- Implement techniques to improve your classifier"
      ]
    },
    {
      "cell_type": "markdown",
      "metadata": {
        "id": "A37IWhVm5uFW",
        "colab_type": "text"
      },
      "source": [
        "# 0. Setup\n",
        "\n",
        "In order to develop this assignment, you will need [python 3](https://www.python.org/downloads/) and the following libraries. Most if not all of these are part of [conda](https://docs.conda.io/en/latest/miniconda.html), so a good starting point would be to install that.\n",
        "\n",
        "- [jupyter](http://jupyter.readthedocs.org/en/latest/install.html)\n",
        "- [scipy](https://www.scipy.org/install.html)\n",
        "- numpy (This will come if you install scipy like above, but if not install separately)\n",
        "- [matplotlib](http://matplotlib.org/users/installing.html)\n",
        "- [nosetests](https://nose.readthedocs.org/en/latest/)\n",
        "- [pandas](http://pandas.pydata.org/) Dataframes\n",
        "- [torch](https://pytorch.org/get-started/locally/)\n",
        "\n",
        "Here is some help on installing packages in python: https://packaging.python.org/installing/. You can use ```pip --user``` to install locally without sudo."
      ]
    },
    {
      "cell_type": "markdown",
      "metadata": {
        "id": "IeVifqKK5uFY",
        "colab_type": "text"
      },
      "source": [
        "## About this assignment\n",
        "\n",
        "- This is a Jupyter notebook. You can execute cell blocks by pressing control-enter.\n",
        "- Most of your coding will be in the python source files in the directory ```mynlplib```.\n",
        "- The directory ```tests``` contains unit tests that will be used to grade your assignment, using ```nosetests```. You should run them as you work on the assignment to see that you're on the right track. You are free to look at their source code, if that helps -- though most of the relevant code is also here in this notebook. Learn more about running unit tests at http://pythontesting.net/framework/nose/nose-introduction/\n",
        "- You may want to add more tests, but that is completely optional. \n",
        "- **To submit this assignment, run the script ```make-submission.sh```, and submit the tarball ```pset1-submission.tgz``` on Canvas.**"
      ]
    },
    {
      "cell_type": "code",
      "metadata": {
        "id": "FAgS7Wh85uFZ",
        "colab_type": "code",
        "colab": {}
      },
      "source": [
        "import sys\n",
        "from importlib import reload"
      ],
      "execution_count": 1,
      "outputs": []
    },
    {
      "cell_type": "code",
      "metadata": {
        "id": "umnalS235uFf",
        "colab_type": "code",
        "colab": {
          "base_uri": "https://localhost:8080/",
          "height": 68
        },
        "outputId": "10b6e768-13fa-46f9-aacd-8c809e363edc"
      },
      "source": [
        "print('My Python version')\n",
        "\n",
        "print('python: {}'.format(sys.version))"
      ],
      "execution_count": 2,
      "outputs": [
        {
          "output_type": "stream",
          "text": [
            "My Python version\n",
            "python: 3.6.9 (default, Jul 17 2020, 12:50:27) \n",
            "[GCC 8.4.0]\n"
          ],
          "name": "stdout"
        }
      ]
    },
    {
      "cell_type": "code",
      "metadata": {
        "id": "WFvhix_x6EI7",
        "colab_type": "code",
        "colab": {
          "base_uri": "https://localhost:8080/",
          "height": 122
        },
        "outputId": "106251fc-cc1c-402f-efa6-fca42770aba8"
      },
      "source": [
        "!pip install nose"
      ],
      "execution_count": 3,
      "outputs": [
        {
          "output_type": "stream",
          "text": [
            "Collecting nose\n",
            "\u001b[?25l  Downloading https://files.pythonhosted.org/packages/15/d8/dd071918c040f50fa1cf80da16423af51ff8ce4a0f2399b7bf8de45ac3d9/nose-1.3.7-py3-none-any.whl (154kB)\n",
            "\r\u001b[K     |██▏                             | 10kB 15.7MB/s eta 0:00:01\r\u001b[K     |████▎                           | 20kB 2.2MB/s eta 0:00:01\r\u001b[K     |██████▍                         | 30kB 2.7MB/s eta 0:00:01\r\u001b[K     |████████▌                       | 40kB 3.1MB/s eta 0:00:01\r\u001b[K     |██████████▋                     | 51kB 2.6MB/s eta 0:00:01\r\u001b[K     |████████████▊                   | 61kB 2.8MB/s eta 0:00:01\r\u001b[K     |██████████████▉                 | 71kB 3.1MB/s eta 0:00:01\r\u001b[K     |█████████████████               | 81kB 3.3MB/s eta 0:00:01\r\u001b[K     |███████████████████             | 92kB 3.6MB/s eta 0:00:01\r\u001b[K     |█████████████████████▏          | 102kB 3.5MB/s eta 0:00:01\r\u001b[K     |███████████████████████▎        | 112kB 3.5MB/s eta 0:00:01\r\u001b[K     |█████████████████████████▍      | 122kB 3.5MB/s eta 0:00:01\r\u001b[K     |███████████████████████████▌    | 133kB 3.5MB/s eta 0:00:01\r\u001b[K     |█████████████████████████████▋  | 143kB 3.5MB/s eta 0:00:01\r\u001b[K     |███████████████████████████████▊| 153kB 3.5MB/s eta 0:00:01\r\u001b[K     |████████████████████████████████| 163kB 3.5MB/s \n",
            "\u001b[?25hInstalling collected packages: nose\n",
            "Successfully installed nose-1.3.7\n"
          ],
          "name": "stdout"
        }
      ]
    },
    {
      "cell_type": "code",
      "metadata": {
        "id": "az5q2OsI5uFk",
        "colab_type": "code",
        "colab": {}
      },
      "source": [
        "import nose\n",
        "\n",
        "import pandas as pd\n",
        "import numpy as np\n",
        "import scipy as sp\n",
        "import matplotlib\n",
        "import matplotlib.pyplot as plt\n",
        "\n",
        "import torch\n",
        "from torch.autograd import Variable\n",
        "from torch import optim\n",
        "\n",
        "%matplotlib inline"
      ],
      "execution_count": 4,
      "outputs": []
    },
    {
      "cell_type": "code",
      "metadata": {
        "scrolled": true,
        "id": "5V2H4i2H5uFp",
        "colab_type": "code",
        "colab": {
          "base_uri": "https://localhost:8080/",
          "height": 136
        },
        "outputId": "ea3b0a05-40f2-4631-f198-4741cfc162d7"
      },
      "source": [
        "print('My library versions')\n",
        "\n",
        "print('pandas: {}'.format(pd.__version__))\n",
        "print('numpy: {}'.format(np.__version__))\n",
        "print('scipy: {}'.format(sp.__version__))\n",
        "print('matplotlib: {}'.format(matplotlib.__version__))\n",
        "print('nose: {}'.format(nose.__version__))\n",
        "print('torch: {}'.format(torch.__version__))"
      ],
      "execution_count": 5,
      "outputs": [
        {
          "output_type": "stream",
          "text": [
            "My library versions\n",
            "pandas: 1.0.5\n",
            "numpy: 1.18.5\n",
            "scipy: 1.4.1\n",
            "matplotlib: 3.2.2\n",
            "nose: 1.3.7\n",
            "torch: 1.6.0+cu101\n"
          ],
          "name": "stdout"
        }
      ]
    },
    {
      "cell_type": "markdown",
      "metadata": {
        "id": "Ah5dmTWS5uFt",
        "colab_type": "text"
      },
      "source": [
        "To test whether your libraries are the right version, run:\n",
        "\n",
        "`nosetests tests/test_environment.py`"
      ]
    },
    {
      "cell_type": "code",
      "metadata": {
        "id": "m3D1hzSe5uFu",
        "colab_type": "code",
        "colab": {
          "base_uri": "https://localhost:8080/",
          "height": 102
        },
        "outputId": "25e2a997-9eb3-4e1e-eb51-b4122483bb87"
      },
      "source": [
        "# use ! to run shell commands in notebook\n",
        "! nosetests tests/test_environment.py"
      ],
      "execution_count": 6,
      "outputs": [
        {
          "output_type": "stream",
          "text": [
            ".\n",
            "----------------------------------------------------------------------\n",
            "Ran 1 test in 0.001s\n",
            "\n",
            "OK\n"
          ],
          "name": "stdout"
        }
      ]
    },
    {
      "cell_type": "markdown",
      "metadata": {
        "id": "PVWNsxDQ5uFy",
        "colab_type": "text"
      },
      "source": [
        "# 1. Preprocessing\n",
        "\n",
        "Total: 8 points"
      ]
    },
    {
      "cell_type": "markdown",
      "metadata": {
        "id": "dcrJT6z35uFz",
        "colab_type": "text"
      },
      "source": [
        "Read the data into a dataframe"
      ]
    },
    {
      "cell_type": "code",
      "metadata": {
        "id": "uL2Lwfti5uF0",
        "colab_type": "code",
        "colab": {}
      },
      "source": [
        "df_train = pd.read_csv('lyrics-train.csv')"
      ],
      "execution_count": 7,
      "outputs": []
    },
    {
      "cell_type": "markdown",
      "metadata": {
        "id": "e1aLW1bj5uF5",
        "colab_type": "text"
      },
      "source": [
        "A dataframe is a structured representation of your data. You can preview a dataframe using `head()`"
      ]
    },
    {
      "cell_type": "code",
      "metadata": {
        "id": "o1e5qT235uF6",
        "colab_type": "code",
        "colab": {
          "base_uri": "https://localhost:8080/",
          "height": 204
        },
        "outputId": "de4dd67f-496e-444c-bd03-eb1024208fe7"
      },
      "source": [
        "df_train.head()"
      ],
      "execution_count": 8,
      "outputs": [
        {
          "output_type": "execute_result",
          "data": {
            "text/html": [
              "<div>\n",
              "<style scoped>\n",
              "    .dataframe tbody tr th:only-of-type {\n",
              "        vertical-align: middle;\n",
              "    }\n",
              "\n",
              "    .dataframe tbody tr th {\n",
              "        vertical-align: top;\n",
              "    }\n",
              "\n",
              "    .dataframe thead th {\n",
              "        text-align: right;\n",
              "    }\n",
              "</style>\n",
              "<table border=\"1\" class=\"dataframe\">\n",
              "  <thead>\n",
              "    <tr style=\"text-align: right;\">\n",
              "      <th></th>\n",
              "      <th>Era</th>\n",
              "      <th>Lyrics</th>\n",
              "    </tr>\n",
              "  </thead>\n",
              "  <tbody>\n",
              "    <tr>\n",
              "      <th>0</th>\n",
              "      <td>pre-1980</td>\n",
              "      <td>come on come on let me show you where its at a...</td>\n",
              "    </tr>\n",
              "    <tr>\n",
              "      <th>1</th>\n",
              "      <td>1980s</td>\n",
              "      <td>welcome to the big time youre bound to be a s...</td>\n",
              "    </tr>\n",
              "    <tr>\n",
              "      <th>2</th>\n",
              "      <td>pre-1980</td>\n",
              "      <td>once i believed that when love came to me it ...</td>\n",
              "    </tr>\n",
              "    <tr>\n",
              "      <th>3</th>\n",
              "      <td>2000s</td>\n",
              "      <td>i took my love and i took it down climbed a m...</td>\n",
              "    </tr>\n",
              "    <tr>\n",
              "      <th>4</th>\n",
              "      <td>pre-1980</td>\n",
              "      <td>do do do do do do do do do do do do do do do ...</td>\n",
              "    </tr>\n",
              "  </tbody>\n",
              "</table>\n",
              "</div>"
            ],
            "text/plain": [
              "        Era                                             Lyrics\n",
              "0  pre-1980  come on come on let me show you where its at a...\n",
              "1     1980s   welcome to the big time youre bound to be a s...\n",
              "2  pre-1980   once i believed that when love came to me it ...\n",
              "3     2000s   i took my love and i took it down climbed a m...\n",
              "4  pre-1980   do do do do do do do do do do do do do do do ..."
            ]
          },
          "metadata": {
            "tags": []
          },
          "execution_count": 8
        }
      ]
    },
    {
      "cell_type": "markdown",
      "metadata": {
        "id": "-_6yJCoe5uF_",
        "colab_type": "text"
      },
      "source": [
        "## Bags of words\n",
        "\n",
        "Your first task is to convert the text to a bag-of-words representation. For this data, a lot of the preprocessing is already done: the text is lower-cased, and punctuation is removed. You need only create a `counter` for each instance.\n",
        "\n",
        "- **Deliverable 1.1**: Complete the function `mynlplib.preproc.bag_of_words`. (2 points)\n",
        "- **Test**: `nose tests/test_preproc.py:test_d1_1_bow`"
      ]
    },
    {
      "cell_type": "code",
      "metadata": {
        "id": "pfulkkae5uF_",
        "colab_type": "code",
        "colab": {}
      },
      "source": [
        "from mynlplib import preproc"
      ],
      "execution_count": 9,
      "outputs": []
    },
    {
      "cell_type": "code",
      "metadata": {
        "id": "XXTRupIw5uGL",
        "colab_type": "code",
        "colab": {}
      },
      "source": [
        "# run this block to update the notebook as you change the preproc library\n",
        "reload(preproc);"
      ],
      "execution_count": 10,
      "outputs": []
    },
    {
      "cell_type": "code",
      "metadata": {
        "id": "5yQTKr6C5uGP",
        "colab_type": "code",
        "colab": {}
      },
      "source": [
        "y_tr,x_tr = preproc.read_data('lyrics-train.csv',preprocessor=preproc.bag_of_words)\n",
        "y_dv,x_dv = preproc.read_data('lyrics-dev.csv',preprocessor=preproc.bag_of_words)"
      ],
      "execution_count": 11,
      "outputs": []
    },
    {
      "cell_type": "code",
      "metadata": {
        "id": "qN6kvxno5uGU",
        "colab_type": "code",
        "colab": {}
      },
      "source": [
        "y_te,x_te = preproc.read_data('lyrics-test-hidden.csv',preprocessor=preproc.bag_of_words)"
      ],
      "execution_count": 12,
      "outputs": []
    },
    {
      "cell_type": "code",
      "metadata": {
        "id": "iFHf9rexfm3v",
        "colab_type": "code",
        "colab": {
          "base_uri": "https://localhost:8080/",
          "height": 102
        },
        "outputId": "6470170d-e86a-4f50-b61c-1ce3fa81c3b9"
      },
      "source": [
        "! nosetests tests/test_preproc.py:test_d1_1_bow"
      ],
      "execution_count": 13,
      "outputs": [
        {
          "output_type": "stream",
          "text": [
            ".\n",
            "----------------------------------------------------------------------\n",
            "Ran 1 test in 0.668s\n",
            "\n",
            "OK\n"
          ],
          "name": "stdout"
        }
      ]
    },
    {
      "cell_type": "markdown",
      "metadata": {
        "id": "CW0NYSnA5uGY",
        "colab_type": "text"
      },
      "source": [
        "## Unseen words\n",
        "\n",
        "One challenge for classification is that words will appear in the test data that do not appear in the training data. Compute the number of words that appear in `lyrics-dev.csv`, but not in `lyrics-train.csv`. To do this, implement the following deliverables:\n",
        "\n",
        "- **Deliverable 1.2**: implement `mynlplib.preproc.aggregate_counts`, a counter of all words in a list of bags-of-words.  (2 points)\n",
        "- **Deliverable 1.3**: implement `mynlplib.preproc.compute_oov`, returning a list of words that appear in one list of bags-of-words, but not another.  (2 points)\n",
        "- **Tests**: `tests/test_preproc.py:test_d1_2_agg`, `tests/test_preproc.py:test_d1_3a_oov`"
      ]
    },
    {
      "cell_type": "code",
      "metadata": {
        "id": "Vxs0K2UW5uGZ",
        "colab_type": "code",
        "colab": {}
      },
      "source": [
        "from collections import Counter"
      ],
      "execution_count": 14,
      "outputs": []
    },
    {
      "cell_type": "code",
      "metadata": {
        "id": "Sw4aANTZ5uGd",
        "colab_type": "code",
        "colab": {}
      },
      "source": [
        "reload(preproc);"
      ],
      "execution_count": 15,
      "outputs": []
    },
    {
      "cell_type": "code",
      "metadata": {
        "id": "7d4Vcy_85uGg",
        "colab_type": "code",
        "colab": {}
      },
      "source": [
        "counts_dv = preproc.aggregate_counts(x_dv)"
      ],
      "execution_count": 16,
      "outputs": []
    },
    {
      "cell_type": "markdown",
      "metadata": {
        "id": "8FCYPn_L5uGl",
        "colab_type": "text"
      },
      "source": [
        "You can see the most common items in a counter by calling `counts.most_common()`:"
      ]
    },
    {
      "cell_type": "code",
      "metadata": {
        "id": "_0RHHqow5uGl",
        "colab_type": "code",
        "colab": {
          "base_uri": "https://localhost:8080/",
          "height": 34
        },
        "outputId": "1b00e01f-b0fb-4317-d8ee-58bd7c1e1fa5"
      },
      "source": [
        "counts_dv.most_common(5)"
      ],
      "execution_count": 17,
      "outputs": [
        {
          "output_type": "execute_result",
          "data": {
            "text/plain": [
              "[('you', 5542), ('i', 5535), ('the', 5061), ('to', 3203), ('and', 2953)]"
            ]
          },
          "metadata": {
            "tags": []
          },
          "execution_count": 17
        }
      ]
    },
    {
      "cell_type": "code",
      "metadata": {
        "id": "RlagAt575uGq",
        "colab_type": "code",
        "colab": {}
      },
      "source": [
        "counts_tr = preproc.aggregate_counts(x_tr)"
      ],
      "execution_count": 18,
      "outputs": []
    },
    {
      "cell_type": "code",
      "metadata": {
        "id": "HunAV_jd5uGw",
        "colab_type": "code",
        "colab": {
          "base_uri": "https://localhost:8080/",
          "height": 34
        },
        "outputId": "d7a2ca88-2594-484f-f5d2-0d01db919393"
      },
      "source": [
        "len(preproc.compute_oov(counts_dv,counts_tr))"
      ],
      "execution_count": 19,
      "outputs": [
        {
          "output_type": "execute_result",
          "data": {
            "text/plain": [
              "2677"
            ]
          },
          "metadata": {
            "tags": []
          },
          "execution_count": 19
        }
      ]
    },
    {
      "cell_type": "code",
      "metadata": {
        "id": "Mco2J0Sw5uGz",
        "colab_type": "code",
        "colab": {
          "base_uri": "https://localhost:8080/",
          "height": 34
        },
        "outputId": "83dcc49f-9b5f-4e0e-aa9c-284fa13b4e1f"
      },
      "source": [
        "len(preproc.compute_oov(counts_tr,counts_dv))"
      ],
      "execution_count": 20,
      "outputs": [
        {
          "output_type": "execute_result",
          "data": {
            "text/plain": [
              "30459"
            ]
          },
          "metadata": {
            "tags": []
          },
          "execution_count": 20
        }
      ]
    },
    {
      "cell_type": "code",
      "metadata": {
        "id": "wJr-l5qu5uG3",
        "colab_type": "code",
        "colab": {
          "base_uri": "https://localhost:8080/",
          "height": 34
        },
        "outputId": "e713c31f-7a49-46f1-ef5c-999669d828a4"
      },
      "source": [
        "preproc.oov_rate(counts_dv,counts_tr)"
      ],
      "execution_count": 21,
      "outputs": [
        {
          "output_type": "execute_result",
          "data": {
            "text/plain": [
              "0.297246280257606"
            ]
          },
          "metadata": {
            "tags": []
          },
          "execution_count": 21
        }
      ]
    },
    {
      "cell_type": "markdown",
      "metadata": {
        "id": "OR_6V3555uG7",
        "colab_type": "text"
      },
      "source": [
        "30% of the words in the dev set do not appear in the training set."
      ]
    },
    {
      "cell_type": "markdown",
      "metadata": {
        "id": "sow_gTm75uG8",
        "colab_type": "text"
      },
      "source": [
        "## Power laws\n",
        "\n",
        "Word count distributions are said to follow [power law](https://en.wikipedia.org/wiki/Power_law) ([Zipf's law](https://en.wikipedia.org/wiki/Zipf%27s_law)) distributions. \n",
        "\n",
        "In practice, this means that a log-log plot of frequency against rank is nearly linear. Let's see if this holds for our data."
      ]
    },
    {
      "cell_type": "code",
      "metadata": {
        "id": "xlw3RRYH5uG8",
        "colab_type": "code",
        "colab": {
          "base_uri": "https://localhost:8080/",
          "height": 283
        },
        "outputId": "5f9cfe91-0d8f-458f-9823-545ffd724935"
      },
      "source": [
        "plt.loglog([val for word,val in counts_tr.most_common()])\n",
        "plt.loglog([val for word,val in counts_dv.most_common()])\n",
        "plt.xlabel('rank')\n",
        "plt.ylabel('frequency')\n",
        "plt.legend(['training set','dev set']);"
      ],
      "execution_count": 22,
      "outputs": [
        {
          "output_type": "display_data",
          "data": {
            "image/png": "[encoded data removed]",
            "text/plain": [
              "<Figure size 432x288 with 1 Axes>"
            ]
          },
          "metadata": {
            "tags": [],
            "needs_background": "light"
          }
        }
      ]
    },
    {
      "cell_type": "code",
      "metadata": {
        "id": "TiBf8ssogMAT",
        "colab_type": "code",
        "colab": {
          "base_uri": "https://localhost:8080/",
          "height": 102
        },
        "outputId": "438a1900-1230-4cbc-e239-326c2af3f8ef"
      },
      "source": [
        "! nosetests tests/test_preproc.py:test_d1_2_agg"
      ],
      "execution_count": 23,
      "outputs": [
        {
          "output_type": "stream",
          "text": [
            ".\n",
            "----------------------------------------------------------------------\n",
            "Ran 1 test in 0.571s\n",
            "\n",
            "OK\n"
          ],
          "name": "stdout"
        }
      ]
    },
    {
      "cell_type": "code",
      "metadata": {
        "id": "Ks_ErSLogUhz",
        "colab_type": "code",
        "colab": {
          "base_uri": "https://localhost:8080/",
          "height": 102
        },
        "outputId": "734ed22a-0063-40b2-b4ed-84b9641c3751"
      },
      "source": [
        "! nosetests tests/test_preproc.py:test_d1_3a_oov"
      ],
      "execution_count": 24,
      "outputs": [
        {
          "output_type": "stream",
          "text": [
            ".\n",
            "----------------------------------------------------------------------\n",
            "Ran 1 test in 0.605s\n",
            "\n",
            "OK\n"
          ],
          "name": "stdout"
        }
      ]
    },
    {
      "cell_type": "markdown",
      "metadata": {
        "id": "8ZXdGSdc5uHA",
        "colab_type": "text"
      },
      "source": [
        "**Reflect**: The dataset we are working with does not include capitalization. How do you think this figure would change if capitalization distinctions were included?"
      ]
    },
    {
      "cell_type": "markdown",
      "metadata": {
        "id": "I-14yLSz5uHB",
        "colab_type": "text"
      },
      "source": [
        "## Pruning the vocabulary\n",
        "\n",
        "Let's prune the vocabulary to include only words that appear at least ten times in the training data.\n",
        "\n",
        "- **Deliverable 1.4:** Implement `preproc.prune_vocabulary` (2 points)\n",
        "- **Test**: `tests/test_preproc.py:test_d1_4_prune`"
      ]
    },
    {
      "cell_type": "code",
      "metadata": {
        "id": "NJJKFY0o5uHB",
        "colab_type": "code",
        "colab": {}
      },
      "source": [
        "reload(preproc);"
      ],
      "execution_count": 25,
      "outputs": []
    },
    {
      "cell_type": "code",
      "metadata": {
        "id": "rYV4hjHd5uHE",
        "colab_type": "code",
        "colab": {}
      },
      "source": [
        "x_tr_pruned, vocab = preproc.prune_vocabulary(counts_tr,x_tr,10)\n",
        "x_dv_pruned, _ = preproc.prune_vocabulary(counts_tr,x_dv,10)\n",
        "x_te_pruned, _ = preproc.prune_vocabulary(counts_tr,x_te,10)"
      ],
      "execution_count": 26,
      "outputs": []
    },
    {
      "cell_type": "code",
      "metadata": {
        "id": "r16ICUof5uHI",
        "colab_type": "code",
        "colab": {
          "base_uri": "https://localhost:8080/",
          "height": 34
        },
        "outputId": "28b273e4-95c1-4354-ffc1-6a5363401390"
      },
      "source": [
        "len(vocab)"
      ],
      "execution_count": 27,
      "outputs": [
        {
          "output_type": "execute_result",
          "data": {
            "text/plain": [
              "4875"
            ]
          },
          "metadata": {
            "tags": []
          },
          "execution_count": 27
        }
      ]
    },
    {
      "cell_type": "code",
      "metadata": {
        "id": "jcdzNaUQ5uHN",
        "colab_type": "code",
        "colab": {
          "base_uri": "https://localhost:8080/",
          "height": 51
        },
        "outputId": "14f73063-fcf9-4d10-a968-4cdbbc5b0c76"
      },
      "source": [
        "i = 94\n",
        "print(len(x_dv[i]),len(x_dv_pruned[i]))\n",
        "print(sum(x_dv[i].values()),sum(x_dv_pruned[i].values()))"
      ],
      "execution_count": 28,
      "outputs": [
        {
          "output_type": "stream",
          "text": [
            "88 79\n",
            "187 176\n"
          ],
          "name": "stdout"
        }
      ]
    },
    {
      "cell_type": "code",
      "metadata": {
        "id": "NZmR28U3gmH7",
        "colab_type": "code",
        "colab": {
          "base_uri": "https://localhost:8080/",
          "height": 102
        },
        "outputId": "d0ff049e-6126-438c-fd60-c56d408db229"
      },
      "source": [
        "! nosetests tests/test_preproc.py:test_d1_4_prune"
      ],
      "execution_count": 29,
      "outputs": [
        {
          "output_type": "stream",
          "text": [
            ".\n",
            "----------------------------------------------------------------------\n",
            "Ran 1 test in 0.797s\n",
            "\n",
            "OK\n"
          ],
          "name": "stdout"
        }
      ]
    },
    {
      "cell_type": "markdown",
      "metadata": {
        "id": "E8os48mP5uHR",
        "colab_type": "text"
      },
      "source": [
        "# 2. Linear classification\n",
        "\n",
        "Now you'll implement the linear classification rule, $\\hat{y} = \\text{argmax}_y \\theta^{\\top} f(x,y)$.\n",
        "\n",
        "You will use these functions in all classifiers in this assignment.\n",
        "\n",
        "Total: 8 points"
      ]
    },
    {
      "cell_type": "code",
      "metadata": {
        "id": "aUH7diia5uHS",
        "colab_type": "code",
        "colab": {}
      },
      "source": [
        "from mynlplib import clf_base\n",
        "reload(clf_base)\n",
        "\n",
        "from mynlplib import constants\n",
        "reload(constants);"
      ],
      "execution_count": 30,
      "outputs": []
    },
    {
      "cell_type": "markdown",
      "metadata": {
        "id": "lD-MsJoQ5uHV",
        "colab_type": "text"
      },
      "source": [
        "Recall from the reading that the feature function vector $f(x,y)$ can be viewed as a dict, in which the values are counts, and the keys are tuples $(y,x_j)$, where $y$ is a label and $x_j$ is a base feature.\n",
        "\n",
        "- **Deliverable 2.1**: Implement the function ```make_feature_vector``` in ```clf_base.py```. (4 points)\n",
        "- **Test**: `tests/test_classifier.py:test_d2_1_featvec`\n",
        "\n",
        "Note that you must also include the offset feature, ```mynlplib.constants.OFFSET```.\n",
        "\n",
        "Desired output is shown below:"
      ]
    },
    {
      "cell_type": "code",
      "metadata": {
        "id": "ox2xMRmg5uHW",
        "colab_type": "code",
        "colab": {}
      },
      "source": [
        "fv = clf_base.make_feature_vector({'test':1,'case':2},'1980s')"
      ],
      "execution_count": 31,
      "outputs": []
    },
    {
      "cell_type": "code",
      "metadata": {
        "id": "cWXunJ7h5uHZ",
        "colab_type": "code",
        "colab": {
          "base_uri": "https://localhost:8080/",
          "height": 34
        },
        "outputId": "696781d0-69de-41ed-be4e-522357d99ba9"
      },
      "source": [
        "print(fv)"
      ],
      "execution_count": 32,
      "outputs": [
        {
          "output_type": "stream",
          "text": [
            "{('1980s', 'test'): 1, ('1980s', 'case'): 2, ('1980s', '**OFFSET**'): 1}\n"
          ],
          "name": "stdout"
        }
      ]
    },
    {
      "cell_type": "markdown",
      "metadata": {
        "id": "Q_XWVt-D5uHd",
        "colab_type": "text"
      },
      "source": [
        "Let's compute the entire set of labels."
      ]
    },
    {
      "cell_type": "code",
      "metadata": {
        "id": "-WkwRjti5uHf",
        "colab_type": "code",
        "colab": {
          "base_uri": "https://localhost:8080/",
          "height": 34
        },
        "outputId": "c85daca2-445f-4893-ddb6-d066af562d9d"
      },
      "source": [
        "labels = set(y_tr) #figure out all possible labels\n",
        "print(labels)"
      ],
      "execution_count": 33,
      "outputs": [
        {
          "output_type": "stream",
          "text": [
            "{'1980s', '1990s', 'pre-1980', '2000s'}\n"
          ],
          "name": "stdout"
        }
      ]
    },
    {
      "cell_type": "code",
      "metadata": {
        "id": "G6orFgwchBRK",
        "colab_type": "code",
        "colab": {
          "base_uri": "https://localhost:8080/",
          "height": 102
        },
        "outputId": "a5a2e55a-ab23-46c0-d47b-d850be7cf232"
      },
      "source": [
        "! nosetests tests/test_classifier.py:test_d2_1_featvec"
      ],
      "execution_count": 34,
      "outputs": [
        {
          "output_type": "stream",
          "text": [
            ".\n",
            "----------------------------------------------------------------------\n",
            "Ran 1 test in 0.839s\n",
            "\n",
            "OK\n"
          ],
          "name": "stdout"
        }
      ]
    },
    {
      "cell_type": "markdown",
      "metadata": {
        "id": "3EPj-Q-T5uHi",
        "colab_type": "text"
      },
      "source": [
        "Now implement the prediction rule, $\\hat{y} = \\text{argmax}_y \\theta^{\\top} f(x,y)$.\n",
        "\n",
        "- **Deliverable 2.2**: Implement the function ```predict``` in ```clf_base.py```. (4 points)\n",
        "- **Test**: `tests/test_classifier.py:test_d2_2_predict`\n",
        "\n",
        "The output should be:\n",
        "\n",
        "- A predicted label\n",
        "- The scores of all labels\n",
        "\n",
        "This function will be called **a lot**, so try to make it fast. You don't need to do anything crazy, but avoid making your code do silly extra work.\n",
        "\n",
        "You can test this function using these simple hand-crafted weights."
      ]
    },
    {
      "cell_type": "code",
      "metadata": {
        "id": "AsVO4UJS5uHj",
        "colab_type": "code",
        "colab": {}
      },
      "source": [
        "from collections import defaultdict"
      ],
      "execution_count": 35,
      "outputs": []
    },
    {
      "cell_type": "code",
      "metadata": {
        "id": "PkzhuJDb5uHm",
        "colab_type": "code",
        "colab": {}
      },
      "source": [
        "# weight vectors must be defaultdicts\n",
        "theta_hand = defaultdict(float,\n",
        "                         {('2000s','money'):0.1,\n",
        "                          ('2000s','name'):0.2,\n",
        "                          ('1980s','tonight'):0.1,\n",
        "                          ('2000s','man'):0.1,\n",
        "                          ('1990s','fly'):0.1,\n",
        "                          ('pre-1980',constants.OFFSET):0.1\n",
        "                         })"
      ],
      "execution_count": 36,
      "outputs": []
    },
    {
      "cell_type": "code",
      "metadata": {
        "id": "raMFj0vB5uHp",
        "colab_type": "code",
        "colab": {
          "base_uri": "https://localhost:8080/",
          "height": 51
        },
        "outputId": "f357e40c-38c2-449c-d0bf-caf412acea6c"
      },
      "source": [
        "clf_base.predict(x_tr_pruned[0],theta_hand,labels)"
      ],
      "execution_count": 37,
      "outputs": [
        {
          "output_type": "execute_result",
          "data": {
            "text/plain": [
              "('2000s',\n",
              " {'1980s': 0.0, '1990s': 0.0, '2000s': 1.3000000000000003, 'pre-1980': 0.1})"
            ]
          },
          "metadata": {
            "tags": []
          },
          "execution_count": 37
        }
      ]
    },
    {
      "cell_type": "markdown",
      "metadata": {
        "id": "wwmA_kJk5uHt",
        "colab_type": "text"
      },
      "source": [
        "Now let's see how good these weights are, by evaluating on the dev set."
      ]
    },
    {
      "cell_type": "code",
      "metadata": {
        "id": "RK21zyiB5uHt",
        "colab_type": "code",
        "colab": {}
      },
      "source": [
        "from mynlplib import evaluation\n",
        "reload(evaluation);"
      ],
      "execution_count": 38,
      "outputs": []
    },
    {
      "cell_type": "code",
      "metadata": {
        "id": "T8M24anD5uHw",
        "colab_type": "code",
        "colab": {
          "base_uri": "https://localhost:8080/",
          "height": 34
        },
        "outputId": "8d16130c-0419-45ff-afc9-bcfa0b71c3b5"
      },
      "source": [
        "# this applies your predict function to all the instances in ```x_dv```\n",
        "y_hat = clf_base.predict_all(x_dv_pruned,theta_hand,labels)\n",
        "print(evaluation.acc(y_hat,y_dv))"
      ],
      "execution_count": 39,
      "outputs": [
        {
          "output_type": "stream",
          "text": [
            "0.3422222222222222\n"
          ],
          "name": "stdout"
        }
      ]
    },
    {
      "cell_type": "code",
      "metadata": {
        "id": "IENHdpEnhYP9",
        "colab_type": "code",
        "colab": {
          "base_uri": "https://localhost:8080/",
          "height": 102
        },
        "outputId": "7f8318c6-ecb2-4405-ed01-fa6ccad5a8a0"
      },
      "source": [
        "! nosetests tests/test_classifier.py:test_d2_2_predict"
      ],
      "execution_count": 40,
      "outputs": [
        {
          "output_type": "stream",
          "text": [
            ".\n",
            "----------------------------------------------------------------------\n",
            "Ran 1 test in 0.869s\n",
            "\n",
            "OK\n"
          ],
          "name": "stdout"
        }
      ]
    },
    {
      "cell_type": "markdown",
      "metadata": {
        "id": "108CBtEA5uH0",
        "colab_type": "text"
      },
      "source": [
        "**Reflect**: What accuracy corresponds to random chance on this dataset?"
      ]
    },
    {
      "cell_type": "markdown",
      "metadata": {
        "id": "pIxnOWXq5uH0",
        "colab_type": "text"
      },
      "source": [
        "# 3. Naive Bayes\n",
        "\n",
        "You'll now implement a Naive Bayes classifier, as described in Eisenstein Ch. 2.\n",
        "\n",
        "Total: 16 points"
      ]
    },
    {
      "cell_type": "code",
      "metadata": {
        "id": "jm9o3Mzw5uH1",
        "colab_type": "code",
        "colab": {}
      },
      "source": [
        "from mynlplib import naive_bayes\n",
        "reload(naive_bayes);"
      ],
      "execution_count": 41,
      "outputs": []
    },
    {
      "cell_type": "markdown",
      "metadata": {
        "id": "BAEuWJpi5uH4",
        "colab_type": "text"
      },
      "source": [
        "- **Deliverable 3.1**: (warmup) implement ```get_corpus_counts``` in ```naive_bayes.py```. (4 points)\n",
        "- **Test**: `tests/test_classifier.py:test_d3_1_corpus_counts`\n",
        "\n",
        "This function should compute the word counts for a given label."
      ]
    },
    {
      "cell_type": "code",
      "metadata": {
        "id": "9re3Us9U5uH5",
        "colab_type": "code",
        "colab": {
          "base_uri": "https://localhost:8080/",
          "height": 51
        },
        "outputId": "8cfa5530-e98e-4d6b-a2a9-deb31a8ef17f"
      },
      "source": [
        "eighties_counts = naive_bayes.get_corpus_counts(x_tr_pruned,y_tr,\"1980s\");\n",
        "print(eighties_counts['today'])\n",
        "print(eighties_counts['yesterday'])"
      ],
      "execution_count": 42,
      "outputs": [
        {
          "output_type": "stream",
          "text": [
            "50\n",
            "14\n"
          ],
          "name": "stdout"
        }
      ]
    },
    {
      "cell_type": "code",
      "metadata": {
        "id": "1B76VhRKhnmf",
        "colab_type": "code",
        "colab": {
          "base_uri": "https://localhost:8080/",
          "height": 102
        },
        "outputId": "3f86010b-a1f7-4dcd-9161-ce436bbb972e"
      },
      "source": [
        "! nosetests tests/test_classifier.py:test_d3_1_corpus_counts"
      ],
      "execution_count": 43,
      "outputs": [
        {
          "output_type": "stream",
          "text": [
            ".\n",
            "----------------------------------------------------------------------\n",
            "Ran 1 test in 0.822s\n",
            "\n",
            "OK\n"
          ],
          "name": "stdout"
        }
      ]
    },
    {
      "cell_type": "markdown",
      "metadata": {
        "id": "-4GUzsYA5uH8",
        "colab_type": "text"
      },
      "source": [
        "- **Deliverable 3.2**: Implement ```estimate_pxy``` in ```naive_bayes.py```. (4 points)\n",
        "- **Test**: `tests/test_classifier.py:test_d3_2_pxy`\n",
        "\n",
        "This function should compute the *smoothed* multinomial distribution $\\log P(x \\mid y)$ for a given label $y$.\n",
        "\n",
        "Hint: note that this function takes the vocabulary as an argument. You have to assign a probability even for words that do not appear in documents with label $y$, if they are in the vocabulary.\n",
        "\n",
        "You can use ```get_corpus_counts``` in this function if you want to, but you don't have to."
      ]
    },
    {
      "cell_type": "code",
      "metadata": {
        "id": "RnzpE8tg5uH8",
        "colab_type": "code",
        "colab": {}
      },
      "source": [
        "log_pxy = naive_bayes.estimate_pxy(x_tr_pruned,y_tr,\"1980s\",0.1,vocab)"
      ],
      "execution_count": 44,
      "outputs": []
    },
    {
      "cell_type": "markdown",
      "metadata": {
        "id": "idWGahTA5uIA",
        "colab_type": "text"
      },
      "source": [
        "Probabilities must sum to one! (or very close)"
      ]
    },
    {
      "cell_type": "code",
      "metadata": {
        "id": "a3bYFdw95uIB",
        "colab_type": "code",
        "colab": {
          "base_uri": "https://localhost:8080/",
          "height": 34
        },
        "outputId": "06100574-bdbb-48e5-f25c-8957ba675744"
      },
      "source": [
        "sum(np.exp(list(log_pxy.values())))"
      ],
      "execution_count": 45,
      "outputs": [
        {
          "output_type": "execute_result",
          "data": {
            "text/plain": [
              "0.9999999999999506"
            ]
          },
          "metadata": {
            "tags": []
          },
          "execution_count": 45
        }
      ]
    },
    {
      "cell_type": "markdown",
      "metadata": {
        "id": "QXpP6Vut5uIH",
        "colab_type": "text"
      },
      "source": [
        "Let's look at the log-probabilities of the words from the hand-tuned weights"
      ]
    },
    {
      "cell_type": "code",
      "metadata": {
        "id": "-3qtD9YJ5uIH",
        "colab_type": "code",
        "colab": {
          "base_uri": "https://localhost:8080/",
          "height": 54
        },
        "outputId": "9311a2a9-947d-4fc9-fc06-be090727538c"
      },
      "source": [
        "print({word:log_pxy[word] for (_,word),weight in theta_hand.items() if weight>0})"
      ],
      "execution_count": 46,
      "outputs": [
        {
          "output_type": "stream",
          "text": [
            "{'money': -7.689562807416732, 'name': -7.568324713816848, 'tonight': -6.216637557007502, 'man': -6.63187694645784, 'fly': -8.636944126360918, '**OFFSET**': 0.0}\n"
          ],
          "name": "stdout"
        }
      ]
    },
    {
      "cell_type": "code",
      "metadata": {
        "id": "kUQo0vEt5uIL",
        "colab_type": "code",
        "colab": {}
      },
      "source": [
        "log_pxy_more_smooth = naive_bayes.estimate_pxy(x_tr_pruned,y_tr,\"1980s\",10,vocab)"
      ],
      "execution_count": 47,
      "outputs": []
    },
    {
      "cell_type": "code",
      "metadata": {
        "id": "HbP5l1zw5uIS",
        "colab_type": "code",
        "colab": {
          "base_uri": "https://localhost:8080/",
          "height": 54
        },
        "outputId": "ab11ee83-e929-4241-b29d-ab5f3f1c0ae9"
      },
      "source": [
        "print({word:log_pxy_more_smooth[word] for (_,word),weight in theta_hand.items() if weight>0})"
      ],
      "execution_count": 48,
      "outputs": [
        {
          "output_type": "stream",
          "text": [
            "{'money': -7.80136351255418, 'name': -7.6911603724205655, 'tonight': -6.405407240522552, 'man': -6.808471387093179, 'fly': -8.607451104294721, '**OFFSET**': 0.0}\n"
          ],
          "name": "stdout"
        }
      ]
    },
    {
      "cell_type": "code",
      "metadata": {
        "id": "agSmLVfaimSI",
        "colab_type": "code",
        "colab": {
          "base_uri": "https://localhost:8080/",
          "height": 102
        },
        "outputId": "c376e19f-4d00-468b-df1f-06e62a147233"
      },
      "source": [
        "! nosetests tests/test_classifier.py:test_d3_2_pxy"
      ],
      "execution_count": 49,
      "outputs": [
        {
          "output_type": "stream",
          "text": [
            ".\n",
            "----------------------------------------------------------------------\n",
            "Ran 1 test in 0.856s\n",
            "\n",
            "OK\n"
          ],
          "name": "stdout"
        }
      ]
    },
    {
      "cell_type": "markdown",
      "metadata": {
        "id": "HvAglX5s5uIY",
        "colab_type": "text"
      },
      "source": [
        "- **Deliverable 3.3**: Now you are ready to implement ```estimate_nb``` in ```naive_bayes.py```. (4 points)\n",
        "- **Test**: `tests/test_classifier.py:test_d3_3a_nb`\n",
        "\n",
        "\n",
        "\n",
        "- The goal is that the score given by ```clf_base.predict``` is equal to the joint probability $P(x,y)$, as described in the notes.\n",
        "- Don't forget the offset feature, whose weights should be set to the prior $\\log P(y)$.\n",
        "- The log-probabilities for the offset feature should not be smoothed.\n",
        "- You can call the functions you have defined above, but you don't have to."
      ]
    },
    {
      "cell_type": "code",
      "metadata": {
        "id": "vgx0l8RH5uIZ",
        "colab_type": "code",
        "colab": {}
      },
      "source": [
        "theta_nb = naive_bayes.estimate_nb(x_tr_pruned,y_tr,0.1)"
      ],
      "execution_count": 50,
      "outputs": []
    },
    {
      "cell_type": "code",
      "metadata": {
        "id": "5guCa-BF5uIe",
        "colab_type": "code",
        "colab": {
          "base_uri": "https://localhost:8080/",
          "height": 102
        },
        "outputId": "a6ef0da3-d65b-49a5-9d8a-e8aa4fc4e044"
      },
      "source": [
        "clf_base.predict(x_tr_pruned[155],theta_nb,labels)"
      ],
      "execution_count": 51,
      "outputs": [
        {
          "output_type": "execute_result",
          "data": {
            "text/plain": [
              "('2000s',\n",
              " {'1980s': -2153.019927798136,\n",
              "  '1990s': -2125.1966084804503,\n",
              "  '2000s': -2099.247401056139,\n",
              "  'pre-1980': -2136.8348423968023})"
            ]
          },
          "metadata": {
            "tags": []
          },
          "execution_count": 51
        }
      ]
    },
    {
      "cell_type": "code",
      "metadata": {
        "id": "SpgQudkT5uIi",
        "colab_type": "code",
        "colab": {
          "base_uri": "https://localhost:8080/",
          "height": 34
        },
        "outputId": "3fe34f0c-368d-4b34-8b86-bcc393e3f06d"
      },
      "source": [
        "y_hat = clf_base.predict_all(x_dv_pruned,theta_nb,labels)\n",
        "print(evaluation.acc(y_hat,y_dv))"
      ],
      "execution_count": 52,
      "outputs": [
        {
          "output_type": "stream",
          "text": [
            "0.46444444444444444\n"
          ],
          "name": "stdout"
        }
      ]
    },
    {
      "cell_type": "code",
      "metadata": {
        "id": "dvoxDEAC5uIm",
        "colab_type": "code",
        "colab": {
          "base_uri": "https://localhost:8080/",
          "height": 34
        },
        "outputId": "0038a136-6cdd-43d7-be50-9ba660288968"
      },
      "source": [
        "# this block shows how we write and read predictions for evaluation\n",
        "evaluation.write_predictions(y_hat,'nb-dev.preds')\n",
        "y_hat_dv = evaluation.read_predictions('nb-dev.preds')\n",
        "evaluation.acc(y_hat_dv,y_dv)"
      ],
      "execution_count": 53,
      "outputs": [
        {
          "output_type": "execute_result",
          "data": {
            "text/plain": [
              "0.46444444444444444"
            ]
          },
          "metadata": {
            "tags": []
          },
          "execution_count": 53
        }
      ]
    },
    {
      "cell_type": "code",
      "metadata": {
        "id": "U4XrM5xG5uIq",
        "colab_type": "code",
        "colab": {}
      },
      "source": [
        "# execute this block to write predictions for the test set\n",
        "y_hat = clf_base.predict_all(x_te_pruned,theta_nb,labels)\n",
        "evaluation.write_predictions(y_hat,'nb-test.preds')"
      ],
      "execution_count": 54,
      "outputs": []
    },
    {
      "cell_type": "code",
      "metadata": {
        "id": "DeKPQkov5uIv",
        "colab_type": "code",
        "colab": {
          "base_uri": "https://localhost:8080/",
          "height": 34
        },
        "outputId": "1a17c27d-27f0-4a48-8c77-d5f6787b54cf"
      },
      "source": [
        "# you can't run this, but this how the grading code works\n",
        "y_hat_te = evaluation.read_predictions('nb-test.preds')\n",
        "evaluation.acc(y_hat_te,y_te)"
      ],
      "execution_count": 55,
      "outputs": [
        {
          "output_type": "execute_result",
          "data": {
            "text/plain": [
              "0.0"
            ]
          },
          "metadata": {
            "tags": []
          },
          "execution_count": 55
        }
      ]
    },
    {
      "cell_type": "code",
      "metadata": {
        "id": "YFBZhoipjK9p",
        "colab_type": "code",
        "colab": {
          "base_uri": "https://localhost:8080/",
          "height": 102
        },
        "outputId": "9a685d1d-0fe2-4448-d97c-9565c5ef1b12"
      },
      "source": [
        "! nosetests tests/test_classifier.py:test_d3_3a_nb"
      ],
      "execution_count": 56,
      "outputs": [
        {
          "output_type": "stream",
          "text": [
            ".\n",
            "----------------------------------------------------------------------\n",
            "Ran 1 test in 1.166s\n",
            "\n",
            "OK\n"
          ],
          "name": "stdout"
        }
      ]
    },
    {
      "cell_type": "markdown",
      "metadata": {
        "id": "MlolueEJ5uI0",
        "colab_type": "text"
      },
      "source": [
        "- **Deliverable 3.4**: Write a function in ```naive_bayes.py``` called ```find_best_smoother```, which finds the smoothing value that gives best performance on the dev data.  (4 points)\n",
        "- **Test**: `tests/test_classifier.py:test_d3_4a_nb_best`\n",
        "\n",
        "Your function should trying at least the following values in `vals` below.\n",
        "\n",
        "Then, using this smoothing value, run your Naive Bayes classifier on the test set, and output the results."
      ]
    },
    {
      "cell_type": "code",
      "metadata": {
        "id": "kAQjZjpu5uI0",
        "colab_type": "code",
        "colab": {
          "base_uri": "https://localhost:8080/",
          "height": 68
        },
        "outputId": "1deca49c-ba28-4190-e25b-0cc1d2508b7b"
      },
      "source": [
        "vals = np.logspace(-3,2,11)\n",
        "print(vals)"
      ],
      "execution_count": 57,
      "outputs": [
        {
          "output_type": "stream",
          "text": [
            "[1.00000000e-03 3.16227766e-03 1.00000000e-02 3.16227766e-02\n",
            " 1.00000000e-01 3.16227766e-01 1.00000000e+00 3.16227766e+00\n",
            " 1.00000000e+01 3.16227766e+01 1.00000000e+02]\n"
          ],
          "name": "stdout"
        }
      ]
    },
    {
      "cell_type": "code",
      "metadata": {
        "id": "yZSSyR6H5uI9",
        "colab_type": "code",
        "colab": {}
      },
      "source": [
        "best_smoother, scores = naive_bayes.find_best_smoother(x_tr_pruned,y_tr,x_dv_pruned,y_dv,vals)"
      ],
      "execution_count": 58,
      "outputs": []
    },
    {
      "cell_type": "code",
      "metadata": {
        "id": "RSVzbXx85uJC",
        "colab_type": "code",
        "colab": {
          "base_uri": "https://localhost:8080/",
          "height": 284
        },
        "outputId": "4431134a-b40a-4091-96ad-ec8e0938d63c"
      },
      "source": [
        "plt.semilogx(list(scores.keys()),list(scores.values()),'o-');\n",
        "plt.xlabel('smoothing')\n",
        "plt.ylabel('dev set accuracy');"
      ],
      "execution_count": 59,
      "outputs": [
        {
          "output_type": "display_data",
          "data": {
            "image/png": "[encoded data removed]",
            "text/plain": [
              "<Figure size 432x288 with 1 Axes>"
            ]
          },
          "metadata": {
            "tags": [],
            "needs_background": "light"
          }
        }
      ]
    },
    {
      "cell_type": "markdown",
      "metadata": {
        "id": "dFMzLBkB5uJF",
        "colab_type": "text"
      },
      "source": [
        "**Reflect:**\n",
        "\n",
        "- what might explain the dramatic drop in accuracy when the smoothing is increased from $10$ to $30$?\n",
        "- before you check, predict whether the accuracy will continue to significantly drop if you further increase the smoothing to $10000$."
      ]
    },
    {
      "cell_type": "code",
      "metadata": {
        "id": "rJb5xREg5uJF",
        "colab_type": "code",
        "colab": {}
      },
      "source": [
        "theta_nb = naive_bayes.estimate_nb(x_tr_pruned,y_tr,best_smoother)\n",
        "y_hat = clf_base.predict_all(x_te_pruned,theta_nb,labels)\n",
        "evaluation.write_predictions(y_hat,'nb-best-test.preds')"
      ],
      "execution_count": 60,
      "outputs": []
    },
    {
      "cell_type": "code",
      "metadata": {
        "id": "05HmG1545uJI",
        "colab_type": "code",
        "colab": {
          "base_uri": "https://localhost:8080/",
          "height": 34
        },
        "outputId": "158ae695-9be5-40dc-fa80-51319011b7f9"
      },
      "source": [
        "# you can't run this\n",
        "y_hat = evaluation.read_predictions('nb-best-test.preds')\n",
        "print(evaluation.acc(y_hat,y_te))"
      ],
      "execution_count": 61,
      "outputs": [
        {
          "output_type": "stream",
          "text": [
            "0.0\n"
          ],
          "name": "stdout"
        }
      ]
    },
    {
      "cell_type": "code",
      "metadata": {
        "id": "pXceqEiIkwpP",
        "colab_type": "code",
        "colab": {
          "base_uri": "https://localhost:8080/",
          "height": 102
        },
        "outputId": "d7d2ab65-ac8f-4e98-90e0-37325512c5e7"
      },
      "source": [
        "! nosetests tests/test_classifier.py:test_d3_4a_nb_best"
      ],
      "execution_count": 62,
      "outputs": [
        {
          "output_type": "stream",
          "text": [
            ".\n",
            "----------------------------------------------------------------------\n",
            "Ran 1 test in 62.427s\n",
            "\n",
            "OK\n"
          ],
          "name": "stdout"
        }
      ]
    },
    {
      "cell_type": "markdown",
      "metadata": {
        "id": "pyS2Ni_l5uJO",
        "colab_type": "text"
      },
      "source": [
        "# 4. Perceptron \n",
        "\n",
        "Total: 12 points\n",
        "\n",
        "The perceptron update is,\n",
        "\n",
        "\\begin{align}\n",
        "\\hat{y} = & \\text{argmax}_y \\theta^\\top f(x,y)\\\\\n",
        "\\theta \\gets & \\theta + f(x,y) - f(x,\\hat{y})\n",
        "\\end{align}\n",
        "\n",
        "You will now implement this classifier, using the file ```mynlplib/perceptron.py```"
      ]
    },
    {
      "cell_type": "code",
      "metadata": {
        "id": "lmsHgM-p5uJO",
        "colab_type": "code",
        "colab": {}
      },
      "source": [
        "from mynlplib import perceptron\n",
        "reload(perceptron);"
      ],
      "execution_count": 63,
      "outputs": []
    },
    {
      "cell_type": "markdown",
      "metadata": {
        "id": "cYtZxoVJ5uJR",
        "colab_type": "text"
      },
      "source": [
        "- **Deliverable 4.1**: Implement the perceptron *update*, $f(x,y) - f(x,\\hat{y})$, in the function ```perceptron_update``` in ```perceptron.py```. (4 points)\n",
        "- **Test**: `tests/test_perceptron.py:test_d4_1_perc_update`"
      ]
    },
    {
      "cell_type": "code",
      "metadata": {
        "id": "h-Nj0rlR5uJR",
        "colab_type": "code",
        "colab": {}
      },
      "source": [
        "theta_perc = defaultdict(float)"
      ],
      "execution_count": 64,
      "outputs": []
    },
    {
      "cell_type": "code",
      "metadata": {
        "id": "_Qwzk5z45uJU",
        "colab_type": "code",
        "colab": {
          "base_uri": "https://localhost:8080/",
          "height": 34
        },
        "outputId": "43c80410-a4ac-43ab-8b91-ccef81889d21"
      },
      "source": [
        "# no update when the prediction is correct\n",
        "i=20\n",
        "update = perceptron.perceptron_update(x_tr_pruned[i],y_tr[i],theta_perc,labels)\n",
        "print(update)"
      ],
      "execution_count": 65,
      "outputs": [
        {
          "output_type": "stream",
          "text": [
            "defaultdict(<class 'float'>, {})\n"
          ],
          "name": "stdout"
        }
      ]
    },
    {
      "cell_type": "code",
      "metadata": {
        "id": "l2yZ2gFV5uJX",
        "colab_type": "code",
        "colab": {
          "base_uri": "https://localhost:8080/",
          "height": 105
        },
        "outputId": "202715c0-37f3-4e05-d64b-6085c77433b3"
      },
      "source": [
        "# update when the prediction is incorrect\n",
        "i=110\n",
        "y_hat,_ = clf_base.predict(x_tr_pruned[i],theta_perc,labels)\n",
        "update =perceptron.perceptron_update(x_tr_pruned[i],y_tr[i],theta_perc,labels)\n",
        "print(list(update.items())[:5])\n",
        "print(len(update))\n",
        "print(y_tr[i],constants.OFFSET,update[((y_tr[i],constants.OFFSET))])\n",
        "print(y_hat,constants.OFFSET,update[((y_hat,constants.OFFSET))])"
      ],
      "execution_count": 66,
      "outputs": [
        {
          "output_type": "stream",
          "text": [
            "[(('2000s', 'with'), 1), (('2000s', 'her'), 1), (('2000s', 'lips'), 1), (('2000s', 'yeah'), 1), (('2000s', 'shes'), 2)]\n",
            "122\n",
            "2000s **OFFSET** 1\n",
            "1980s **OFFSET** -1\n"
          ],
          "name": "stdout"
        }
      ]
    },
    {
      "cell_type": "code",
      "metadata": {
        "id": "-uYJn98Z5uJa",
        "colab_type": "code",
        "colab": {
          "base_uri": "https://localhost:8080/",
          "height": 34
        },
        "outputId": "00e83584-aa24-489b-bac4-9a66193ab7d3"
      },
      "source": [
        "update[(('1980s','with'))]"
      ],
      "execution_count": 67,
      "outputs": [
        {
          "output_type": "execute_result",
          "data": {
            "text/plain": [
              "-1"
            ]
          },
          "metadata": {
            "tags": []
          },
          "execution_count": 67
        }
      ]
    },
    {
      "cell_type": "code",
      "metadata": {
        "id": "BN31Ml-T5uJc",
        "colab_type": "code",
        "colab": {
          "base_uri": "https://localhost:8080/",
          "height": 34
        },
        "outputId": "e67b30db-80e4-44c9-c524-e7eceb13d6df"
      },
      "source": [
        "len(update)"
      ],
      "execution_count": 68,
      "outputs": [
        {
          "output_type": "execute_result",
          "data": {
            "text/plain": [
              "122"
            ]
          },
          "metadata": {
            "tags": []
          },
          "execution_count": 68
        }
      ]
    },
    {
      "cell_type": "code",
      "metadata": {
        "id": "z-OuydY5mR62",
        "colab_type": "code",
        "colab": {
          "base_uri": "https://localhost:8080/",
          "height": 102
        },
        "outputId": "be1e261a-7075-4eb9-acd9-da15093d272a"
      },
      "source": [
        "! nosetests tests/test_perceptron.py:test_d4_1_perc_update"
      ],
      "execution_count": 69,
      "outputs": [
        {
          "output_type": "stream",
          "text": [
            ".\n",
            "----------------------------------------------------------------------\n",
            "Ran 1 test in 0.761s\n",
            "\n",
            "OK\n"
          ],
          "name": "stdout"
        }
      ]
    },
    {
      "cell_type": "markdown",
      "metadata": {
        "id": "60p9auj65uJf",
        "colab_type": "text"
      },
      "source": [
        "Now implement the perceptron algorithm. Your implementation should take as inputs:\n",
        "\n",
        "- The training instances $x$\n",
        "- The training labels $y$\n",
        "- The number of iterations to train\n",
        "\n",
        "It should use your ```update``` function, and it should return:\n",
        "\n",
        "- weights $\\theta$\n",
        "- a list of the weights at each iteration\n",
        "\n",
        "\n",
        "- **Deliverable 4.2**: Implement ```estimate_perceptron``` in ```perceptron.py``` (8 points)\n",
        "- **Test**: `tests/test_perceptron.py:test_d4_2a_perc_estimate`"
      ]
    },
    {
      "cell_type": "code",
      "metadata": {
        "id": "DEMjdsjw5uJg",
        "colab_type": "code",
        "colab": {}
      },
      "source": [
        "reload(perceptron);"
      ],
      "execution_count": 70,
      "outputs": []
    },
    {
      "cell_type": "code",
      "metadata": {
        "id": "zU6Hgmoz5uJi",
        "colab_type": "code",
        "colab": {}
      },
      "source": [
        "theta_perc,theta_perc_history = perceptron.estimate_perceptron(x_tr_pruned[:10],y_tr[:10],3)"
      ],
      "execution_count": 71,
      "outputs": []
    },
    {
      "cell_type": "code",
      "metadata": {
        "id": "66Q63-wr5uJl",
        "colab_type": "code",
        "colab": {
          "base_uri": "https://localhost:8080/",
          "height": 51
        },
        "outputId": "700d1d39-766e-4441-a5cb-f1464dee0e1d"
      },
      "source": [
        "print(theta_perc[('1980s','its')])\n",
        "print(theta_perc[('1980s','what')])"
      ],
      "execution_count": 72,
      "outputs": [
        {
          "output_type": "stream",
          "text": [
            "-15.0\n",
            "4.0\n"
          ],
          "name": "stdout"
        }
      ]
    },
    {
      "cell_type": "code",
      "metadata": {
        "id": "1pUz-yT-5uJn",
        "colab_type": "code",
        "colab": {}
      },
      "source": [
        "theta_perc,theta_perc_history = perceptron.estimate_perceptron(x_tr_pruned,y_tr,20)"
      ],
      "execution_count": 73,
      "outputs": []
    },
    {
      "cell_type": "code",
      "metadata": {
        "id": "xVw3Ux5p5uJp",
        "colab_type": "code",
        "colab": {}
      },
      "source": [
        "# run this to plot the accuracy over iterations\n",
        "def plot_accs(weight_history,x_tr=x_tr_pruned,y_tr=y_tr,x_dv=x_dv_pruned,y_dv=y_dv):\n",
        "    tr_accs = []\n",
        "    dv_accs = []\n",
        "    for theta in weight_history:\n",
        "        tr_accs.append(evaluation.acc(clf_base.predict_all(x_tr,theta,labels),y_tr))\n",
        "        dv_accs.append(evaluation.acc(clf_base.predict_all(x_dv,theta,labels),y_dv))\n",
        "    plt.plot(tr_accs,'--')\n",
        "    plt.plot(dv_accs)\n",
        "    plt.xlabel('iteration')\n",
        "    plt.ylabel('accuracy');\n",
        "    plt.legend(['training','dev'],loc='lower right');\n",
        "    return tr_accs,dv_accs"
      ],
      "execution_count": 74,
      "outputs": []
    },
    {
      "cell_type": "code",
      "metadata": {
        "id": "Z00oneEE5uJr",
        "colab_type": "code",
        "colab": {
          "base_uri": "https://localhost:8080/",
          "height": 34
        },
        "outputId": "3d9d2e77-b6b7-4e0a-ad08-521d66273811"
      },
      "source": [
        "y_hat = clf_base.predict_all(x_dv_pruned,theta_perc,labels)\n",
        "print(evaluation.acc(y_hat,y_dv));"
      ],
      "execution_count": 75,
      "outputs": [
        {
          "output_type": "stream",
          "text": [
            "0.4311111111111111\n"
          ],
          "name": "stdout"
        }
      ]
    },
    {
      "cell_type": "code",
      "metadata": {
        "id": "Ib4-4kVq5uJu",
        "colab_type": "code",
        "colab": {
          "base_uri": "https://localhost:8080/",
          "height": 279
        },
        "outputId": "79a54097-a62a-4c50-dab3-274bf9789be2"
      },
      "source": [
        "plot_accs(theta_perc_history);"
      ],
      "execution_count": 76,
      "outputs": [
        {
          "output_type": "display_data",
          "data": {
            "image/png": "[encoded data removed]",
            "text/plain": [
              "<Figure size 432x288 with 1 Axes>"
            ]
          },
          "metadata": {
            "tags": [],
            "needs_background": "light"
          }
        }
      ]
    },
    {
      "cell_type": "code",
      "metadata": {
        "id": "ueUChYJv5uJy",
        "colab_type": "code",
        "colab": {}
      },
      "source": [
        "# execute this code to write the predictions on the dev and training data\n",
        "y_hat_dv = clf_base.predict_all(x_dv_pruned,theta_perc,labels)\n",
        "evaluation.write_predictions(y_hat_dv,'perc-dev.preds')\n",
        "y_hat_te = clf_base.predict_all(x_te_pruned,theta_perc,labels)\n",
        "evaluation.write_predictions(y_hat_te,'perc-test.preds')"
      ],
      "execution_count": 77,
      "outputs": []
    },
    {
      "cell_type": "code",
      "metadata": {
        "id": "U96CWr_L5uJ3",
        "colab_type": "code",
        "colab": {
          "base_uri": "https://localhost:8080/",
          "height": 34
        },
        "outputId": "b4e8f97f-9f3e-4053-f2fd-180557c15468"
      },
      "source": [
        "y_hat = evaluation.read_predictions('perc-dev.preds')\n",
        "print(evaluation.acc(y_hat,y_dv))"
      ],
      "execution_count": 78,
      "outputs": [
        {
          "output_type": "stream",
          "text": [
            "0.4311111111111111\n"
          ],
          "name": "stdout"
        }
      ]
    },
    {
      "cell_type": "code",
      "metadata": {
        "id": "IcBetAB4oUzQ",
        "colab_type": "code",
        "colab": {
          "base_uri": "https://localhost:8080/",
          "height": 102
        },
        "outputId": "97f4a95c-b52e-4ac2-dd24-a69087f65623"
      },
      "source": [
        "! nosetests tests/test_perceptron.py:test_d4_2a_perc_estimate"
      ],
      "execution_count": 79,
      "outputs": [
        {
          "output_type": "stream",
          "text": [
            ".\n",
            "----------------------------------------------------------------------\n",
            "Ran 1 test in 0.829s\n",
            "\n",
            "OK\n"
          ],
          "name": "stdout"
        }
      ]
    },
    {
      "cell_type": "markdown",
      "metadata": {
        "id": "XoqFXQ-c5uJ5",
        "colab_type": "text"
      },
      "source": [
        "# 5. Logistic regression\n",
        "\n",
        "Total: 14 points\n",
        "\n",
        "Recall that logistic regression computes the conditional probability,\n",
        "\\begin{equation}\n",
        "p(y \\mid x; \\theta) = \\frac{\\exp(\\theta^{\\top} f(x,y))}{\\sum_{y'} \\exp(\\theta^{\\top} f(x,y'))}\n",
        "\\end{equation}\n",
        "and optimizes $\\theta$ for the maximum conditional likelihood,\n",
        "\\begin{equation}\n",
        "\\log p(y^{(1:N)} \\mid x^{(1:N)}; \\theta) = \\sum_{i=1}^{N} \\log p(y^{(i)} \\mid x^{(i)}; \\theta)\n",
        "\\end{equation}\n",
        "on the dataset $\\mathcal{D} = \\{(x^{(i)}, y^{(i)})\\}_{i=1}^{N}$.\n",
        "\n",
        "The optimization can be done by deriving gradients (Eisenstein Ch. 2.5) and updating $\\theta$ iteratively (e.g., stochastic gradient descent) by hand, but many automatic differentiaion libraries can do it for you.\n",
        "\n",
        "You will implement logistic regression in PyTorch."
      ]
    },
    {
      "cell_type": "markdown",
      "metadata": {
        "id": "X7T91-o35uJ6",
        "colab_type": "text"
      },
      "source": [
        "## 5.1 Converting data to numpy\n",
        "\n",
        "Numpy is a package for numerical computing in python.\n",
        "\n",
        "You will need to convert your bag-of-words list of counters to a numpy array.\n",
        "\n",
        "- **Deliverable 5.1**: Implement `preproc.py:make_numpy()` (4 points)\n",
        "- **Test**: `test_pytorch/test_d5_1_numpy`\n",
        "- **Hint**: one approach is to start with `numpy.zeros((height,width))`, and then fill in the cells by iterating through the bag-of-words list"
      ]
    },
    {
      "cell_type": "code",
      "metadata": {
        "id": "tCZ-WBBk5uJ6",
        "colab_type": "code",
        "colab": {
          "base_uri": "https://localhost:8080/",
          "height": 85
        },
        "outputId": "541c1755-d093-4500-8e62-cd633745e9ba"
      },
      "source": [
        "X = np.zeros((4,2))\n",
        "print(X)"
      ],
      "execution_count": 80,
      "outputs": [
        {
          "output_type": "stream",
          "text": [
            "[[0. 0.]\n",
            " [0. 0.]\n",
            " [0. 0.]\n",
            " [0. 0.]]\n"
          ],
          "name": "stdout"
        }
      ]
    },
    {
      "cell_type": "code",
      "metadata": {
        "id": "2WDjbfMB5uJ9",
        "colab_type": "code",
        "colab": {
          "base_uri": "https://localhost:8080/",
          "height": 85
        },
        "outputId": "f3585c91-721c-4fc2-eff5-72d4da83b2a1"
      },
      "source": [
        "X[1,1] = -1\n",
        "X[2,0] = 1.5\n",
        "print(X)"
      ],
      "execution_count": 81,
      "outputs": [
        {
          "output_type": "stream",
          "text": [
            "[[ 0.   0. ]\n",
            " [ 0.  -1. ]\n",
            " [ 1.5  0. ]\n",
            " [ 0.   0. ]]\n"
          ],
          "name": "stdout"
        }
      ]
    },
    {
      "cell_type": "code",
      "metadata": {
        "id": "2oqfRaqb5uKA",
        "colab_type": "code",
        "colab": {}
      },
      "source": [
        "reload(preproc);"
      ],
      "execution_count": 82,
      "outputs": []
    },
    {
      "cell_type": "code",
      "metadata": {
        "id": "XJu3H9FE5uKD",
        "colab_type": "code",
        "colab": {}
      },
      "source": [
        "X_tr = preproc.make_numpy(x_tr_pruned,vocab)\n",
        "X_dv = preproc.make_numpy(x_dv_pruned,vocab)\n",
        "X_te = preproc.make_numpy(x_te_pruned,vocab)"
      ],
      "execution_count": 83,
      "outputs": []
    },
    {
      "cell_type": "code",
      "metadata": {
        "id": "7N_UeR6b5uKF",
        "colab_type": "code",
        "colab": {
          "base_uri": "https://localhost:8080/",
          "height": 34
        },
        "outputId": "c52042ed-bcf8-404d-d4a9-2fff6292e1a9"
      },
      "source": [
        "label_set = sorted(list(set(y_tr)))\n",
        "print(label_set)"
      ],
      "execution_count": 84,
      "outputs": [
        {
          "output_type": "stream",
          "text": [
            "['1980s', '1990s', '2000s', 'pre-1980']\n"
          ],
          "name": "stdout"
        }
      ]
    },
    {
      "cell_type": "code",
      "metadata": {
        "id": "HAUvLLaZ5uKK",
        "colab_type": "code",
        "colab": {}
      },
      "source": [
        "Y_tr = np.array([label_set.index(y_i) for y_i in y_tr])\n",
        "Y_dv = np.array([label_set.index(y_i) for y_i in y_dv])"
      ],
      "execution_count": 85,
      "outputs": []
    },
    {
      "cell_type": "code",
      "metadata": {
        "id": "55ws-ur45uKO",
        "colab_type": "code",
        "colab": {
          "base_uri": "https://localhost:8080/",
          "height": 34
        },
        "outputId": "2597963a-0004-46d2-8251-6f0bd3677854"
      },
      "source": [
        "len(set(Y_tr))"
      ],
      "execution_count": 86,
      "outputs": [
        {
          "output_type": "execute_result",
          "data": {
            "text/plain": [
              "4"
            ]
          },
          "metadata": {
            "tags": []
          },
          "execution_count": 86
        }
      ]
    },
    {
      "cell_type": "code",
      "metadata": {
        "id": "3wOS7Utmopbd",
        "colab_type": "code",
        "colab": {
          "base_uri": "https://localhost:8080/",
          "height": 102
        },
        "outputId": "d41c1aea-6158-4f01-b2e0-0d48ab477ec7"
      },
      "source": [
        "! nosetests tests/test_pytorch.py:test_d5_1_numpy"
      ],
      "execution_count": 87,
      "outputs": [
        {
          "output_type": "stream",
          "text": [
            ".\n",
            "----------------------------------------------------------------------\n",
            "Ran 1 test in 4.270s\n",
            "\n",
            "OK\n"
          ],
          "name": "stdout"
        }
      ]
    },
    {
      "cell_type": "markdown",
      "metadata": {
        "id": "x_07OjcE5uKR",
        "colab_type": "text"
      },
      "source": [
        "## 5.2 Building a logistic regression model\n",
        "\n",
        "- **Deliverable 5.2**: Complete `logreg.build_linear` (2 points)\n",
        "- **Test**: `tests/test_pytorch.py:test_d5_2_logreg`"
      ]
    },
    {
      "cell_type": "code",
      "metadata": {
        "id": "keavD1Ui5uKR",
        "colab_type": "code",
        "colab": {}
      },
      "source": [
        "from mynlplib import logreg\n",
        "reload(logreg);"
      ],
      "execution_count": 88,
      "outputs": []
    },
    {
      "cell_type": "code",
      "metadata": {
        "id": "2ibssCQm5uKT",
        "colab_type": "code",
        "colab": {}
      },
      "source": [
        "torch.manual_seed(765);"
      ],
      "execution_count": 89,
      "outputs": []
    },
    {
      "cell_type": "code",
      "metadata": {
        "id": "6Cds0QBQ5uKV",
        "colab_type": "code",
        "colab": {}
      },
      "source": [
        "X_tr_var = Variable(torch.from_numpy(X_tr.astype(np.float32)))\n",
        "X_dv_var = Variable(torch.from_numpy(X_dv.astype(np.float32)))\n",
        "X_te_var = Variable(torch.from_numpy(X_te.astype(np.float32)))"
      ],
      "execution_count": 90,
      "outputs": []
    },
    {
      "cell_type": "markdown",
      "metadata": {
        "id": "qx6McROT5uKa",
        "colab_type": "text"
      },
      "source": [
        "It's always a good idea to check the dimensions of your data first."
      ]
    },
    {
      "cell_type": "code",
      "metadata": {
        "id": "VDG_AqKi5uKa",
        "colab_type": "code",
        "colab": {
          "base_uri": "https://localhost:8080/",
          "height": 51
        },
        "outputId": "c2362dff-d631-4507-d636-4eaac437482a"
      },
      "source": [
        "print(X_tr_var.size())\n",
        "print(X_dv_var.size())"
      ],
      "execution_count": 91,
      "outputs": [
        {
          "output_type": "stream",
          "text": [
            "torch.Size([4000, 4875])\n",
            "torch.Size([450, 4875])\n"
          ],
          "name": "stdout"
        }
      ]
    },
    {
      "cell_type": "code",
      "metadata": {
        "id": "2-kOJKJf5uKd",
        "colab_type": "code",
        "colab": {}
      },
      "source": [
        "model = logreg.build_linear(X_tr,Y_tr)"
      ],
      "execution_count": 92,
      "outputs": []
    },
    {
      "cell_type": "code",
      "metadata": {
        "id": "EfO2oYLo5uKh",
        "colab_type": "code",
        "colab": {
          "base_uri": "https://localhost:8080/",
          "height": 136
        },
        "outputId": "b47d3efa-4ec7-4ee2-a226-72ac827dd4e9"
      },
      "source": [
        "scores = model.forward(X_dv_var)\n",
        "print(scores.data)"
      ],
      "execution_count": 93,
      "outputs": [
        {
          "output_type": "stream",
          "text": [
            "tensor([[-0.7673, -0.7583, -0.3767,  0.0325],\n",
            "        [ 0.1110, -0.3801, -0.3979,  0.1642],\n",
            "        [-1.8015, -0.5595, -3.5092,  0.9633],\n",
            "        ...,\n",
            "        [-0.3965,  0.0962, -0.4972, -0.1959],\n",
            "        [-0.1721, -0.5167, -0.2574,  0.1571],\n",
            "        [-0.3643,  0.0312, -0.4181,  0.4564]])\n"
          ],
          "name": "stdout"
        }
      ]
    },
    {
      "cell_type": "code",
      "metadata": {
        "id": "8BX_oJZvpw6x",
        "colab_type": "code",
        "colab": {
          "base_uri": "https://localhost:8080/",
          "height": 102
        },
        "outputId": "c1148986-69e7-493d-be9b-97d691bdcfc9"
      },
      "source": [
        "! nosetests tests/test_pytorch.py:test_d5_2_logreg"
      ],
      "execution_count": 94,
      "outputs": [
        {
          "output_type": "stream",
          "text": [
            ".\n",
            "----------------------------------------------------------------------\n",
            "Ran 1 test in 3.801s\n",
            "\n",
            "OK\n"
          ],
          "name": "stdout"
        }
      ]
    },
    {
      "cell_type": "markdown",
      "metadata": {
        "id": "-mpVt-bo5uKj",
        "colab_type": "text"
      },
      "source": [
        "## 5.3 Adding a log-softmax layer\n",
        "\n",
        "We've done it for you in PyTorch. Write your own log-softmax function in numpy and verify the results.\n",
        "\n",
        "- **Deliverable 5.3**: Complete `logreg.log_softmax` (2 points)\n",
        "- **Test**: `tests/test_pytorch.py:test_d5_3_log_softmax`"
      ]
    },
    {
      "cell_type": "code",
      "metadata": {
        "id": "TdD1Ddpe5uKk",
        "colab_type": "code",
        "colab": {}
      },
      "source": [
        "model.add_module('softmax',torch.nn.LogSoftmax(dim=1))"
      ],
      "execution_count": 95,
      "outputs": []
    },
    {
      "cell_type": "code",
      "metadata": {
        "id": "4diSNF305uKm",
        "colab_type": "code",
        "colab": {
          "base_uri": "https://localhost:8080/",
          "height": 68
        },
        "outputId": "ffa3bba4-be0e-4f29-e4db-2ba773c21d0c"
      },
      "source": [
        "model.forward(X_dv_var)[:3].data"
      ],
      "execution_count": 96,
      "outputs": [
        {
          "output_type": "execute_result",
          "data": {
            "text/plain": [
              "tensor([[-1.7426, -1.7336, -1.3520, -0.9427],\n",
              "        [-1.1841, -1.6752, -1.6930, -1.1309],\n",
              "        [-3.0214, -1.7793, -4.7291, -0.2566]])"
            ]
          },
          "metadata": {
            "tags": []
          },
          "execution_count": 96
        }
      ]
    },
    {
      "cell_type": "code",
      "metadata": {
        "id": "K-hXTVWu5uKo",
        "colab_type": "code",
        "colab": {
          "base_uri": "https://localhost:8080/",
          "height": 68
        },
        "outputId": "bcafcb98-9f57-459b-cc9d-4f94b37545da"
      },
      "source": [
        "model.forward(X_dv_var)[:3].exp().data"
      ],
      "execution_count": 97,
      "outputs": [
        {
          "output_type": "execute_result",
          "data": {
            "text/plain": [
              "tensor([[0.1751, 0.1767, 0.2587, 0.3896],\n",
              "        [0.3060, 0.1873, 0.1840, 0.3227],\n",
              "        [0.0487, 0.1688, 0.0088, 0.7737]])"
            ]
          },
          "metadata": {
            "tags": []
          },
          "execution_count": 97
        }
      ]
    },
    {
      "cell_type": "markdown",
      "metadata": {
        "id": "YLRk2tqY5uKq",
        "colab_type": "text"
      },
      "source": [
        "Notice that each row sums up to one."
      ]
    },
    {
      "cell_type": "code",
      "metadata": {
        "id": "kU9uBUtE5uKq",
        "colab_type": "code",
        "colab": {
          "base_uri": "https://localhost:8080/",
          "height": 34
        },
        "outputId": "44b6a847-dad0-4696-cac8-99834175adea"
      },
      "source": [
        "model.forward(X_dv_var)[:3].exp().sum(dim=1).data"
      ],
      "execution_count": 98,
      "outputs": [
        {
          "output_type": "execute_result",
          "data": {
            "text/plain": [
              "tensor([1.0000, 1.0000, 1.0000])"
            ]
          },
          "metadata": {
            "tags": []
          },
          "execution_count": 98
        }
      ]
    },
    {
      "cell_type": "code",
      "metadata": {
        "id": "5NmU5LZ45uKs",
        "colab_type": "code",
        "colab": {}
      },
      "source": [
        "reload(logreg);"
      ],
      "execution_count": 99,
      "outputs": []
    },
    {
      "cell_type": "code",
      "metadata": {
        "id": "_hn3E-C55uKu",
        "colab_type": "code",
        "colab": {
          "base_uri": "https://localhost:8080/",
          "height": 85
        },
        "outputId": "40f9ae6a-f4f9-4799-e74f-25a12682a0c7"
      },
      "source": [
        "logreg.log_softmax(scores[:3].data.numpy()) "
      ],
      "execution_count": 100,
      "outputs": [
        {
          "output_type": "execute_result",
          "data": {
            "text/plain": [
              "array([[-1.7426361 , -1.7335784 , -1.3519609 , -0.9427422 ],\n",
              "       [-1.1840885 , -1.6752369 , -1.6929629 , -1.1309156 ],\n",
              "       [-3.0213723 , -1.7793283 , -4.7291145 , -0.25659692]],\n",
              "      dtype=float32)"
            ]
          },
          "metadata": {
            "tags": []
          },
          "execution_count": 100
        }
      ]
    },
    {
      "cell_type": "code",
      "metadata": {
        "id": "uyUuK-VnqtSb",
        "colab_type": "code",
        "colab": {
          "base_uri": "https://localhost:8080/",
          "height": 102
        },
        "outputId": "549510ba-5787-45de-df9b-fb117cfcc642"
      },
      "source": [
        "! nosetests tests/test_pytorch.py:test_d5_3_log_softmax"
      ],
      "execution_count": 101,
      "outputs": [
        {
          "output_type": "stream",
          "text": [
            ".\n",
            "----------------------------------------------------------------------\n",
            "Ran 1 test in 3.798s\n",
            "\n",
            "OK\n"
          ],
          "name": "stdout"
        }
      ]
    },
    {
      "cell_type": "markdown",
      "metadata": {
        "id": "pdV3giKl5uKx",
        "colab_type": "text"
      },
      "source": [
        "These should be very close to the PyTorch results."
      ]
    },
    {
      "cell_type": "markdown",
      "metadata": {
        "id": "aetWZ3Ms5uKx",
        "colab_type": "text"
      },
      "source": [
        "## 5.4 Negative Log-Likelihood Loss\n",
        "\n",
        "A loss function tells you how well your model is doing. It produces gradients that allows the optimizer to tune the model weights. We've done the Pytorch call for you, try implementing this yourself in numpy!\n",
        "\n",
        "- **Deliverable 5.4**: Complete `logreg.nll_loss` (2 points)\n",
        "- **Test**: `tests/test_pytorch.py:test_d5_4_nll_loss`"
      ]
    },
    {
      "cell_type": "code",
      "metadata": {
        "id": "R1ylXWVK5uKy",
        "colab_type": "code",
        "colab": {}
      },
      "source": [
        "loss = torch.nn.NLLLoss()"
      ],
      "execution_count": 102,
      "outputs": []
    },
    {
      "cell_type": "code",
      "metadata": {
        "id": "nmSCJMhe5uK0",
        "colab_type": "code",
        "colab": {}
      },
      "source": [
        "Y_tr_var = Variable(torch.from_numpy(Y_tr))\n",
        "Y_dv_var = Variable(torch.from_numpy(Y_dv))"
      ],
      "execution_count": 103,
      "outputs": []
    },
    {
      "cell_type": "code",
      "metadata": {
        "id": "Xoyb7lXp5uK2",
        "colab_type": "code",
        "colab": {
          "base_uri": "https://localhost:8080/",
          "height": 34
        },
        "outputId": "5f96b60e-4811-4401-b266-1fedbac30e77"
      },
      "source": [
        "logP = model.forward(X_tr_var)\n",
        "print(loss.forward(logP, Y_tr_var).data)"
      ],
      "execution_count": 104,
      "outputs": [
        {
          "output_type": "stream",
          "text": [
            "tensor(1.5013)\n"
          ],
          "name": "stdout"
        }
      ]
    },
    {
      "cell_type": "code",
      "metadata": {
        "id": "SPxk9yh95uK4",
        "colab_type": "code",
        "colab": {}
      },
      "source": [
        "reload(logreg);"
      ],
      "execution_count": 105,
      "outputs": []
    },
    {
      "cell_type": "code",
      "metadata": {
        "id": "_OuENXM_5uK6",
        "colab_type": "code",
        "colab": {
          "base_uri": "https://localhost:8080/",
          "height": 34
        },
        "outputId": "3ed86cc6-cb37-4642-cd5b-5687e9151b67"
      },
      "source": [
        "logreg.nll_loss(logP.data.numpy(), Y_tr)"
      ],
      "execution_count": 106,
      "outputs": [
        {
          "output_type": "execute_result",
          "data": {
            "text/plain": [
              "1.5013313026838004"
            ]
          },
          "metadata": {
            "tags": []
          },
          "execution_count": 106
        }
      ]
    },
    {
      "cell_type": "markdown",
      "metadata": {
        "id": "Z0s60Hji5uK-",
        "colab_type": "text"
      },
      "source": [
        "Again, This should be very similar to the PyTorch result above."
      ]
    },
    {
      "cell_type": "code",
      "metadata": {
        "id": "b-73fNImq9Pf",
        "colab_type": "code",
        "colab": {
          "base_uri": "https://localhost:8080/",
          "height": 102
        },
        "outputId": "0e21d97a-8216-4eda-d693-c3166bde6fb4"
      },
      "source": [
        "! nosetests tests/test_pytorch.py:test_d5_4_nll_loss"
      ],
      "execution_count": 107,
      "outputs": [
        {
          "output_type": "stream",
          "text": [
            ".\n",
            "----------------------------------------------------------------------\n",
            "Ran 1 test in 3.839s\n",
            "\n",
            "OK\n"
          ],
          "name": "stdout"
        }
      ]
    },
    {
      "cell_type": "markdown",
      "metadata": {
        "id": "Vst4D39g5uK-",
        "colab_type": "text"
      },
      "source": [
        "## 5.5 Putting everything together\n",
        "\n",
        "An optimizer can be used to actually learn the weights. We provide the complete code below that you can train on in `logreg.train_model`."
      ]
    },
    {
      "cell_type": "code",
      "metadata": {
        "id": "3_2gMdtC5uK_",
        "colab_type": "code",
        "colab": {}
      },
      "source": [
        "reload(logreg);"
      ],
      "execution_count": 108,
      "outputs": []
    },
    {
      "cell_type": "code",
      "metadata": {
        "id": "YlJAkoA_5uLB",
        "colab_type": "code",
        "colab": {}
      },
      "source": [
        "# build a new model with a fixed seed\n",
        "torch.manual_seed(765)\n",
        "model = logreg.build_linear(X_tr,Y_tr)\n",
        "model.add_module('softmax',torch.nn.LogSoftmax(dim=1))"
      ],
      "execution_count": 109,
      "outputs": []
    },
    {
      "cell_type": "code",
      "metadata": {
        "id": "D36EsaT85uLE",
        "colab_type": "code",
        "colab": {
          "base_uri": "https://localhost:8080/",
          "height": 187
        },
        "outputId": "3bd0cff8-910e-4e6b-d718-8b2eb6600c74"
      },
      "source": [
        "model_trained, losses, accuracies = logreg.train_model(loss,model,\n",
        "                                                       X_tr_var,\n",
        "                                                       Y_tr_var,\n",
        "                                                       X_dv_var=X_dv_var,\n",
        "                                                       Y_dv_var = Y_dv_var,\n",
        "                                                       num_its=100,\n",
        "                                                       optim_args={'lr':0.02})"
      ],
      "execution_count": 110,
      "outputs": [
        {
          "output_type": "stream",
          "text": [
            "Epoch 1: Dev Accuracy: 0.2822222222222222\n",
            "Epoch 11: Dev Accuracy: 0.29555555555555557\n",
            "Epoch 21: Dev Accuracy: 0.29555555555555557\n",
            "Epoch 31: Dev Accuracy: 0.31333333333333335\n",
            "Epoch 41: Dev Accuracy: 0.31555555555555553\n",
            "Epoch 51: Dev Accuracy: 0.37333333333333335\n",
            "Epoch 61: Dev Accuracy: 0.3688888888888889\n",
            "Epoch 71: Dev Accuracy: 0.3466666666666667\n",
            "Epoch 81: Dev Accuracy: 0.39555555555555555\n",
            "Epoch 91: Dev Accuracy: 0.33555555555555555\n"
          ],
          "name": "stdout"
        }
      ]
    },
    {
      "cell_type": "code",
      "metadata": {
        "id": "4kyWjsq-5uLG",
        "colab_type": "code",
        "colab": {
          "base_uri": "https://localhost:8080/",
          "height": 171
        },
        "outputId": "90c5be82-cdef-4d3b-f073-7d554e205ff0"
      },
      "source": [
        "logreg.plot_results(losses,accuracies)"
      ],
      "execution_count": 111,
      "outputs": [
        {
          "output_type": "display_data",
          "data": {
            "image/png": "[encoded data removed]",
            "text/plain": [
              "<Figure size 864x144 with 2 Axes>"
            ]
          },
          "metadata": {
            "tags": [],
            "needs_background": "light"
          }
        }
      ]
    },
    {
      "cell_type": "markdown",
      "metadata": {
        "id": "Hu97XyT75uLI",
        "colab_type": "text"
      },
      "source": [
        "**Deliverable 5.5**\n",
        "The noisy progress of the loss and dev set accuracy suggests that something is wrong with our hyperparameters. Tune the inputs to `train_model` until you can get to a dev set accuracy of at least 0.5. (4 points)"
      ]
    },
    {
      "cell_type": "code",
      "metadata": {
        "id": "IQHr7Dik5uLJ",
        "colab_type": "code",
        "colab": {}
      },
      "source": [
        "# build a new model with a fixed seed\n",
        "torch.manual_seed(765)\n",
        "model = logreg.build_linear(X_tr,Y_tr)\n",
        "model.add_module('softmax',torch.nn.LogSoftmax(dim=1))"
      ],
      "execution_count": 112,
      "outputs": []
    },
    {
      "cell_type": "code",
      "metadata": {
        "id": "FR9fCGJ75uLK",
        "colab_type": "code",
        "colab": {
          "base_uri": "https://localhost:8080/",
          "height": 1000
        },
        "outputId": "3b7152b8-9612-4186-9474-30fd012aec41"
      },
      "source": [
        "model_trained, losses, accuracies = logreg.train_model(loss,model,\n",
        "                                                       X_tr_var,\n",
        "                                                       Y_tr_var,\n",
        "                                                       X_dv_var=X_dv_var,\n",
        "                                                       Y_dv_var = Y_dv_var,\n",
        "                                                       num_its=1500,\n",
        "                                                       optim_args={'lr':0.3, 'momentum':0.9})"
      ],
      "execution_count": 113,
      "outputs": [
        {
          "output_type": "stream",
          "text": [
            "Epoch 1: Dev Accuracy: 0.2822222222222222\n",
            "Epoch 11: Dev Accuracy: 0.3244444444444444\n",
            "Epoch 21: Dev Accuracy: 0.3688888888888889\n",
            "Epoch 31: Dev Accuracy: 0.4\n",
            "Epoch 41: Dev Accuracy: 0.4288888888888889\n",
            "Epoch 51: Dev Accuracy: 0.4622222222222222\n",
            "Epoch 61: Dev Accuracy: 0.38222222222222224\n",
            "Epoch 71: Dev Accuracy: 0.45111111111111113\n",
            "Epoch 81: Dev Accuracy: 0.49333333333333335\n",
            "Epoch 91: Dev Accuracy: 0.45111111111111113\n",
            "Epoch 101: Dev Accuracy: 0.5\n",
            "Epoch 111: Dev Accuracy: 0.3977777777777778\n",
            "Epoch 121: Dev Accuracy: 0.45555555555555555\n",
            "Epoch 131: Dev Accuracy: 0.4577777777777778\n",
            "Epoch 141: Dev Accuracy: 0.4777777777777778\n",
            "Epoch 151: Dev Accuracy: 0.3977777777777778\n",
            "Epoch 161: Dev Accuracy: 0.4088888888888889\n",
            "Epoch 171: Dev Accuracy: 0.3622222222222222\n",
            "Epoch 181: Dev Accuracy: 0.39111111111111113\n",
            "Epoch 191: Dev Accuracy: 0.45111111111111113\n",
            "Epoch 201: Dev Accuracy: 0.48\n",
            "Epoch 211: Dev Accuracy: 0.48\n",
            "Epoch 221: Dev Accuracy: 0.4866666666666667\n",
            "Epoch 231: Dev Accuracy: 0.48444444444444446\n",
            "Epoch 241: Dev Accuracy: 0.48444444444444446\n",
            "Epoch 251: Dev Accuracy: 0.4888888888888889\n",
            "Epoch 261: Dev Accuracy: 0.4888888888888889\n",
            "Epoch 271: Dev Accuracy: 0.49777777777777776\n",
            "Epoch 281: Dev Accuracy: 0.48444444444444446\n",
            "Epoch 291: Dev Accuracy: 0.4866666666666667\n",
            "Epoch 301: Dev Accuracy: 0.4888888888888889\n",
            "Epoch 311: Dev Accuracy: 0.48444444444444446\n",
            "Epoch 321: Dev Accuracy: 0.48\n",
            "Epoch 331: Dev Accuracy: 0.4666666666666667\n",
            "Epoch 341: Dev Accuracy: 0.4777777777777778\n",
            "Epoch 351: Dev Accuracy: 0.4822222222222222\n",
            "Epoch 361: Dev Accuracy: 0.4777777777777778\n",
            "Epoch 371: Dev Accuracy: 0.4777777777777778\n",
            "Epoch 381: Dev Accuracy: 0.4777777777777778\n",
            "Epoch 391: Dev Accuracy: 0.4777777777777778\n",
            "Epoch 401: Dev Accuracy: 0.48\n",
            "Epoch 411: Dev Accuracy: 0.48\n",
            "Epoch 421: Dev Accuracy: 0.4822222222222222\n",
            "Epoch 431: Dev Accuracy: 0.48\n",
            "Epoch 441: Dev Accuracy: 0.4822222222222222\n",
            "Epoch 451: Dev Accuracy: 0.4822222222222222\n",
            "Epoch 461: Dev Accuracy: 0.48\n",
            "Epoch 471: Dev Accuracy: 0.48\n",
            "Epoch 481: Dev Accuracy: 0.48\n",
            "Epoch 491: Dev Accuracy: 0.48\n",
            "Epoch 501: Dev Accuracy: 0.4822222222222222\n",
            "Epoch 511: Dev Accuracy: 0.4822222222222222\n",
            "Epoch 521: Dev Accuracy: 0.4822222222222222\n",
            "Epoch 531: Dev Accuracy: 0.4822222222222222\n",
            "Epoch 541: Dev Accuracy: 0.4822222222222222\n",
            "Epoch 551: Dev Accuracy: 0.4822222222222222\n",
            "Epoch 561: Dev Accuracy: 0.4822222222222222\n",
            "Epoch 571: Dev Accuracy: 0.4822222222222222\n",
            "Epoch 581: Dev Accuracy: 0.48444444444444446\n",
            "Epoch 591: Dev Accuracy: 0.48444444444444446\n",
            "Epoch 601: Dev Accuracy: 0.48444444444444446\n",
            "Epoch 611: Dev Accuracy: 0.48444444444444446\n",
            "Epoch 621: Dev Accuracy: 0.48444444444444446\n",
            "Epoch 631: Dev Accuracy: 0.4822222222222222\n",
            "Epoch 641: Dev Accuracy: 0.4822222222222222\n",
            "Epoch 651: Dev Accuracy: 0.4822222222222222\n",
            "Epoch 661: Dev Accuracy: 0.4822222222222222\n",
            "Epoch 671: Dev Accuracy: 0.4822222222222222\n",
            "Epoch 681: Dev Accuracy: 0.48444444444444446\n",
            "Epoch 691: Dev Accuracy: 0.48444444444444446\n",
            "Epoch 701: Dev Accuracy: 0.48444444444444446\n",
            "Epoch 711: Dev Accuracy: 0.4866666666666667\n",
            "Epoch 721: Dev Accuracy: 0.4866666666666667\n",
            "Epoch 731: Dev Accuracy: 0.4866666666666667\n",
            "Epoch 741: Dev Accuracy: 0.4866666666666667\n",
            "Epoch 751: Dev Accuracy: 0.4866666666666667\n",
            "Epoch 761: Dev Accuracy: 0.4866666666666667\n",
            "Epoch 771: Dev Accuracy: 0.48444444444444446\n",
            "Epoch 781: Dev Accuracy: 0.48444444444444446\n",
            "Epoch 791: Dev Accuracy: 0.4866666666666667\n",
            "Epoch 801: Dev Accuracy: 0.48444444444444446\n",
            "Epoch 811: Dev Accuracy: 0.48444444444444446\n",
            "Epoch 821: Dev Accuracy: 0.48444444444444446\n",
            "Epoch 831: Dev Accuracy: 0.4866666666666667\n",
            "Epoch 841: Dev Accuracy: 0.4866666666666667\n",
            "Epoch 851: Dev Accuracy: 0.4866666666666667\n",
            "Epoch 861: Dev Accuracy: 0.48444444444444446\n",
            "Epoch 871: Dev Accuracy: 0.48444444444444446\n",
            "Epoch 881: Dev Accuracy: 0.4822222222222222\n",
            "Epoch 891: Dev Accuracy: 0.4822222222222222\n",
            "Epoch 901: Dev Accuracy: 0.48\n",
            "Epoch 911: Dev Accuracy: 0.48\n",
            "Epoch 921: Dev Accuracy: 0.4777777777777778\n",
            "Epoch 931: Dev Accuracy: 0.4777777777777778\n",
            "Epoch 941: Dev Accuracy: 0.47555555555555556\n",
            "Epoch 951: Dev Accuracy: 0.47555555555555556\n",
            "Epoch 961: Dev Accuracy: 0.47555555555555556\n",
            "Epoch 971: Dev Accuracy: 0.47555555555555556\n",
            "Epoch 981: Dev Accuracy: 0.47333333333333333\n",
            "Epoch 991: Dev Accuracy: 0.47333333333333333\n",
            "Epoch 1001: Dev Accuracy: 0.47333333333333333\n",
            "Epoch 1011: Dev Accuracy: 0.47333333333333333\n",
            "Epoch 1021: Dev Accuracy: 0.47333333333333333\n",
            "Epoch 1031: Dev Accuracy: 0.47333333333333333\n",
            "Epoch 1041: Dev Accuracy: 0.47333333333333333\n",
            "Epoch 1051: Dev Accuracy: 0.4711111111111111\n",
            "Epoch 1061: Dev Accuracy: 0.4711111111111111\n",
            "Epoch 1071: Dev Accuracy: 0.4711111111111111\n",
            "Epoch 1081: Dev Accuracy: 0.4711111111111111\n",
            "Epoch 1091: Dev Accuracy: 0.4711111111111111\n",
            "Epoch 1101: Dev Accuracy: 0.4711111111111111\n",
            "Epoch 1111: Dev Accuracy: 0.4711111111111111\n",
            "Epoch 1121: Dev Accuracy: 0.4711111111111111\n",
            "Epoch 1131: Dev Accuracy: 0.4711111111111111\n",
            "Epoch 1141: Dev Accuracy: 0.4711111111111111\n",
            "Epoch 1151: Dev Accuracy: 0.4688888888888889\n",
            "Epoch 1161: Dev Accuracy: 0.4688888888888889\n",
            "Epoch 1171: Dev Accuracy: 0.4688888888888889\n",
            "Epoch 1181: Dev Accuracy: 0.4688888888888889\n",
            "Epoch 1191: Dev Accuracy: 0.4688888888888889\n",
            "Epoch 1201: Dev Accuracy: 0.4688888888888889\n",
            "Epoch 1211: Dev Accuracy: 0.4688888888888889\n",
            "Epoch 1221: Dev Accuracy: 0.4688888888888889\n",
            "Epoch 1231: Dev Accuracy: 0.4688888888888889\n",
            "Epoch 1241: Dev Accuracy: 0.4688888888888889\n",
            "Epoch 1251: Dev Accuracy: 0.4711111111111111\n",
            "Epoch 1261: Dev Accuracy: 0.4711111111111111\n",
            "Epoch 1271: Dev Accuracy: 0.4711111111111111\n",
            "Epoch 1281: Dev Accuracy: 0.4711111111111111\n",
            "Epoch 1291: Dev Accuracy: 0.4711111111111111\n",
            "Epoch 1301: Dev Accuracy: 0.4711111111111111\n",
            "Epoch 1311: Dev Accuracy: 0.4711111111111111\n",
            "Epoch 1321: Dev Accuracy: 0.4711111111111111\n",
            "Epoch 1331: Dev Accuracy: 0.4711111111111111\n",
            "Epoch 1341: Dev Accuracy: 0.4711111111111111\n",
            "Epoch 1351: Dev Accuracy: 0.4711111111111111\n",
            "Epoch 1361: Dev Accuracy: 0.4711111111111111\n",
            "Epoch 1371: Dev Accuracy: 0.4711111111111111\n",
            "Epoch 1381: Dev Accuracy: 0.4711111111111111\n",
            "Epoch 1391: Dev Accuracy: 0.4711111111111111\n",
            "Epoch 1401: Dev Accuracy: 0.4711111111111111\n",
            "Epoch 1411: Dev Accuracy: 0.4711111111111111\n",
            "Epoch 1421: Dev Accuracy: 0.4711111111111111\n",
            "Epoch 1431: Dev Accuracy: 0.4711111111111111\n",
            "Epoch 1441: Dev Accuracy: 0.4711111111111111\n",
            "Epoch 1451: Dev Accuracy: 0.4711111111111111\n",
            "Epoch 1461: Dev Accuracy: 0.4711111111111111\n",
            "Epoch 1471: Dev Accuracy: 0.4711111111111111\n",
            "Epoch 1481: Dev Accuracy: 0.4711111111111111\n",
            "Epoch 1491: Dev Accuracy: 0.4711111111111111\n"
          ],
          "name": "stdout"
        }
      ]
    },
    {
      "cell_type": "code",
      "metadata": {
        "id": "mr7-DROm5uLM",
        "colab_type": "code",
        "colab": {}
      },
      "source": [
        "_, Y_hat_dv = model_trained.forward(X_dv_var).max(dim=1)\n",
        "np.save('logreg-es-dev.preds.npy', Y_hat_dv.data.numpy())"
      ],
      "execution_count": 114,
      "outputs": []
    },
    {
      "cell_type": "code",
      "metadata": {
        "id": "4hpQRlYR5uLP",
        "colab_type": "code",
        "colab": {
          "base_uri": "https://localhost:8080/",
          "height": 34
        },
        "outputId": "676ea715-9197-4fcc-dc20-31d8e39af01c"
      },
      "source": [
        "acc = evaluation.acc(np.load('logreg-es-dev.preds.npy'),Y_dv_var.data.numpy())\n",
        "print(acc)"
      ],
      "execution_count": 115,
      "outputs": [
        {
          "output_type": "stream",
          "text": [
            "0.5133333333333333\n"
          ],
          "name": "stdout"
        }
      ]
    },
    {
      "cell_type": "code",
      "metadata": {
        "id": "RhZRzjDc5uLQ",
        "colab_type": "code",
        "colab": {}
      },
      "source": [
        "_, Y_hat_te = model_trained.forward(X_te_var).max(dim=1)\n",
        "np.save('logreg-es-test.preds.npy', Y_hat_te.data.numpy())"
      ],
      "execution_count": 116,
      "outputs": []
    },
    {
      "cell_type": "code",
      "metadata": {
        "scrolled": true,
        "id": "sNLLh1XD5uLS",
        "colab_type": "code",
        "colab": {
          "base_uri": "https://localhost:8080/",
          "height": 350
        },
        "outputId": "b00deff3-aa54-461e-95aa-cbd6a257b4a8"
      },
      "source": [
        "# You can't run this\n",
        "Y_te = np.array([label_set.index(y_i) for y_i in y_te])\n",
        "Y_te_var = Variable(torch.from_numpy(Y_te))\n",
        "acc = evaluation.acc(np.load('logreg-es-test.preds.npy'),Y_te_var.data.numpy())\n",
        "print(acc)"
      ],
      "execution_count": 257,
      "outputs": [
        {
          "output_type": "error",
          "ename": "ValueError",
          "evalue": "ignored",
          "traceback": [
            "\u001b[0;31m---------------------------------------------------------------------------\u001b[0m",
            "\u001b[0;31mValueError\u001b[0m                                Traceback (most recent call last)",
            "\u001b[0;32m<ipython-input-257-9db7c1b69d8d>\u001b[0m in \u001b[0;36m<module>\u001b[0;34m()\u001b[0m\n\u001b[1;32m      1\u001b[0m \u001b[0;31m# You can't run this\u001b[0m\u001b[0;34m\u001b[0m\u001b[0;34m\u001b[0m\u001b[0;34m\u001b[0m\u001b[0m\n\u001b[0;32m----> 2\u001b[0;31m \u001b[0mY_te\u001b[0m \u001b[0;34m=\u001b[0m \u001b[0mnp\u001b[0m\u001b[0;34m.\u001b[0m\u001b[0marray\u001b[0m\u001b[0;34m(\u001b[0m\u001b[0;34m[\u001b[0m\u001b[0mlabel_set\u001b[0m\u001b[0;34m.\u001b[0m\u001b[0mindex\u001b[0m\u001b[0;34m(\u001b[0m\u001b[0my_i\u001b[0m\u001b[0;34m)\u001b[0m \u001b[0;32mfor\u001b[0m \u001b[0my_i\u001b[0m \u001b[0;32min\u001b[0m \u001b[0my_te\u001b[0m\u001b[0;34m]\u001b[0m\u001b[0;34m)\u001b[0m\u001b[0;34m\u001b[0m\u001b[0;34m\u001b[0m\u001b[0m\n\u001b[0m\u001b[1;32m      3\u001b[0m \u001b[0mY_te_var\u001b[0m \u001b[0;34m=\u001b[0m \u001b[0mVariable\u001b[0m\u001b[0;34m(\u001b[0m\u001b[0mtorch\u001b[0m\u001b[0;34m.\u001b[0m\u001b[0mfrom_numpy\u001b[0m\u001b[0;34m(\u001b[0m\u001b[0mY_te\u001b[0m\u001b[0;34m)\u001b[0m\u001b[0;34m)\u001b[0m\u001b[0;34m\u001b[0m\u001b[0;34m\u001b[0m\u001b[0m\n\u001b[1;32m      4\u001b[0m \u001b[0macc\u001b[0m \u001b[0;34m=\u001b[0m \u001b[0mevaluation\u001b[0m\u001b[0;34m.\u001b[0m\u001b[0macc\u001b[0m\u001b[0;34m(\u001b[0m\u001b[0mnp\u001b[0m\u001b[0;34m.\u001b[0m\u001b[0mload\u001b[0m\u001b[0;34m(\u001b[0m\u001b[0;34m'logreg-es-test.preds.npy'\u001b[0m\u001b[0;34m)\u001b[0m\u001b[0;34m,\u001b[0m\u001b[0mY_te_var\u001b[0m\u001b[0;34m.\u001b[0m\u001b[0mdata\u001b[0m\u001b[0;34m.\u001b[0m\u001b[0mnumpy\u001b[0m\u001b[0;34m(\u001b[0m\u001b[0;34m)\u001b[0m\u001b[0;34m)\u001b[0m\u001b[0;34m\u001b[0m\u001b[0;34m\u001b[0m\u001b[0m\n\u001b[1;32m      5\u001b[0m \u001b[0mprint\u001b[0m\u001b[0;34m(\u001b[0m\u001b[0macc\u001b[0m\u001b[0;34m)\u001b[0m\u001b[0;34m\u001b[0m\u001b[0;34m\u001b[0m\u001b[0m\n",
            "\u001b[0;32m<ipython-input-257-9db7c1b69d8d>\u001b[0m in \u001b[0;36m<listcomp>\u001b[0;34m(.0)\u001b[0m\n\u001b[1;32m      1\u001b[0m \u001b[0;31m# You can't run this\u001b[0m\u001b[0;34m\u001b[0m\u001b[0;34m\u001b[0m\u001b[0;34m\u001b[0m\u001b[0m\n\u001b[0;32m----> 2\u001b[0;31m \u001b[0mY_te\u001b[0m \u001b[0;34m=\u001b[0m \u001b[0mnp\u001b[0m\u001b[0;34m.\u001b[0m\u001b[0marray\u001b[0m\u001b[0;34m(\u001b[0m\u001b[0;34m[\u001b[0m\u001b[0mlabel_set\u001b[0m\u001b[0;34m.\u001b[0m\u001b[0mindex\u001b[0m\u001b[0;34m(\u001b[0m\u001b[0my_i\u001b[0m\u001b[0;34m)\u001b[0m \u001b[0;32mfor\u001b[0m \u001b[0my_i\u001b[0m \u001b[0;32min\u001b[0m \u001b[0my_te\u001b[0m\u001b[0;34m]\u001b[0m\u001b[0;34m)\u001b[0m\u001b[0;34m\u001b[0m\u001b[0;34m\u001b[0m\u001b[0m\n\u001b[0m\u001b[1;32m      3\u001b[0m \u001b[0mY_te_var\u001b[0m \u001b[0;34m=\u001b[0m \u001b[0mVariable\u001b[0m\u001b[0;34m(\u001b[0m\u001b[0mtorch\u001b[0m\u001b[0;34m.\u001b[0m\u001b[0mfrom_numpy\u001b[0m\u001b[0;34m(\u001b[0m\u001b[0mY_te\u001b[0m\u001b[0;34m)\u001b[0m\u001b[0;34m)\u001b[0m\u001b[0;34m\u001b[0m\u001b[0;34m\u001b[0m\u001b[0m\n\u001b[1;32m      4\u001b[0m \u001b[0macc\u001b[0m \u001b[0;34m=\u001b[0m \u001b[0mevaluation\u001b[0m\u001b[0;34m.\u001b[0m\u001b[0macc\u001b[0m\u001b[0;34m(\u001b[0m\u001b[0mnp\u001b[0m\u001b[0;34m.\u001b[0m\u001b[0mload\u001b[0m\u001b[0;34m(\u001b[0m\u001b[0;34m'logreg-es-test.preds.npy'\u001b[0m\u001b[0;34m)\u001b[0m\u001b[0;34m,\u001b[0m\u001b[0mY_te_var\u001b[0m\u001b[0;34m.\u001b[0m\u001b[0mdata\u001b[0m\u001b[0;34m.\u001b[0m\u001b[0mnumpy\u001b[0m\u001b[0;34m(\u001b[0m\u001b[0;34m)\u001b[0m\u001b[0;34m)\u001b[0m\u001b[0;34m\u001b[0m\u001b[0;34m\u001b[0m\u001b[0m\n\u001b[1;32m      5\u001b[0m \u001b[0mprint\u001b[0m\u001b[0;34m(\u001b[0m\u001b[0macc\u001b[0m\u001b[0;34m)\u001b[0m\u001b[0;34m\u001b[0m\u001b[0;34m\u001b[0m\u001b[0m\n",
            "\u001b[0;31mValueError\u001b[0m: 'hidden' is not in list"
          ]
        }
      ]
    },
    {
      "cell_type": "markdown",
      "metadata": {
        "id": "p7v0HvvH5uLU",
        "colab_type": "text"
      },
      "source": [
        "# 6. Feature analysis\n",
        "\n",
        "Total: 8 points\n"
      ]
    },
    {
      "cell_type": "markdown",
      "metadata": {
        "id": "-jKtbZ185uLU",
        "colab_type": "text"
      },
      "source": [
        "## 6.1 Top Features for Naive Bayes and Perceptron\n",
        "\n",
        "- **Deliverable 6.1**: Implement ```get_top_features_for_label``` in ```features.py```. (4 points)\n",
        "- **Test**: `tests/test_features.py:test_d6_1_topfeat`"
      ]
    },
    {
      "cell_type": "code",
      "metadata": {
        "id": "DOIj3tF_5uLU",
        "colab_type": "code",
        "colab": {}
      },
      "source": [
        "from mynlplib import features\n",
        "reload(features);"
      ],
      "execution_count": 117,
      "outputs": []
    },
    {
      "cell_type": "code",
      "metadata": {
        "id": "C_ulba6o5uLW",
        "colab_type": "code",
        "colab": {
          "base_uri": "https://localhost:8080/",
          "height": 136
        },
        "outputId": "9bea9b60-94a7-4a65-e980-ed9784b031ff"
      },
      "source": [
        "features.get_top_features_for_label(theta_perc,'pre-1980',7)"
      ],
      "execution_count": 118,
      "outputs": [
        {
          "output_type": "execute_result",
          "data": {
            "text/plain": [
              "[(('pre-1980', '**OFFSET**'), 949.0),\n",
              " (('pre-1980', 'lord'), 326.0),\n",
              " (('pre-1980', 'very'), 293.0),\n",
              " (('pre-1980', 'feelin'), 263.0),\n",
              " (('pre-1980', 'satisfied'), 251.0),\n",
              " (('pre-1980', 'darling'), 247.0),\n",
              " (('pre-1980', 'yes'), 235.0)]"
            ]
          },
          "metadata": {
            "tags": []
          },
          "execution_count": 118
        }
      ]
    },
    {
      "cell_type": "code",
      "metadata": {
        "id": "SVrGA-Qv5uLd",
        "colab_type": "code",
        "colab": {
          "base_uri": "https://localhost:8080/",
          "height": 136
        },
        "outputId": "5ecc886d-8784-47b7-fb38-fd4f3be3998b"
      },
      "source": [
        "features.get_top_features_for_label(theta_perc,'1990s',7)"
      ],
      "execution_count": 119,
      "outputs": [
        {
          "output_type": "execute_result",
          "data": {
            "text/plain": [
              "[(('1990s', 'cuz'), 452.0),\n",
              " (('1990s', 'hit'), 368.0),\n",
              " (('1990s', 'sweat'), 342.0),\n",
              " (('1990s', 'prove'), 322.0),\n",
              " (('1990s', 'yo'), 285.0),\n",
              " (('1990s', 'saw'), 271.0),\n",
              " (('1990s', 'jam'), 268.0)]"
            ]
          },
          "metadata": {
            "tags": []
          },
          "execution_count": 119
        }
      ]
    },
    {
      "cell_type": "code",
      "metadata": {
        "id": "Bt9H9aenujWh",
        "colab_type": "code",
        "colab": {
          "base_uri": "https://localhost:8080/",
          "height": 102
        },
        "outputId": "3c3e72df-9577-4aca-9613-85fde84d5a59"
      },
      "source": [
        "! nosetests tests/test_features.py:test_d6_1_topfeat"
      ],
      "execution_count": 120,
      "outputs": [
        {
          "output_type": "stream",
          "text": [
            ".\n",
            "----------------------------------------------------------------------\n",
            "Ran 1 test in 3.339s\n",
            "\n",
            "OK\n"
          ],
          "name": "stdout"
        }
      ]
    },
    {
      "cell_type": "markdown",
      "metadata": {
        "id": "ooxekGND5uLf",
        "colab_type": "text"
      },
      "source": [
        "## 6.2 Top Features for Logistic Regression\n",
        "\n",
        "- **Deliverable 6.2**: Implement ```get_top_features_for_label_torch``` in ```features.py```. (4 points)\n",
        "- **Test**: `tests/test_features.py:test_d6_2_topfeat_torch`\n",
        "\n",
        "**Hint**: Extract linear layer weights from the PyTorch model."
      ]
    },
    {
      "cell_type": "code",
      "metadata": {
        "id": "PSUhjv545uLf",
        "colab_type": "code",
        "colab": {}
      },
      "source": [
        "reload(features);"
      ],
      "execution_count": 121,
      "outputs": []
    },
    {
      "cell_type": "markdown",
      "metadata": {
        "id": "6B__7NVY5uLj",
        "colab_type": "text"
      },
      "source": [
        "Load a fixed model so we have reproducible results. Feel free to change it to your own model."
      ]
    },
    {
      "cell_type": "code",
      "metadata": {
        "id": "0B4d_1Rs5uLj",
        "colab_type": "code",
        "colab": {
          "base_uri": "https://localhost:8080/",
          "height": 139
        },
        "outputId": "2de471b9-96c7-4d08-f039-07d2a2d3d510"
      },
      "source": [
        "model_test = torch.load('tests/test_weights.torch')"
      ],
      "execution_count": 122,
      "outputs": [
        {
          "output_type": "stream",
          "text": [
            "/usr/local/lib/python3.6/dist-packages/torch/serialization.py:649: SourceChangeWarning: source code of class 'torch.nn.modules.container.Sequential' has changed. you can retrieve the original source code by accessing the object's source attribute or set `torch.nn.Module.dump_patches = True` and use the patch tool to revert the changes.\n",
            "  warnings.warn(msg, SourceChangeWarning)\n",
            "/usr/local/lib/python3.6/dist-packages/torch/serialization.py:649: SourceChangeWarning: source code of class 'torch.nn.modules.linear.Linear' has changed. you can retrieve the original source code by accessing the object's source attribute or set `torch.nn.Module.dump_patches = True` and use the patch tool to revert the changes.\n",
            "  warnings.warn(msg, SourceChangeWarning)\n",
            "/usr/local/lib/python3.6/dist-packages/torch/serialization.py:649: SourceChangeWarning: source code of class 'torch.nn.modules.activation.LogSoftmax' has changed. you can retrieve the original source code by accessing the object's source attribute or set `torch.nn.Module.dump_patches = True` and use the patch tool to revert the changes.\n",
            "  warnings.warn(msg, SourceChangeWarning)\n"
          ],
          "name": "stderr"
        }
      ]
    },
    {
      "cell_type": "code",
      "metadata": {
        "id": "LhoVfQQr5uLl",
        "colab_type": "code",
        "colab": {
          "base_uri": "https://localhost:8080/",
          "height": 34
        },
        "outputId": "e38816a1-10f2-441b-d59d-84852fae53ba"
      },
      "source": [
        "features.get_top_features_for_label_torch(model_test, vocab, label_set,'pre-1980',5)"
      ],
      "execution_count": 123,
      "outputs": [
        {
          "output_type": "execute_result",
          "data": {
            "text/plain": [
              "['love', 'lovin', 'and', 'baby', 'on']"
            ]
          },
          "metadata": {
            "tags": []
          },
          "execution_count": 123
        }
      ]
    },
    {
      "cell_type": "code",
      "metadata": {
        "id": "rnt1ApY05uLn",
        "colab_type": "code",
        "colab": {
          "base_uri": "https://localhost:8080/",
          "height": 34
        },
        "outputId": "0a1d319d-debe-4bdb-d0d2-44c1b55da2ae"
      },
      "source": [
        "features.get_top_features_for_label_torch(model_test, vocab, label_set,'1990s',7)"
      ],
      "execution_count": 124,
      "outputs": [
        {
          "output_type": "execute_result",
          "data": {
            "text/plain": [
              "['here', 'power', 'jam', 'saw', 'yeah', 'want', 'yall']"
            ]
          },
          "metadata": {
            "tags": []
          },
          "execution_count": 124
        }
      ]
    },
    {
      "cell_type": "code",
      "metadata": {
        "id": "v1b35Xkau79w",
        "colab_type": "code",
        "colab": {
          "base_uri": "https://localhost:8080/",
          "height": 224
        },
        "outputId": "80c13903-8c89-4221-d0aa-dcd1a7c46dc4"
      },
      "source": [
        "! nosetests tests/test_features.py:test_d6_2_topfeat_torch"
      ],
      "execution_count": 125,
      "outputs": [
        {
          "output_type": "stream",
          "text": [
            "/usr/local/lib/python3.6/dist-packages/torch/serialization.py:649: SourceChangeWarning: source code of class 'torch.nn.modules.container.Sequential' has changed. you can retrieve the original source code by accessing the object's source attribute or set `torch.nn.Module.dump_patches = True` and use the patch tool to revert the changes.\n",
            "  warnings.warn(msg, SourceChangeWarning)\n",
            "/usr/local/lib/python3.6/dist-packages/torch/serialization.py:649: SourceChangeWarning: source code of class 'torch.nn.modules.linear.Linear' has changed. you can retrieve the original source code by accessing the object's source attribute or set `torch.nn.Module.dump_patches = True` and use the patch tool to revert the changes.\n",
            "  warnings.warn(msg, SourceChangeWarning)\n",
            "/usr/local/lib/python3.6/dist-packages/torch/serialization.py:649: SourceChangeWarning: source code of class 'torch.nn.modules.activation.LogSoftmax' has changed. you can retrieve the original source code by accessing the object's source attribute or set `torch.nn.Module.dump_patches = True` and use the patch tool to revert the changes.\n",
            "  warnings.warn(msg, SourceChangeWarning)\n",
            ".\n",
            "----------------------------------------------------------------------\n",
            "Ran 1 test in 3.319s\n",
            "\n",
            "OK\n"
          ],
          "name": "stdout"
        }
      ]
    },
    {
      "cell_type": "markdown",
      "metadata": {
        "id": "tik32jZc5uLp",
        "colab_type": "text"
      },
      "source": [
        "# 7. Feature Engineering\n",
        "\n",
        "Total: 14 points"
      ]
    },
    {
      "cell_type": "markdown",
      "metadata": {
        "id": "agIwVi6l5uLp",
        "colab_type": "text"
      },
      "source": [
        "## 7.1 Example Feature - Token-Type Ratio\n",
        "\n",
        "You can have features other than bag of words in your model. For example, we can consider the token-type ratio for each song. The token-type ratio is:\n",
        "\\begin{equation}\n",
        "\\frac{\\text{length of song in tokens}}{\\text{number of distinct types}} = \\frac{\\sum_m w_m}{\\sum_m \\delta(w_m > 0)}\n",
        "\\end{equation}\n",
        "\n",
        "- **Deliverable 7.1**: Implement ```get_token_type_ratio``` in ```features.py```. (2 points)\n",
        "- **Test**: `tests/test_features.py:test_d7_1_token_type_ratio`\n",
        "\n",
        "Return zero if the length of the song is zero."
      ]
    },
    {
      "cell_type": "code",
      "metadata": {
        "id": "Uc7uiLH65uLp",
        "colab_type": "code",
        "colab": {}
      },
      "source": [
        "reload(features);"
      ],
      "execution_count": 126,
      "outputs": []
    },
    {
      "cell_type": "markdown",
      "metadata": {
        "id": "13WfmEo05uLr",
        "colab_type": "text"
      },
      "source": [
        "Token-type ratios for the first five songs:"
      ]
    },
    {
      "cell_type": "code",
      "metadata": {
        "id": "I-u0SM8H5uLr",
        "colab_type": "code",
        "colab": {
          "base_uri": "https://localhost:8080/",
          "height": 102
        },
        "outputId": "9bddbfad-b661-46a8-a7ba-080133a8e00e"
      },
      "source": [
        "[features.get_token_type_ratio(X_tr[i]) for i in range(5)]"
      ],
      "execution_count": 127,
      "outputs": [
        {
          "output_type": "execute_result",
          "data": {
            "text/plain": [
              "[5.083333333333333,\n",
              " 2.6,\n",
              " 1.9113924050632911,\n",
              " 2.318840579710145,\n",
              " 6.188679245283019]"
            ]
          },
          "metadata": {
            "tags": []
          },
          "execution_count": 127
        }
      ]
    },
    {
      "cell_type": "code",
      "metadata": {
        "id": "dlkCbmcbvQ1m",
        "colab_type": "code",
        "colab": {
          "base_uri": "https://localhost:8080/",
          "height": 102
        },
        "outputId": "c29d272e-993d-420a-ccf0-e15d8f3eeab8"
      },
      "source": [
        "! nosetests tests/test_features.py:test_d7_1_token_type_ratio"
      ],
      "execution_count": 128,
      "outputs": [
        {
          "output_type": "stream",
          "text": [
            ".\n",
            "----------------------------------------------------------------------\n",
            "Ran 1 test in 3.367s\n",
            "\n",
            "OK\n"
          ],
          "name": "stdout"
        }
      ]
    },
    {
      "cell_type": "markdown",
      "metadata": {
        "id": "gowc9VNO5uLt",
        "colab_type": "text"
      },
      "source": [
        "## 7.2 Binning Your Features\n",
        "\n",
        "Discretize your token-type ratio feature into bins: \n",
        "\n",
        "\n",
        "$\\{ [0,1), [1,2), [2,3), [3,4), [4,5), [5,6), [6, \\infty) \\}$.\n",
        "\n",
        "For each instance, there will be seven new features (one per bin). Exactly one of these features will have the value one; all others will have the value zero.\n",
        "\n",
        "Use `np.concatenate` or `np.hstack` to concatenate your result to the variable X_tr.\n",
        "\n",
        "- **Deliverable 7.2**: Implement ```concat_ttr_binned_features``` in ```features.py```. (4 points)\n",
        "- **Test**: `tests/test_features.py:test_d7_2_discretize`"
      ]
    },
    {
      "cell_type": "code",
      "metadata": {
        "id": "vJLK7E2v5uLt",
        "colab_type": "code",
        "colab": {}
      },
      "source": [
        "reload(features);"
      ],
      "execution_count": 129,
      "outputs": []
    },
    {
      "cell_type": "code",
      "metadata": {
        "id": "iquOvn0V5uLv",
        "colab_type": "code",
        "colab": {
          "base_uri": "https://localhost:8080/",
          "height": 34
        },
        "outputId": "2ab4d199-5cb0-4188-b148-a6e71acf46f6"
      },
      "source": [
        "X_tr.shape"
      ],
      "execution_count": 130,
      "outputs": [
        {
          "output_type": "execute_result",
          "data": {
            "text/plain": [
              "(4000, 4875)"
            ]
          },
          "metadata": {
            "tags": []
          },
          "execution_count": 130
        }
      ]
    },
    {
      "cell_type": "code",
      "metadata": {
        "id": "7kMK7j0t5uLw",
        "colab_type": "code",
        "colab": {
          "base_uri": "https://localhost:8080/",
          "height": 187
        },
        "outputId": "55e972c3-59ec-4fc0-cfe6-1ef724e2aac1"
      },
      "source": [
        "X_tr_new = features.concat_ttr_binned_features(X_tr)\n",
        "print(X_tr_new)\n",
        "print(X_tr_new.shape)"
      ],
      "execution_count": 131,
      "outputs": [
        {
          "output_type": "stream",
          "text": [
            "/content/mynlplib/features.py:68: RuntimeWarning: invalid value encountered in double_scalars\n",
            "  return counts.sum()/len(my_unique)\n"
          ],
          "name": "stderr"
        },
        {
          "output_type": "stream",
          "text": [
            "[[0. 0. 0. ... 0. 1. 0.]\n",
            " [0. 0. 0. ... 0. 0. 0.]\n",
            " [0. 0. 0. ... 0. 0. 0.]\n",
            " ...\n",
            " [0. 0. 0. ... 0. 0. 0.]\n",
            " [0. 0. 0. ... 0. 0. 0.]\n",
            " [0. 0. 0. ... 0. 0. 0.]]\n",
            "(4000, 4882)\n"
          ],
          "name": "stdout"
        }
      ]
    },
    {
      "cell_type": "code",
      "metadata": {
        "id": "fj04RQD95uLz",
        "colab_type": "code",
        "colab": {
          "base_uri": "https://localhost:8080/",
          "height": 51
        },
        "outputId": "cbd8a1b5-f507-4871-ceaf-3497a2b7042d"
      },
      "source": [
        "X_dv_new = features.concat_ttr_binned_features(X_dv)\n",
        "X_te_new = features.concat_ttr_binned_features(X_te)\n",
        "X_tr_var = Variable(torch.from_numpy(X_tr_new.astype(np.float32)))\n",
        "X_dv_var = Variable(torch.from_numpy(X_dv_new.astype(np.float32)))\n",
        "X_te_var = Variable(torch.from_numpy(X_te_new.astype(np.float32)))"
      ],
      "execution_count": 132,
      "outputs": [
        {
          "output_type": "stream",
          "text": [
            "/content/mynlplib/features.py:68: RuntimeWarning: invalid value encountered in double_scalars\n",
            "  return counts.sum()/len(my_unique)\n"
          ],
          "name": "stderr"
        }
      ]
    },
    {
      "cell_type": "code",
      "metadata": {
        "id": "MnhmyrEN5uL1",
        "colab_type": "code",
        "colab": {}
      },
      "source": [
        "model = logreg.build_linear(X_tr_var,Y_tr)\n",
        "model.add_module('softmax',torch.nn.LogSoftmax(dim=1))\n",
        "loss = torch.nn.NLLLoss()"
      ],
      "execution_count": 133,
      "outputs": []
    },
    {
      "cell_type": "code",
      "metadata": {
        "id": "bl-eAM0yv4mh",
        "colab_type": "code",
        "colab": {
          "base_uri": "https://localhost:8080/",
          "height": 136
        },
        "outputId": "8297f683-fde4-4240-e53b-d53b565c7b42"
      },
      "source": [
        "! nosetests tests/test_features.py:test_d7_2_discretize"
      ],
      "execution_count": 134,
      "outputs": [
        {
          "output_type": "stream",
          "text": [
            "/content/mynlplib/features.py:68: RuntimeWarning: invalid value encountered in double_scalars\n",
            "  return counts.sum()/len(my_unique)\n",
            ".\n",
            "----------------------------------------------------------------------\n",
            "Ran 1 test in 28.118s\n",
            "\n",
            "OK\n"
          ],
          "name": "stdout"
        }
      ]
    },
    {
      "cell_type": "markdown",
      "metadata": {
        "id": "KoS32D915uL3",
        "colab_type": "text"
      },
      "source": [
        "See if these features help!"
      ]
    },
    {
      "cell_type": "code",
      "metadata": {
        "id": "3NYB6CW35uL3",
        "colab_type": "code",
        "colab": {
          "base_uri": "https://localhost:8080/",
          "height": 102
        },
        "outputId": "3e127567-ddcd-4e62-9bb7-5c39ed731d6b"
      },
      "source": [
        "model,losses,accuracies = logreg.train_model(loss,model,X_tr_var,Y_tr_var,\n",
        "                                             Y_dv_var=Y_dv_var,X_dv_var = X_dv_var,\n",
        "                                             num_its=500,status_frequency=100)"
      ],
      "execution_count": 135,
      "outputs": [
        {
          "output_type": "stream",
          "text": [
            "Epoch 1: Dev Accuracy: 0.31333333333333335\n",
            "Epoch 101: Dev Accuracy: 0.4\n",
            "Epoch 201: Dev Accuracy: 0.42444444444444446\n",
            "Epoch 301: Dev Accuracy: 0.4444444444444444\n",
            "Epoch 401: Dev Accuracy: 0.4577777777777778\n"
          ],
          "name": "stdout"
        }
      ]
    },
    {
      "cell_type": "code",
      "metadata": {
        "id": "5Z5ca6qd5uL5",
        "colab_type": "code",
        "colab": {
          "base_uri": "https://localhost:8080/",
          "height": 171
        },
        "outputId": "2cd5d42a-ebbd-4ddc-eacf-c70c6e68f3f1"
      },
      "source": [
        "logreg.plot_results(losses,accuracies)"
      ],
      "execution_count": 136,
      "outputs": [
        {
          "output_type": "display_data",
          "data": {
            "image/png": "[encoded data removed]",
            "text/plain": [
              "<Figure size 864x144 with 2 Axes>"
            ]
          },
          "metadata": {
            "tags": [],
            "needs_background": "light"
          }
        }
      ]
    },
    {
      "cell_type": "markdown",
      "metadata": {
        "id": "ZPOIFwAp5uL7",
        "colab_type": "text"
      },
      "source": [
        "# 7.3 Bakeoff\n",
        "\n",
        "**Deliverable 7.3**: Try to get the best accuracy possible. \n",
        "\n",
        "Some ideas:\n",
        "\n",
        "- Better features\n",
        "- Better optimization\n",
        "- Better classifier, e.g. multilayer neural networks\n",
        "- Better loss function\n",
        "- Better preprocessing\n",
        "- Dropout or other regularization scheme\n",
        "\n",
        "### Rubric\n",
        "\n",
        "Dev set\n",
        "- $\\geq 55\\%$: 8 points\n",
        "- $\\geq 54\\%$: 6 points\n",
        "- $\\geq 53\\%$: 4 points\n",
        "- $\\geq 51\\%$: 2 points\n",
        "\n",
        "Test set\n",
        "- Top ten in the class: 4 points (bonus)\n",
        "- Top three in the class: 4 points (extra bonus)\n",
        "- We'll also give 4 bonus points to particularly unique / creative / well-motivated solutions (with motivation to be included in the write-up)."
      ]
    },
    {
      "cell_type": "code",
      "metadata": {
        "id": "jqZuWkxn5uL7",
        "colab_type": "code",
        "colab": {}
      },
      "source": [
        "# Free space\n",
        "# Creating the model\n",
        "import torch\n",
        "my_new_model = torch.nn.Sequential(\n",
        "    torch.nn.Linear(4882, 800, bias = True),\n",
        "    torch.nn.ReLU(),\n",
        "    torch.nn.Linear(800, 250, bias = True),\n",
        "    torch.nn.ReLU(),\n",
        "    torch.nn.Linear(250, 4),\n",
        "    torch.nn.LogSoftmax(dim=1)\n",
        "    #nn.Softmax()\n",
        ")\n",
        "my_loss_function = torch.nn.NLLLoss()#nn.CrossEntropyLoss()\n",
        "#optimizer = optim.SGD(my_new_model.parameters(), lr=0.01, weight_decay= 1e-6, momentum = 0.9, nesterov = True)\n",
        "param_args = {'lr':0.02,'momentum':0.9}#0.02\n",
        "\n",
        "\n",
        "####################\n",
        "## 56.5% with lr = 0.04, momentum = 0.5, iter = 1000\n",
        "## 56.6% with lr = 0.08, momentum = 0.5, iter = 1000\n",
        "## 57.11% with lr = 0.02, momentum = 0.5, iter = 1000\n",
        "## 57.55 with lr = 0.1, momentum = 0.5, iter = 1000\n",
        "## 58% {'lr':0.02,'momentum':0.9}\n",
        "## 55% {'lr':0.02,'momentum':0.9, dropout = 0.2}\n",
        "\n"
      ],
      "execution_count": 149,
      "outputs": []
    },
    {
      "cell_type": "code",
      "metadata": {
        "id": "Av5Q6vC1-twY",
        "colab_type": "code",
        "colab": {}
      },
      "source": [
        ""
      ],
      "execution_count": 149,
      "outputs": []
    },
    {
      "cell_type": "code",
      "metadata": {
        "id": "WAEjYXAwLw4_",
        "colab_type": "code",
        "colab": {
          "base_uri": "https://localhost:8080/",
          "height": 187
        },
        "outputId": "8d1b9dd1-1115-4467-8bc9-13cb9b09ea15"
      },
      "source": [
        "## Training the model\n",
        "my_new_model,losses,accuracies = logreg.train_model(my_loss_function,my_new_model,X_tr_var,Y_tr_var,\n",
        "                                             Y_dv_var=Y_dv_var,X_dv_var = X_dv_var,\n",
        "                                             num_its=1000,status_frequency=100, optim_args = param_args)\n",
        "\n"
      ],
      "execution_count": 150,
      "outputs": [
        {
          "output_type": "stream",
          "text": [
            "Epoch 1: Dev Accuracy: 0.30444444444444446\n",
            "Epoch 101: Dev Accuracy: 0.52\n",
            "Epoch 201: Dev Accuracy: 0.5555555555555556\n",
            "Epoch 301: Dev Accuracy: 0.5444444444444444\n",
            "Epoch 401: Dev Accuracy: 0.5377777777777778\n",
            "Epoch 501: Dev Accuracy: 0.5333333333333333\n",
            "Epoch 601: Dev Accuracy: 0.5266666666666666\n",
            "Epoch 701: Dev Accuracy: 0.5288888888888889\n",
            "Epoch 801: Dev Accuracy: 0.5333333333333333\n",
            "Epoch 901: Dev Accuracy: 0.5333333333333333\n"
          ],
          "name": "stdout"
        }
      ]
    },
    {
      "cell_type": "code",
      "metadata": {
        "id": "-rFAVnmmfpFG",
        "colab_type": "code",
        "colab": {}
      },
      "source": [
        ""
      ],
      "execution_count": 137,
      "outputs": []
    },
    {
      "cell_type": "code",
      "metadata": {
        "id": "0AsnvbJg5uL9",
        "colab_type": "code",
        "colab": {
          "base_uri": "https://localhost:8080/",
          "height": 34
        },
        "outputId": "51202152-9604-4f79-d2a3-29a6f2e157c5"
      },
      "source": [
        "_, Y_hat_dv = my_new_model.forward(X_dv_var).max(dim=1)\n",
        "np.save('bakeoff-dev.preds.npy', Y_hat_dv.data.numpy())\n",
        "evaluation.acc(np.load('bakeoff-dev.preds.npy'), Y_dv_var.data.numpy())"
      ],
      "execution_count": 151,
      "outputs": [
        {
          "output_type": "execute_result",
          "data": {
            "text/plain": [
              "0.5644444444444444"
            ]
          },
          "metadata": {
            "tags": []
          },
          "execution_count": 151
        }
      ]
    },
    {
      "cell_type": "code",
      "metadata": {
        "id": "gM1XW-SV5uL_",
        "colab_type": "code",
        "colab": {}
      },
      "source": [
        "_, Y_hat_te =  my_new_model.forward(X_te_var).max(dim=1)\n",
        "np.save('bakeoff-test.preds.npy', Y_hat_te.data.numpy())"
      ],
      "execution_count": 152,
      "outputs": []
    },
    {
      "cell_type": "code",
      "metadata": {
        "id": "kKC2HT1t5uMA",
        "colab_type": "code",
        "colab": {}
      },
      "source": [
        "# You can't run this\n",
        "evaluation.acc(np.load('bakeoff-test.preds.npy'), Y_te_var.data.numpy())"
      ],
      "execution_count": 218,
      "outputs": []
    },
    {
      "cell_type": "markdown",
      "metadata": {
        "id": "2eXycPei5uMC",
        "colab_type": "text"
      },
      "source": [
        "# 8. Write-up\n",
        "\n",
        "Total: 20 points\n",
        "\n",
        "You can start your write-up in any format you prefer (e.g., LaTeX, Markdown), but please remember to export to `pset1-writeup.pdf` upon submission. Also, you will be asked to post your Deliverable 8.2 and 8.3 on Piazza **after the due date (plus late days)**.\n",
        "\n",
        "**Deliverable 8.1** (8 points):\n",
        "\n",
        "Why is Naive Bayes a generative model? Why is Perceptron a discriminative model? Which family does logistic regression belong to? What do you see as a core difference between a generative model and a discriminative model?\n",
        "\n",
        "**Deliverable 8.2** (4 points):\n",
        "\n",
        "Briefly describe your bakeoff design.\n",
        "\n",
        "**Deliverable 8.3** (8 points):\n",
        "\n",
        "You will select a research paper at ACL, EMNLP or NAACL that performs *document* classification, using text. Summarize the paper, answering the following questions:\n",
        "\n",
        "- What are the labels, and how were they obtained?\n",
        "- Why is it interesting/useful to predict these labels?  \n",
        "- What classifier(s) do they use, and the reasons behind their choice? Do they use linear classifiers like the ones in this problem set?\n",
        "- What features do they use? Explain any features outside the bag-of-words model, and why they used them.\n",
        "- What is the conclusion of the paper? Do they compare between classifiers, between feature sets, or on some other dimension? \n",
        "- Give a one-sentence summary of the message that they are trying to leave for the reader.\n",
        "\n",
        "You must choose a paper in the main conference (not workshops). The paper must be at least four pages long. All papers from these conferences are available for free online: https://www.aclweb.org/anthology/."
      ]
    },
    {
      "cell_type": "code",
      "metadata": {
        "id": "HPC3VrAe5uMC",
        "colab_type": "code",
        "colab": {}
      },
      "source": [
        "## Running nosetests on different files"
      ],
      "execution_count": 212,
      "outputs": []
    },
    {
      "cell_type": "code",
      "metadata": {
        "id": "fDBEdCo_gB_8",
        "colab_type": "code",
        "colab": {
          "base_uri": "https://localhost:8080/",
          "height": 102
        },
        "outputId": "84416585-cefe-4b5c-ce3d-aba121aa9884"
      },
      "source": [
        "! nosetests tests/test_preproc.py"
      ],
      "execution_count": 141,
      "outputs": [
        {
          "output_type": "stream",
          "text": [
            "....\n",
            "----------------------------------------------------------------------\n",
            "Ran 4 tests in 0.820s\n",
            "\n",
            "OK\n"
          ],
          "name": "stdout"
        }
      ]
    },
    {
      "cell_type": "code",
      "metadata": {
        "id": "fDP0sz9kgJkO",
        "colab_type": "code",
        "colab": {
          "base_uri": "https://localhost:8080/",
          "height": 102
        },
        "outputId": "8bdc2672-8967-49dc-e626-0c30707e6c0c"
      },
      "source": [
        "! nosetests tests/test_classifier.py"
      ],
      "execution_count": 142,
      "outputs": [
        {
          "output_type": "stream",
          "text": [
            ".......\n",
            "----------------------------------------------------------------------\n",
            "Ran 7 tests in 60.786s\n",
            "\n",
            "OK\n"
          ],
          "name": "stdout"
        }
      ]
    },
    {
      "cell_type": "code",
      "metadata": {
        "id": "TvIqnwKogS5l",
        "colab_type": "code",
        "colab": {
          "base_uri": "https://localhost:8080/",
          "height": 102
        },
        "outputId": "68531fc4-8949-4d02-e8b4-d0d0a1d1ccd5"
      },
      "source": [
        "! nosetests tests/test_perceptron.py"
      ],
      "execution_count": 143,
      "outputs": [
        {
          "output_type": "stream",
          "text": [
            "...\n",
            "----------------------------------------------------------------------\n",
            "Ran 3 tests in 0.774s\n",
            "\n",
            "OK\n"
          ],
          "name": "stdout"
        }
      ]
    },
    {
      "cell_type": "code",
      "metadata": {
        "id": "SrG3ExWaglX5",
        "colab_type": "code",
        "colab": {
          "base_uri": "https://localhost:8080/",
          "height": 102
        },
        "outputId": "c5ad107b-f919-4da9-8fc8-0962f4ed3541"
      },
      "source": [
        "! nosetests tests/test_pytorch.py"
      ],
      "execution_count": 144,
      "outputs": [
        {
          "output_type": "stream",
          "text": [
            ".........\n",
            "----------------------------------------------------------------------\n",
            "Ran 9 tests in 4.333s\n",
            "\n",
            "OK\n"
          ],
          "name": "stdout"
        }
      ]
    },
    {
      "cell_type": "code",
      "metadata": {
        "id": "BMHREUBZg1vr",
        "colab_type": "code",
        "colab": {
          "base_uri": "https://localhost:8080/",
          "height": 258
        },
        "outputId": "f0fb1af1-d128-4f22-8d91-decbc8eef66b"
      },
      "source": [
        "! nosetests tests/test_features.py"
      ],
      "execution_count": 145,
      "outputs": [
        {
          "output_type": "stream",
          "text": [
            "./usr/local/lib/python3.6/dist-packages/torch/serialization.py:649: SourceChangeWarning: source code of class 'torch.nn.modules.container.Sequential' has changed. you can retrieve the original source code by accessing the object's source attribute or set `torch.nn.Module.dump_patches = True` and use the patch tool to revert the changes.\n",
            "  warnings.warn(msg, SourceChangeWarning)\n",
            "/usr/local/lib/python3.6/dist-packages/torch/serialization.py:649: SourceChangeWarning: source code of class 'torch.nn.modules.linear.Linear' has changed. you can retrieve the original source code by accessing the object's source attribute or set `torch.nn.Module.dump_patches = True` and use the patch tool to revert the changes.\n",
            "  warnings.warn(msg, SourceChangeWarning)\n",
            "/usr/local/lib/python3.6/dist-packages/torch/serialization.py:649: SourceChangeWarning: source code of class 'torch.nn.modules.activation.LogSoftmax' has changed. you can retrieve the original source code by accessing the object's source attribute or set `torch.nn.Module.dump_patches = True` and use the patch tool to revert the changes.\n",
            "  warnings.warn(msg, SourceChangeWarning)\n",
            "../content/mynlplib/features.py:68: RuntimeWarning: invalid value encountered in double_scalars\n",
            "  return counts.sum()/len(my_unique)\n",
            ".\n",
            "----------------------------------------------------------------------\n",
            "Ran 4 tests in 28.609s\n",
            "\n",
            "OK\n"
          ],
          "name": "stdout"
        }
      ]
    },
    {
      "cell_type": "code",
      "metadata": {
        "id": "-eDYIeN-PQ-n",
        "colab_type": "code",
        "colab": {}
      },
      "source": [
        "#! ./make-submission.sh"
      ],
      "execution_count": 155,
      "outputs": []
    },
    {
      "cell_type": "code",
      "metadata": {
        "id": "uXe8FnGWg83o",
        "colab_type": "code",
        "colab": {}
      },
      "source": [
        "### ##################### END #################################Bake off try 2"
      ],
      "execution_count": 228,
      "outputs": []
    },
    {
      "cell_type": "code",
      "metadata": {
        "id": "WT-P03A54V0J",
        "colab_type": "code",
        "colab": {
          "base_uri": "https://localhost:8080/",
          "height": 34
        },
        "outputId": "67212fd7-a7b8-4f69-9ca6-9546f14938b0"
      },
      "source": [
        "# from sklearn.naive_bayes import MultinomialNB\n",
        "# #Import scikit-learn metrics module for accuracy calculation\n",
        "# from sklearn import metrics\n",
        "# # Model Generation Using Multinomial Naive Bayes\n",
        "# clf = MultinomialNB().fit(X_tr_var,Y_tr_var)\n",
        "# predicted= clf.predict(X_dv_var)\n",
        "# print(\"MultinomialNB Accuracy:\",metrics.accuracy_score(Y_dv_var, predicted))"
      ],
      "execution_count": 229,
      "outputs": [
        {
          "output_type": "stream",
          "text": [
            "MultinomialNB Accuracy: 0.46\n"
          ],
          "name": "stdout"
        }
      ]
    },
    {
      "cell_type": "code",
      "metadata": {
        "id": "55WXFFXNiGAT",
        "colab_type": "code",
        "colab": {
          "base_uri": "https://localhost:8080/",
          "height": 34
        },
        "outputId": "dfccef80-0be7-49d4-d543-6c1d9a66ec99"
      },
      "source": [
        "# from sklearn.ensemble import RandomForestClassifier\n",
        "# from sklearn import metrics\n",
        "# clf = RandomForestClassifier(max_depth=2000)\n",
        "# clf.fit(X_tr_var,Y_tr_var)\n",
        "# predicted = clf.predict(X_dv_var)\n",
        "# print(\"RF Accuracy:\",metrics.accuracy_score(Y_dv_var, predicted))"
      ],
      "execution_count": 402,
      "outputs": [
        {
          "output_type": "stream",
          "text": [
            "RF Accuracy: 0.5288888888888889\n"
          ],
          "name": "stdout"
        }
      ]
    },
    {
      "cell_type": "code",
      "metadata": {
        "id": "loGlVv3GlMLi",
        "colab_type": "code",
        "colab": {
          "base_uri": "https://localhost:8080/",
          "height": 34
        },
        "outputId": "05562855-8994-4465-e789-ff3d211fd47c"
      },
      "source": [
        "# from sklearn.ensemble import AdaBoostClassifier\n",
        "# from sklearn import metrics\n",
        "# clf = AdaBoostClassifier(n_estimators=2000)\n",
        "# clf.fit(X_tr_var,Y_tr_var)\n",
        "# predicted = clf.predict(X_dv_var)\n",
        "# print(\"Ada Accuracy:\",metrics.accuracy_score(Y_dv_var, predicted))"
      ],
      "execution_count": 403,
      "outputs": [
        {
          "output_type": "stream",
          "text": [
            "Ada Accuracy: 0.4955555555555556\n"
          ],
          "name": "stdout"
        }
      ]
    },
    {
      "cell_type": "code",
      "metadata": {
        "id": "-ol3SY2H4r7r",
        "colab_type": "code",
        "colab": {}
      },
      "source": [
        "# from sklearn.feature_extraction.text import TfidfVectorizer\n",
        "# tf=TfidfVectorizer()\n",
        "# text_tf= tf.fit_transform(df_train['Lyrics'])"
      ],
      "execution_count": 230,
      "outputs": []
    },
    {
      "cell_type": "code",
      "metadata": {
        "id": "ppCEO65_5yzP",
        "colab_type": "code",
        "colab": {
          "base_uri": "https://localhost:8080/",
          "height": 51
        },
        "outputId": "165b7b02-b06d-40e6-e423-489d9a14801a"
      },
      "source": [
        "# text_tf"
      ],
      "execution_count": 238,
      "outputs": [
        {
          "output_type": "execute_result",
          "data": {
            "text/plain": [
              "<4000x36734 sparse matrix of type '<class 'numpy.float64'>'\n",
              "\twith 439197 stored elements in Compressed Sparse Row format>"
            ]
          },
          "metadata": {
            "tags": []
          },
          "execution_count": 238
        }
      ]
    },
    {
      "cell_type": "code",
      "metadata": {
        "id": "TfWR9TX-5IBZ",
        "colab_type": "code",
        "colab": {}
      },
      "source": [
        "# from sklearn.model_selection import train_test_split\n",
        "# X_train, X_test, y_train, y_test = train_test_split(\n",
        "#     text_tf, df_train['Era'], test_size=0.3, random_state=123)"
      ],
      "execution_count": 236,
      "outputs": []
    },
    {
      "cell_type": "code",
      "metadata": {
        "id": "yQViXSvx5KYR",
        "colab_type": "code",
        "colab": {
          "base_uri": "https://localhost:8080/",
          "height": 34
        },
        "outputId": "4392dc8b-36c1-43d4-f3eb-0e42e58efc8b"
      },
      "source": [
        "# clf = MultinomialNB().fit(X_train, y_train)\n",
        "# predicted= clf.predict(X_test)\n",
        "# print(\"MultinomialNB Accuracy:\",metrics.accuracy_score(y_test, predicted))"
      ],
      "execution_count": 237,
      "outputs": [
        {
          "output_type": "stream",
          "text": [
            "MultinomialNB Accuracy: 0.3425\n"
          ],
          "name": "stdout"
        }
      ]
    },
    {
      "cell_type": "code",
      "metadata": {
        "id": "R1QOhSeh6oV7",
        "colab_type": "code",
        "colab": {}
      },
      "source": [
        "# y_tr_bake,x_tr_1 = pd.read_csv('lyrics-train.csv')#,preprocessor=preproc.bag_of_words)\n",
        "# y_dv_bake,x_dv_1 = pd.read_csv('lyrics-dev.csv')#,preprocessor=preproc.bag_of_words)"
      ],
      "execution_count": 241,
      "outputs": []
    },
    {
      "cell_type": "code",
      "metadata": {
        "id": "0OXilkZO7w6E",
        "colab_type": "code",
        "colab": {}
      },
      "source": [
        "# data1 = pd.read_csv('lyrics-train.csv')\n",
        "# y_tr_bake,x_tr_1 = data1['Era'].values,data1['Lyrics'].values\n",
        "# data2 = pd.read_csv('lyrics-dev.csv')\n",
        "# y_dv_bake,x_dv_1 = data2['Era'].values,data2['Lyrics'].values"
      ],
      "execution_count": 247,
      "outputs": []
    },
    {
      "cell_type": "code",
      "metadata": {
        "id": "ZGedSsUt7ZnP",
        "colab_type": "code",
        "colab": {}
      },
      "source": [
        "#x_tr_1[1]"
      ],
      "execution_count": 146,
      "outputs": []
    },
    {
      "cell_type": "code",
      "metadata": {
        "id": "etzRRD0l65oo",
        "colab_type": "code",
        "colab": {}
      },
      "source": [
        ""
      ],
      "execution_count": 146,
      "outputs": []
    },
    {
      "cell_type": "code",
      "metadata": {
        "id": "YnLGWzDv8VIa",
        "colab_type": "code",
        "colab": {}
      },
      "source": [
        "#x_dv_bake"
      ],
      "execution_count": 147,
      "outputs": []
    },
    {
      "cell_type": "code",
      "metadata": {
        "id": "Y-M-Uy6S8qwS",
        "colab_type": "code",
        "colab": {}
      },
      "source": [
        "# clf = MultinomialNB().fit(x_tr_bake, y_tr_bake)\n",
        "# predicted= clf.predict(x_dv_bake)\n",
        "# print(\"MultinomialNB Accuracy:\",metrics.accuracy_score(y_dv_bake, predicted))"
      ],
      "execution_count": 148,
      "outputs": []
    },
    {
      "cell_type": "code",
      "metadata": {
        "id": "rS6Ka3CE5_gy",
        "colab_type": "code",
        "colab": {}
      },
      "source": [
        ""
      ],
      "execution_count": 148,
      "outputs": []
    },
    {
      "cell_type": "code",
      "metadata": {
        "id": "KJuInZzn5sGr",
        "colab_type": "code",
        "colab": {}
      },
      "source": [
        ""
      ],
      "execution_count": 148,
      "outputs": []
    }
  ]
}
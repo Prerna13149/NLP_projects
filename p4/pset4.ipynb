{
  "nbformat": 4,
  "nbformat_minor": 0,
  "metadata": {
    "anaconda-cloud": {},
    "kernelspec": {
      "display_name": "Python 3",
      "language": "python",
      "name": "python3"
    },
    "language_info": {
      "codemirror_mode": {
        "name": "ipython",
        "version": 3
      },
      "file_extension": ".py",
      "mimetype": "text/x-python",
      "name": "python",
      "nbconvert_exporter": "python",
      "pygments_lexer": "ipython3",
      "version": "3.8.5"
    },
    "colab": {
      "name": "pset4_temp.ipynb",
      "provenance": [],
      "collapsed_sections": [
        "6Hx7RCwTEJA8"
      ],
      "toc_visible": true
    }
  },
  "cells": [
    {
      "cell_type": "markdown",
      "metadata": {
        "id": "JcDsGtVlEJAr"
      },
      "source": [
        "# Coreference Resolution\n",
        "\n",
        "In this problem set, you will venture into the challenging NLP task of **coreference resolution**. You will:\n",
        "\n",
        "* Implement a simple rule-based system that achieve results which are surprisingly difficult to beat.\n",
        "* Get acquainted with the trickiness of evaluating coref systems, and the current solutions in the field.\n",
        "* Experiment with two neural approaches for coref to be implemented in PyTorch:\n",
        "  * A feedforward network that only looks at boolean mention-pair features\n",
        "  * A fully-neural architecture with embeddings all the way down\n",
        "* Get a glimpse at domain adaptation in the wild, by trying to run a system trained on news against a narrative corpus and vice-versa.\n",
        "\n",
        "\n",
        "# 0. Setup\n",
        "\n",
        "In order to develop this assignment, you will need [python 3](https://www.python.org/downloads/) and the following libraries. Most if not all of these are part of [conda](https://docs.conda.io/en/latest/miniconda.html), so a good starting point would be to install that.\n",
        "\n",
        "* [jupyter](http://jupyter.readthedocs.org/en/latest/install.html)\n",
        "* [scipy](https://www.scipy.org/install.html)\n",
        "* numpy (This will come if you install scipy like above, but if not install separately)\n",
        "* [nosetests](https://nose.readthedocs.org/en/latest/)\n",
        "* [torch](https://pytorch.org/get-started/locally/)\n",
        "* [nltk](https://www.nltk.org/install.html) (You might also want to download `averaged_perceptron_tagger` with the NLTK downloader: activate your conda environment, open a python console, and `import nltk; nltk.download('averaged_perceptron_tagger')` if necessary)\n",
        "* [xmltodict](https://github.com/martinblech/xmltodict#using-pypi)\n",
        "\n",
        "Here is some help on installing packages in python: https://packaging.python.org/installing/. You can use ```pip --user``` to install locally without sudo.\n",
        "\n",
        "## About this assignment\n",
        "\n",
        "* Most of your coding will be in the python source files in the directory `mynlplib`.\n",
        "* The directory `tests` contains unit tests that will be used to grade your assignment, using `nosetests`. You should run them as you work on the assignment to see that you're on the right track. You are free to look at their source code, if that helps -- though most of the relevant code is also here in this notebook. **You should run the tests and make sure they can pass before submitting your assignment.**\n",
        "* **To submit this assignment, run the script `make-submission.sh`, and submit the tarball `pset4-submission.tgz` on Canvas. Make sure that the tarball contains all the files specified in `manifest.txt`.**"
      ]
    },
    {
      "cell_type": "code",
      "metadata": {
        "colab": {
          "base_uri": "https://localhost:8080/"
        },
        "id": "tlAl9M_5E0PR",
        "outputId": "43de807c-1df2-4bb5-899b-4a6a4b8e189d"
      },
      "source": [
        "! pip install nose"
      ],
      "execution_count": 1,
      "outputs": [
        {
          "output_type": "stream",
          "text": [
            "Collecting nose\n",
            "\u001b[?25l  Downloading https://files.pythonhosted.org/packages/15/d8/dd071918c040f50fa1cf80da16423af51ff8ce4a0f2399b7bf8de45ac3d9/nose-1.3.7-py3-none-any.whl (154kB)\n",
            "\r\u001b[K     |██▏                             | 10kB 14.0MB/s eta 0:00:01\r\u001b[K     |████▎                           | 20kB 18.8MB/s eta 0:00:01\r\u001b[K     |██████▍                         | 30kB 19.3MB/s eta 0:00:01\r\u001b[K     |████████▌                       | 40kB 11.8MB/s eta 0:00:01\r\u001b[K     |██████████▋                     | 51kB 7.1MB/s eta 0:00:01\r\u001b[K     |████████████▊                   | 61kB 7.4MB/s eta 0:00:01\r\u001b[K     |██████████████▉                 | 71kB 7.5MB/s eta 0:00:01\r\u001b[K     |█████████████████               | 81kB 7.8MB/s eta 0:00:01\r\u001b[K     |███████████████████             | 92kB 8.0MB/s eta 0:00:01\r\u001b[K     |█████████████████████▏          | 102kB 8.1MB/s eta 0:00:01\r\u001b[K     |███████████████████████▎        | 112kB 8.1MB/s eta 0:00:01\r\u001b[K     |█████████████████████████▍      | 122kB 8.1MB/s eta 0:00:01\r\u001b[K     |███████████████████████████▌    | 133kB 8.1MB/s eta 0:00:01\r\u001b[K     |█████████████████████████████▋  | 143kB 8.1MB/s eta 0:00:01\r\u001b[K     |███████████████████████████████▊| 153kB 8.1MB/s eta 0:00:01\r\u001b[K     |████████████████████████████████| 163kB 8.1MB/s \n",
            "\u001b[?25hInstalling collected packages: nose\n",
            "Successfully installed nose-1.3.7\n"
          ],
          "name": "stdout"
        }
      ]
    },
    {
      "cell_type": "code",
      "metadata": {
        "colab": {
          "base_uri": "https://localhost:8080/"
        },
        "id": "W6Yw8phTE371",
        "outputId": "cfb7f6e5-3437-42bd-966e-df0e5d0f41b3"
      },
      "source": [
        "! pip install xmltodict"
      ],
      "execution_count": 2,
      "outputs": [
        {
          "output_type": "stream",
          "text": [
            "Collecting xmltodict\n",
            "  Downloading https://files.pythonhosted.org/packages/28/fd/30d5c1d3ac29ce229f6bdc40bbc20b28f716e8b363140c26eff19122d8a5/xmltodict-0.12.0-py2.py3-none-any.whl\n",
            "Installing collected packages: xmltodict\n",
            "Successfully installed xmltodict-0.12.0\n"
          ],
          "name": "stdout"
        }
      ]
    },
    {
      "cell_type": "code",
      "metadata": {
        "id": "Ewyc9yP0EJAr"
      },
      "source": [
        "import nose\n",
        "import numpy as np\n",
        "import os\n",
        "import pickle\n",
        "import scipy\n",
        "import xmltodict\n",
        "from collections import Counter, defaultdict\n",
        "from nltk.tag import pos_tag\n",
        "\n",
        "import torch\n",
        "from torch.nn import functional as F\n",
        "import torch.optim as optim\n",
        "\n",
        "%load_ext autoreload\n",
        "%autoreload 2"
      ],
      "execution_count": 3,
      "outputs": []
    },
    {
      "cell_type": "code",
      "metadata": {
        "scrolled": true,
        "colab": {
          "base_uri": "https://localhost:8080/"
        },
        "id": "jxYg7X4IEJAr",
        "outputId": "43278e1e-7d50-4281-adcb-e5879363c6b6"
      },
      "source": [
        "print('My library versions')\n",
        "\n",
        "print('numpy: {}'.format(np.__version__))\n",
        "print('xmltodict: {}'.format(xmltodict.__version__))\n",
        "print('nose: {}'.format(nose.__version__))\n",
        "print('scipy: {}'.format(scipy.__version__))\n",
        "print('torch: {}'.format(torch.__version__))"
      ],
      "execution_count": 4,
      "outputs": [
        {
          "output_type": "stream",
          "text": [
            "My library versions\n",
            "numpy: 1.18.5\n",
            "xmltodict: 0.12.0\n",
            "nose: 1.3.7\n",
            "scipy: 1.4.1\n",
            "torch: 1.7.0+cu101\n"
          ],
          "name": "stdout"
        }
      ]
    },
    {
      "cell_type": "markdown",
      "metadata": {
        "id": "v9oIKSUeEJAs"
      },
      "source": [
        "To test whether your libraries are the right version, run:\n",
        "\n",
        "`nosetests tests/test_environment.py`"
      ]
    },
    {
      "cell_type": "code",
      "metadata": {
        "colab": {
          "base_uri": "https://localhost:8080/"
        },
        "id": "cq3ZJargEJAs",
        "outputId": "801dc80e-7291-4678-ceb8-b4b461ff19e4"
      },
      "source": [
        "# use ! to run shell commands in notebook\n",
        "! nosetests tests/test_environment.py"
      ],
      "execution_count": 5,
      "outputs": [
        {
          "output_type": "stream",
          "text": [
            ".\n",
            "----------------------------------------------------------------------\n",
            "Ran 1 test in 0.001s\n",
            "\n",
            "OK\n"
          ],
          "name": "stdout"
        }
      ]
    },
    {
      "cell_type": "code",
      "metadata": {
        "scrolled": true,
        "id": "qr9n3XPwEJAs"
      },
      "source": [
        "from mynlplib import coref, coref_rules, coref_features, coref_learning, neural_net, utils\n",
        "\n",
        "# constants for notebook use\n",
        "ETA_0 = 0.01"
      ],
      "execution_count": 16,
      "outputs": []
    },
    {
      "cell_type": "markdown",
      "metadata": {
        "id": "P651prheEJAs"
      },
      "source": [
        "# 1. Exploring the data (6 points)\n",
        "\n",
        "The core data is in the form of \"markables\", or \"referring expressions\", which refer to token sequences that can participate in coreference relations.\n",
        "\n",
        "Each markable is a namedtuple with five elements:\n",
        "- ```string```, which is a list of tokens\n",
        "- ```entity```, which defines the ground truth assignments\n",
        "- ```start_token```, the index of the first token in the markable with respect to the entire document\n",
        "- ```end_token```, one plus the index of the last token in the markable\n",
        "- ```tags```, POS tags corresponding to the tokens in ```string``` which will remain NULL for now\n",
        "\n",
        "The ```read_data``` function also returns a list of tokens.\n",
        "You can use this to incorporate the linguistic context around each markable.\n",
        "\n",
        "### Loading the dataset\n",
        "\n",
        "For most of this problem set, we will explore a dataset of articles from the Wall Street Journal (WSJ) extracted and annotated from the Penn Treebank (PTB)."
      ]
    },
    {
      "cell_type": "code",
      "metadata": {
        "id": "m1Ca935tEJAs"
      },
      "source": [
        "dv_dir = os.path.join('data','wsj','dev')\n",
        "tr_dir = os.path.join('data','wsj','train')\n",
        "te_dir = os.path.join('data','wsj','test') # all markables here are annotated as the same entity"
      ],
      "execution_count": 17,
      "outputs": []
    },
    {
      "cell_type": "code",
      "metadata": {
        "id": "X8duGXV_EJAs"
      },
      "source": [
        "markables, words = coref.read_data('06_wsj_0051.sty',basedir=tr_dir)"
      ],
      "execution_count": 18,
      "outputs": []
    },
    {
      "cell_type": "code",
      "metadata": {
        "scrolled": true,
        "colab": {
          "base_uri": "https://localhost:8080/"
        },
        "id": "S7OXixVwEJAs",
        "outputId": "e4347c52-a857-432f-9313-39713772d0e6"
      },
      "source": [
        "print('Markable object:', markables[0])\n",
        "print('Words for markable extracted from text:', words[markables[0].start_token:markables[0].end_token])"
      ],
      "execution_count": 19,
      "outputs": [
        {
          "output_type": "stream",
          "text": [
            "Markable object: Markable(string=['Fujitsu', 'Ltd.'], entity='set_3082', start_token=0, end_token=2, tags=['NULL', 'NULL'])\n",
            "Words for markable extracted from text: ['Fujitsu', 'Ltd.']\n"
          ],
          "name": "stdout"
        }
      ]
    },
    {
      "cell_type": "markdown",
      "metadata": {
        "id": "DSM_sao2EJAt"
      },
      "source": [
        "**Deliverable 1.1** (3 points): Write a function that returns all the markable **strings** associated with a given entity. Specifically, fill in the function `get_markables_for_entity()` in `coref.py`.\n",
        "\n",
        "* **Test:** `tests\\test_coref.py:test_get_markables_d1_1()`"
      ]
    },
    {
      "cell_type": "code",
      "metadata": {
        "scrolled": true,
        "colab": {
          "base_uri": "https://localhost:8080/"
        },
        "id": "qNMe-66WEJAt",
        "outputId": "bd3e3c43-79cf-4fcc-8584-ec17fa6d8667"
      },
      "source": [
        "sorted(coref.get_markables_for_entity(markables,'set_3082'))"
      ],
      "execution_count": 20,
      "outputs": [
        {
          "output_type": "execute_result",
          "data": {
            "text/plain": [
              "['Fujitsu',\n",
              " 'Fujitsu',\n",
              " 'Fujitsu',\n",
              " 'Fujitsu',\n",
              " 'Fujitsu',\n",
              " 'Fujitsu',\n",
              " 'Fujitsu',\n",
              " \"Fujitsu , Japan 's No. 1 computer maker\",\n",
              " 'Fujitsu Ltd.',\n",
              " 'It',\n",
              " 'The company',\n",
              " 'The company',\n",
              " 'We',\n",
              " 'his company',\n",
              " 'his company',\n",
              " 'it',\n",
              " 'it',\n",
              " 'it',\n",
              " 'it',\n",
              " 'it',\n",
              " 'it',\n",
              " 'its',\n",
              " 'its',\n",
              " 'the company']"
            ]
          },
          "metadata": {
            "tags": []
          },
          "execution_count": 20
        }
      ]
    },
    {
      "cell_type": "code",
      "metadata": {
        "colab": {
          "base_uri": "https://localhost:8080/"
        },
        "id": "WjGicptOFMyR",
        "outputId": "c72c5ceb-1167-43a7-c242-a7f1784b1aaa"
      },
      "source": [
        "import nltk\n",
        "nltk.download('averaged_perceptron_tagger')"
      ],
      "execution_count": 21,
      "outputs": [
        {
          "output_type": "stream",
          "text": [
            "[nltk_data] Downloading package averaged_perceptron_tagger to\n",
            "[nltk_data]     /root/nltk_data...\n",
            "[nltk_data]   Unzipping taggers/averaged_perceptron_tagger.zip.\n"
          ],
          "name": "stdout"
        },
        {
          "output_type": "execute_result",
          "data": {
            "text/plain": [
              "True"
            ]
          },
          "metadata": {
            "tags": []
          },
          "execution_count": 21
        }
      ]
    },
    {
      "cell_type": "code",
      "metadata": {
        "colab": {
          "base_uri": "https://localhost:8080/"
        },
        "id": "z07zrwJgFFif",
        "outputId": "15a67d01-c297-4fd1-dfd3-53ec906309cb"
      },
      "source": [
        "! nosetests tests/test_coref.py:test_get_markables_d1_1"
      ],
      "execution_count": 22,
      "outputs": [
        {
          "output_type": "stream",
          "text": [
            ".\n",
            "----------------------------------------------------------------------\n",
            "Ran 1 test in 0.942s\n",
            "\n",
            "OK\n"
          ],
          "name": "stdout"
        }
      ]
    },
    {
      "cell_type": "markdown",
      "metadata": {
        "id": "T9hFtAu5EJAt"
      },
      "source": [
        "**Deliverable 1.2** (3 points): Write a function that takes as input a string, and returns a list of distances to the most recent ground truth antecedent for every time the (case-insensitive) input string appears. For example, if the input is \"they\", it should make a list with one element for each time the word \"they\" appears in the list of markables. Each element should be the distance of the word \"they\" to the nearest previous mention of the entity that \"they\" references.\n",
        "\n",
        "Fill in the function `get_distances()` in `coref.py`. If the input string is not anaphoric, the distance should be zero. Note that input strings may contain spaces. You may use any other function in `coref.py` to help you.\n",
        "\n",
        "* **Test:** `tests\\test_coref.py:test_get_antecedents_d1_2()`"
      ]
    },
    {
      "cell_type": "code",
      "metadata": {
        "colab": {
          "base_uri": "https://localhost:8080/"
        },
        "id": "9UD5YStwEJAt",
        "outputId": "45defcf8-f2e2-4ee5-c086-a9b0ada70a8a"
      },
      "source": [
        "coref.get_distances(markables,'they')"
      ],
      "execution_count": 23,
      "outputs": [
        {
          "output_type": "execute_result",
          "data": {
            "text/plain": [
              "[1, 1, 1, 2, 2]"
            ]
          },
          "metadata": {
            "tags": []
          },
          "execution_count": 23
        }
      ]
    },
    {
      "cell_type": "markdown",
      "metadata": {
        "id": "bbGuomqMEJAt"
      },
      "source": [
        "Now let's compare the typical distances for various mention types.\n",
        "\n",
        "You can see the most frequent mention types by using the `Counter` class."
      ]
    },
    {
      "cell_type": "code",
      "metadata": {
        "colab": {
          "base_uri": "https://localhost:8080/"
        },
        "id": "YyT4Ey_tEJAt",
        "outputId": "557e6e07-7516-4eef-df56-1fdfdc4939c1"
      },
      "source": [
        "Counter([' '.join(markable.string) for markable in markables]).most_common(5)"
      ],
      "execution_count": 24,
      "outputs": [
        {
          "output_type": "execute_result",
          "data": {
            "text/plain": [
              "[('it', 9), ('Fujitsu', 7), ('Japan', 5), ('they', 5), ('NEC', 4)]"
            ]
          },
          "metadata": {
            "tags": []
          },
          "execution_count": 24
        }
      ]
    },
    {
      "cell_type": "code",
      "metadata": {
        "colab": {
          "base_uri": "https://localhost:8080/"
        },
        "id": "-hkr05OsEJAu",
        "outputId": "d1d014c1-3c8e-4db0-bd3b-049c65155f9e"
      },
      "source": [
        "coref.get_distances(markables, 'Fujitsu')"
      ],
      "execution_count": 25,
      "outputs": [
        {
          "output_type": "execute_result",
          "data": {
            "text/plain": [
              "[15, 8, 49, 12, 7, 4, 2]"
            ]
          },
          "metadata": {
            "tags": []
          },
          "execution_count": 25
        }
      ]
    },
    {
      "cell_type": "code",
      "metadata": {
        "scrolled": true,
        "colab": {
          "base_uri": "https://localhost:8080/"
        },
        "id": "8rSwG-8vEJAu",
        "outputId": "17645750-9c2d-48be-d9e2-42e45bc670b3"
      },
      "source": [
        "coref.get_distances(markables, 'the company')"
      ],
      "execution_count": 26,
      "outputs": [
        {
          "output_type": "execute_result",
          "data": {
            "text/plain": [
              "[4, 4, 6]"
            ]
          },
          "metadata": {
            "tags": []
          },
          "execution_count": 26
        }
      ]
    },
    {
      "cell_type": "code",
      "metadata": {
        "colab": {
          "base_uri": "https://localhost:8080/"
        },
        "id": "0ZLi7rUUEJAu",
        "outputId": "1276a4e6-924b-499d-e475-af45e6ae083a"
      },
      "source": [
        "coref.get_distances(markables, 'it') # there are 10 because our counter was case-sensitive"
      ],
      "execution_count": 27,
      "outputs": [
        {
          "output_type": "execute_result",
          "data": {
            "text/plain": [
              "[1, 2, 2, 1, 6, 1, 6, 2, 6, 1]"
            ]
          },
          "metadata": {
            "tags": []
          },
          "execution_count": 27
        }
      ]
    },
    {
      "cell_type": "code",
      "metadata": {
        "colab": {
          "base_uri": "https://localhost:8080/"
        },
        "id": "vpDhwQO3FUIC",
        "outputId": "4ca43c4c-4d92-424a-d923-79d50cb2da8a"
      },
      "source": [
        "! nosetests tests/test_coref.py:test_get_antecedents_d1_2"
      ],
      "execution_count": 28,
      "outputs": [
        {
          "output_type": "stream",
          "text": [
            ".\n",
            "----------------------------------------------------------------------\n",
            "Ran 1 test in 0.971s\n",
            "\n",
            "OK\n"
          ],
          "name": "stdout"
        }
      ]
    },
    {
      "cell_type": "markdown",
      "metadata": {
        "id": "AlmbDjZvEJAv"
      },
      "source": [
        "# 2. Rule-based coreference resolution (18 points)\n",
        "\n",
        "We have written a simple coreference classifier, which predicts that each markable is linked to the most recent antecedent which is an exact string match.\n",
        "\n",
        "The code block below applies this method to the dev set."
      ]
    },
    {
      "cell_type": "code",
      "metadata": {
        "id": "cRLfBMMxEJAv"
      },
      "source": [
        "exact_matcher = coref_rules.make_resolver(coref_rules.exact_match)"
      ],
      "execution_count": 29,
      "outputs": []
    },
    {
      "cell_type": "markdown",
      "metadata": {
        "id": "4a3ppo3xEJAv"
      },
      "source": [
        "The code above has two pieces:\n",
        "\n",
        "- ```coref_rules.exact_match()``` is a function that takes two markables, and returns `True` iff they are an exact (case-insensitive) string match\n",
        "- ```make_resolver()``` is a function that takes a matching function, and returns a function that computes an antecedent list for a list of markables.\n",
        "\n",
        "Let's run it."
      ]
    },
    {
      "cell_type": "code",
      "metadata": {
        "colab": {
          "base_uri": "https://localhost:8080/"
        },
        "id": "uMsWdxiZEJAv",
        "outputId": "be7c59ad-1afd-4172-d46e-0be418ed4b4f"
      },
      "source": [
        "ant_exact = exact_matcher(markables)\n",
        "print(ant_exact[:20])"
      ],
      "execution_count": 30,
      "outputs": [
        {
          "output_type": "stream",
          "text": [
            "[0, 1, 2, 3, 4, 5, 6, 7, 8, 9, 10, 11, 12, 13, 14, 15, 16, 17, 18, 19]\n"
          ],
          "name": "stdout"
        }
      ]
    },
    {
      "cell_type": "markdown",
      "metadata": {
        "id": "qEAx8CgPEJAv"
      },
      "source": [
        "The output is a list of antecedent numbers, $c_i$. \n",
        "When $c_i = i$, the markable $i$ has no antecedent: it is the first mention of its entity. In this case, all first 20 mentions are new and don't have antecedents. You can try and modify the cell to look further down the list to see if there are ever actual matches, which we know should occur due to the output of cell 5.\n",
        "\n",
        "We can test whether these predictions are correct by comparing against the key."
      ]
    },
    {
      "cell_type": "code",
      "metadata": {
        "id": "KVrDtveAEJAv"
      },
      "source": [
        "ant_true = coref.get_true_antecedents(markables)"
      ],
      "execution_count": 31,
      "outputs": []
    },
    {
      "cell_type": "code",
      "metadata": {
        "colab": {
          "base_uri": "https://localhost:8080/"
        },
        "id": "YuRr_4QxEJAv",
        "outputId": "c27f5d52-670f-4170-f28f-d7e28df73984"
      },
      "source": [
        "num_correct = sum([c_true == c_predict for c_true, c_predict in zip(ant_true, ant_exact)])\n",
        "acc = num_correct / len(markables)\n",
        "print(f'correct: {num_correct}\\taccuracy: {acc:.3f}')"
      ],
      "execution_count": 32,
      "outputs": [
        {
          "output_type": "stream",
          "text": [
            "correct: 128\taccuracy: 0.660\n"
          ],
          "name": "stdout"
        }
      ]
    },
    {
      "cell_type": "markdown",
      "metadata": {
        "id": "-ocqveCxEJAv"
      },
      "source": [
        "## Evaluation\n",
        "\n",
        "Coreference can be evaluated in terms of recall, precision, and F-measure. Here is how we will define these terms:\n",
        "\n",
        "- **True positive**: The system predicts $\\hat{c}_i < i$, and $\\hat{c}_i$ and $i$ are references to the same entity.\n",
        "- **False positive**: The system predicts $\\hat{c}_i < i$, but $\\hat{c}_i$ and $i$ are not references to the same entity.\n",
        "- **False negative**: There exists some $c_i < i$ such that $c_i$ and $i$ are references to the same entity, but the system predicts either $\\hat{c}_i = i$, or some $\\hat{c}_i$ which is not really a reference to the same entity that $i$ references.\n",
        "- Recall = $\\frac{tp}{tp + fn}$\n",
        "- Precision = $\\frac{tp}{tp + fp}$\n",
        "- F-measure = $\\frac{2RP}{R+P}$\n",
        "\n",
        "A couple of things to notice here:\n",
        "\n",
        "- There is no reward for correctly identifying a markable as non-anaphoric (not having any antecedent), but you do avoid committing a false positive by doing this.\n",
        "- You cannot compute the evaluation by directly matching the predicted antecedents to the true antecedents. Suppose the truth is $a \\leftarrow b, b \\leftarrow c$, but the system predicts $a \\leftarrow b, a \\leftarrow c$: the system should receive two true positives, since $a$ and $c$ are references to the same entity in the ground truth.\n",
        "\n",
        "**Deliverable 2.1** (6 points): Implement `get_tp()`, `get_fp()`, and `get_fn()` in `coref.py`. You will want to use the function `coref.get_entities()`.\n",
        "\n",
        "* **Test:** `tests\\test_coref.py:test_recall_d2_1(), test_precision_d2_1(), test_fmeasure_d2_1()`\n",
        "\n",
        "**NOTE!** You **must** successfully complete this deliverable. Otherwise, some of the unit tests won't work and you won't be able to complete the rest of the assignment."
      ]
    },
    {
      "cell_type": "code",
      "metadata": {
        "colab": {
          "base_uri": "https://localhost:8080/"
        },
        "id": "rvhRL6tdEJAv",
        "outputId": "5720935b-0448-4280-ef96-6fff2113c673"
      },
      "source": [
        "f,r,p = coref.evaluate_f(exact_matcher, markables)\n",
        "print(f'{f:.4f}\\t{r:.4f}\\t{p:.4f}')"
      ],
      "execution_count": 33,
      "outputs": [
        {
          "output_type": "stream",
          "text": [
            "0.5231\t0.4096\t0.7234\n"
          ],
          "name": "stdout"
        }
      ]
    },
    {
      "cell_type": "code",
      "metadata": {
        "id": "jp3qhDtGEJAv"
      },
      "source": [
        "all_markables, all_words = coref.read_dataset(tr_dir)"
      ],
      "execution_count": 34,
      "outputs": []
    },
    {
      "cell_type": "code",
      "metadata": {
        "colab": {
          "base_uri": "https://localhost:8080/"
        },
        "id": "dUwWbQ7uEJAv",
        "outputId": "f8c42310-f51d-48b6-f791-4bf3656eba57"
      },
      "source": [
        "coref.eval_on_dataset(exact_matcher, all_markables);"
      ],
      "execution_count": 35,
      "outputs": [
        {
          "output_type": "stream",
          "text": [
            "F: 0.5452\tR: 0.4130\tP:0.8018\n"
          ],
          "name": "stdout"
        }
      ]
    },
    {
      "cell_type": "markdown",
      "metadata": {
        "id": "NTmEb-Z8EJAw"
      },
      "source": [
        "Before optimizing on this simple F-measure (sometimes called F1) and its components, one should be aware that in the real world coreference is evaluated over three other metrics, namely $B^3$, **`CEAF`**, and **`MUC`**. We have implemented them for you, and will check our performance on them from time to time. You can read more about them [here](http://www.anthology.aclweb.org/W/W10/W10-4305.pdf)."
      ]
    },
    {
      "cell_type": "code",
      "metadata": {
        "id": "-LeJiGuzEJAw"
      },
      "source": [
        "def coref_metrics(matcher, dataset):\n",
        "    ants = [matcher(m) for m in dataset]\n",
        "    b3, ceaf, muc = coref.evaluate_bcm(dataset, ants)\n",
        "    avg_f1 = np.average([b3, ceaf, muc])\n",
        "    print(f'B-Cubed: {b3:.4f}\\tCEAF: {ceaf:.4f}\\tMUC: {muc:.4f}\\tAverage: {avg_f1:.4f}')"
      ],
      "execution_count": 36,
      "outputs": []
    },
    {
      "cell_type": "code",
      "metadata": {
        "scrolled": true,
        "colab": {
          "base_uri": "https://localhost:8080/"
        },
        "id": "wa6iSX5_EJAw",
        "outputId": "c2f5d0fb-fcbe-4b20-db81-30d4a44d7a92"
      },
      "source": [
        "coref_metrics(exact_matcher, all_markables); #\"Average\" is the commonly used main metric in state-of-the-art systems."
      ],
      "execution_count": 37,
      "outputs": [
        {
          "output_type": "stream",
          "text": [
            "B-Cubed: 0.5756\tCEAF: 0.4551\tMUC: 0.5605\tAverage: 0.5304\n"
          ],
          "name": "stdout"
        }
      ]
    },
    {
      "cell_type": "code",
      "metadata": {
        "colab": {
          "base_uri": "https://localhost:8080/"
        },
        "id": "sT5AGUeJFk86",
        "outputId": "f9fb73c3-ae4e-4db9-c0ae-599abdf0c754"
      },
      "source": [
        "! nosetests tests/test_coref.py:test_recall_d2_1"
      ],
      "execution_count": 38,
      "outputs": [
        {
          "output_type": "stream",
          "text": [
            ".\n",
            "----------------------------------------------------------------------\n",
            "Ran 1 test in 0.957s\n",
            "\n",
            "OK\n"
          ],
          "name": "stdout"
        }
      ]
    },
    {
      "cell_type": "code",
      "metadata": {
        "colab": {
          "base_uri": "https://localhost:8080/"
        },
        "id": "d7A7gm7AFrNO",
        "outputId": "382ac3bc-c25e-4334-fc0d-51f70d7a7e36"
      },
      "source": [
        "! nosetests tests/test_coref.py:test_precision_d2_1"
      ],
      "execution_count": 39,
      "outputs": [
        {
          "output_type": "stream",
          "text": [
            ".\n",
            "----------------------------------------------------------------------\n",
            "Ran 1 test in 0.964s\n",
            "\n",
            "OK\n"
          ],
          "name": "stdout"
        }
      ]
    },
    {
      "cell_type": "code",
      "metadata": {
        "colab": {
          "base_uri": "https://localhost:8080/"
        },
        "id": "hKqKDj9SFy9W",
        "outputId": "ac04b71d-25c2-400d-898c-28e09cb7bcd1"
      },
      "source": [
        "! nosetests tests/test_coref.py:test_fmeasure_d2_1"
      ],
      "execution_count": 40,
      "outputs": [
        {
          "output_type": "stream",
          "text": [
            ".\n",
            "----------------------------------------------------------------------\n",
            "Ran 1 test in 0.953s\n",
            "\n",
            "OK\n"
          ],
          "name": "stdout"
        }
      ]
    },
    {
      "cell_type": "markdown",
      "metadata": {
        "id": "7S9gyp5IEJAw"
      },
      "source": [
        "The reasons for having multiple measures for coref evaluation is manyfold. One of them, discussed in the paper linked to above, has to do with the pre-resolution task of *identifying markables*. Since we're only working with pre-extracted markables, that needn't worry us.\n",
        "\n",
        "The other reason is that different perspectives on coreference matching are equally plausible - we can focus on single correct predictions, or finding the correct clusters for each entity , for example. Each of these is \"gameable\" by different trivial classifiers.\n",
        "\n",
        "**Deliverable 2.2** (3 points): To witness this problem, you will implement `coref_rules.singleton_matcher()`, which produces an assignment where each markable has its own entity, and `coref_rules.full_cluster_matcher()`, which assigns all markables to the same entity. Running the metrics against them will demonstrate the problem.\n",
        "\n",
        "* **Test:** `tests\\test_coref.py:test_singleton_matcher_d2_2(), test_full_cluster_matcher_d2_2()`"
      ]
    },
    {
      "cell_type": "code",
      "metadata": {
        "colab": {
          "base_uri": "https://localhost:8080/"
        },
        "id": "2oWbW6XUEJAw",
        "outputId": "8d2d620c-2f9a-4987-de42-df2e0b4eba7c"
      },
      "source": [
        "singleton_resolver = coref_rules.make_resolver(coref_rules.singleton_matcher)\n",
        "coref_metrics(singleton_resolver, all_markables);"
      ],
      "execution_count": 41,
      "outputs": [
        {
          "output_type": "stream",
          "text": [
            "B-Cubed: 0.3411\tCEAF: 0.0012\tMUC: 0.0000\tAverage: 0.1141\n"
          ],
          "name": "stdout"
        }
      ]
    },
    {
      "cell_type": "markdown",
      "metadata": {
        "id": "hiRWMpsyEJAw"
      },
      "source": [
        "MUC has an inherent problem evaluating singleton entities. $B^3$, on the other hand, is extra-generous with them."
      ]
    },
    {
      "cell_type": "code",
      "metadata": {
        "colab": {
          "base_uri": "https://localhost:8080/"
        },
        "id": "JAMUrTMlEJAw",
        "outputId": "be79a771-7e2f-4e05-f169-d8b4ba52b20f"
      },
      "source": [
        "full_cluster_resolver = coref_rules.make_resolver(coref_rules.full_cluster_matcher)\n",
        "coref_metrics(full_cluster_resolver, all_markables);"
      ],
      "execution_count": 42,
      "outputs": [
        {
          "output_type": "stream",
          "text": [
            "B-Cubed: 0.0739\tCEAF: 0.0304\tMUC: 0.5552\tAverage: 0.2199\n"
          ],
          "name": "stdout"
        }
      ]
    },
    {
      "cell_type": "markdown",
      "metadata": {
        "id": "8NHjSYrTEJAw"
      },
      "source": [
        "In this case MUC, which is focused on detecting incompatible clusters, is fairly comfortable with the fact that there's only one predicted cluster.\n",
        "CEAF, a metric which gives low precision very easily, is difficult to score high on."
      ]
    },
    {
      "cell_type": "code",
      "metadata": {
        "colab": {
          "base_uri": "https://localhost:8080/"
        },
        "id": "5mhX0rr6F8bh",
        "outputId": "82860caf-7c84-4c1e-a99f-3ca1e8209b7a"
      },
      "source": [
        "! nosetests tests/test_coref.py:test_singleton_matcher_d2_2"
      ],
      "execution_count": 43,
      "outputs": [
        {
          "output_type": "stream",
          "text": [
            ".\n",
            "----------------------------------------------------------------------\n",
            "Ran 1 test in 0.930s\n",
            "\n",
            "OK\n"
          ],
          "name": "stdout"
        }
      ]
    },
    {
      "cell_type": "code",
      "metadata": {
        "colab": {
          "base_uri": "https://localhost:8080/"
        },
        "id": "9bhOt1vtGA-5",
        "outputId": "81c8b750-25de-4896-a366-3b990be88b64"
      },
      "source": [
        "! nosetests tests/test_coref.py:test_full_cluster_matcher_d2_2"
      ],
      "execution_count": 44,
      "outputs": [
        {
          "output_type": "stream",
          "text": [
            ".\n",
            "----------------------------------------------------------------------\n",
            "Ran 1 test in 0.923s\n",
            "\n",
            "OK\n"
          ],
          "name": "stdout"
        }
      ]
    },
    {
      "cell_type": "markdown",
      "metadata": {
        "id": "8ditjkloEJAw"
      },
      "source": [
        "## Increasing precision\n",
        "\n",
        "The `exact_match()` function matches everything, including pronouns. This can lead to mistakes:\n",
        "\n",
        "\"Umashanthi ate pizza until she was full. Parvati kept eating until she had a stomach ache.\"\n",
        "\n",
        "In this example, both pronouns likely refer to the names that immediately precede them, and not to each other.\n",
        "\n",
        "**Deliverable 2.3** (1.5 points): The file `coref_rules.py` contains the signature for a function `exact_match_no_pronoun()`, which solves this problem by only predicting matches between markables that are not pronouns. Implement and test this function. For now, you may use the list of pronouns provided in the code file `coref_rules.py`.\n",
        "\n",
        "* **Test:** `tests\\test_coref.py:test_match_nopro_d2_3(), tests\\test_coref.py:test_match_nopro_f1_d2_3()`"
      ]
    },
    {
      "cell_type": "code",
      "metadata": {
        "id": "1BiuTW2dEJAw"
      },
      "source": [
        "no_pro_matcher = coref_rules.make_resolver(coref_rules.exact_match_no_pronouns)"
      ],
      "execution_count": 45,
      "outputs": []
    },
    {
      "cell_type": "code",
      "metadata": {
        "colab": {
          "base_uri": "https://localhost:8080/"
        },
        "id": "nUK0g6gfEJAw",
        "outputId": "2b4cd7a6-61fe-4a08-8a37-a4ac931fce92"
      },
      "source": [
        "f,r,p = coref.eval_on_dataset(no_pro_matcher,all_markables);"
      ],
      "execution_count": 46,
      "outputs": [
        {
          "output_type": "stream",
          "text": [
            "F: 0.4551\tR: 0.3028\tP:0.9158\n"
          ],
          "name": "stdout"
        }
      ]
    },
    {
      "cell_type": "code",
      "metadata": {
        "colab": {
          "base_uri": "https://localhost:8080/"
        },
        "id": "vA_xDeQ8EJAw",
        "outputId": "8f44c229-d6be-4657-d92b-96bd704f9ae8"
      },
      "source": [
        "coref_metrics(no_pro_matcher, all_markables);"
      ],
      "execution_count": 47,
      "outputs": [
        {
          "output_type": "stream",
          "text": [
            "B-Cubed: 0.5678\tCEAF: 0.4269\tMUC: 0.4568\tAverage: 0.4839\n"
          ],
          "name": "stdout"
        }
      ]
    },
    {
      "cell_type": "markdown",
      "metadata": {
        "id": "F9S90h5yEJAx"
      },
      "source": [
        "Precision has increased, but recall decreased, dragging down the overall F-measure as well as our favorite metrics."
      ]
    },
    {
      "cell_type": "code",
      "metadata": {
        "colab": {
          "base_uri": "https://localhost:8080/"
        },
        "id": "rstPmtOkGNwC",
        "outputId": "c2c0f708-37ed-4fc6-b7e7-21ff1955659c"
      },
      "source": [
        "! nosetests tests/test_coref.py:test_match_nopro_d2_3"
      ],
      "execution_count": 48,
      "outputs": [
        {
          "output_type": "stream",
          "text": [
            ".\n",
            "----------------------------------------------------------------------\n",
            "Ran 1 test in 0.906s\n",
            "\n",
            "OK\n"
          ],
          "name": "stdout"
        }
      ]
    },
    {
      "cell_type": "code",
      "metadata": {
        "colab": {
          "base_uri": "https://localhost:8080/"
        },
        "id": "ln4Zug5RGSBt",
        "outputId": "094fab9f-9ab5-4387-98a1-9b4d58e85a5f"
      },
      "source": [
        "! nosetests tests/test_coref.py:test_match_nopro_f1_d2_3"
      ],
      "execution_count": 49,
      "outputs": [
        {
          "output_type": "stream",
          "text": [
            ".\n",
            "----------------------------------------------------------------------\n",
            "Ran 1 test in 1.179s\n",
            "\n",
            "OK\n"
          ],
          "name": "stdout"
        }
      ]
    },
    {
      "cell_type": "markdown",
      "metadata": {
        "id": "f5HhP61REJAx"
      },
      "source": [
        "## Increasing recall\n",
        "\n",
        "Our current matcher is very conservative. Let's try to increase recall. One solution is match on the **head word** of each markable. \n",
        "\n",
        "As you know, in a CFG parse, the head word is defined by a set of rules: for example, the head of a determiner-noun construction is the noun. In a dependency parse, the head word would be the root of the subtree governing the markable span. But this assumes that the markables correspond to syntactic constituents or dependency subtrees. This is not guaranteed to be true - particularly when there are parsing errors.\n",
        "\n",
        "**Deliverable 2.4** (1.5 points): Let's start with a much simpler head-finding heuristic: simply select the *last word* in the markable. This handles many cases - but as we will see, not all. To do this, implement the function `match_last_token()` in ```coref_rules.py```. This function should match all cases where the final tokens match.\n",
        "\n",
        "* **Test:** `tests\\test_coref.py:test_match_last_tok_d2_4()`"
      ]
    },
    {
      "cell_type": "code",
      "metadata": {
        "id": "vwEwSsBOEJAx"
      },
      "source": [
        "last_tok_matcher = coref_rules.make_resolver(coref_rules.match_last_token)"
      ],
      "execution_count": 50,
      "outputs": []
    },
    {
      "cell_type": "code",
      "metadata": {
        "colab": {
          "base_uri": "https://localhost:8080/"
        },
        "id": "O2cq-e_qEJAx",
        "outputId": "0332c1a6-d4e6-4c80-c7a8-f0e8bab19032"
      },
      "source": [
        "coref.eval_on_dataset(last_tok_matcher,all_markables);"
      ],
      "execution_count": 51,
      "outputs": [
        {
          "output_type": "stream",
          "text": [
            "F: 0.3994\tR: 0.4385\tP:0.3666\n"
          ],
          "name": "stdout"
        }
      ]
    },
    {
      "cell_type": "code",
      "metadata": {
        "colab": {
          "base_uri": "https://localhost:8080/"
        },
        "id": "AjRtEr5VGbz0",
        "outputId": "0e6da850-b057-4f20-f0bd-405d868e287b"
      },
      "source": [
        "! nosetests tests/test_coref.py:test_match_last_tok_d2_4"
      ],
      "execution_count": 52,
      "outputs": [
        {
          "output_type": "stream",
          "text": [
            ".\n",
            "----------------------------------------------------------------------\n",
            "Ran 1 test in 0.920s\n",
            "\n",
            "OK\n"
          ],
          "name": "stdout"
        }
      ]
    },
    {
      "cell_type": "markdown",
      "metadata": {
        "id": "ai8KeCqNEJAx"
      },
      "source": [
        "Recall is up, but precision is back down. To try to increase precision, let's add one more rule: two markables cannot coref if their spans overlap. This can happen with nested mentions, such as \"(the president (of the United States))\". Under our last-token rule, these two mentions would co-refer, but logically, overlapping markables cannot refer to the same entity. \n",
        "\n",
        "**Deliverable 2.5** (1.5 points): Fill in the function `match_last_token_no_overlap()`, which should match any two markables that share the same last token, unless their spans overlap. Use the `start_token` and `end_token` members of each markable to determine whether they overlap. the final tokens match.\n",
        "\n",
        "* **Test:** `tests\\test_coref.py:test_match_no_overlap_f1_d2_5()`"
      ]
    },
    {
      "cell_type": "code",
      "metadata": {
        "colab": {
          "base_uri": "https://localhost:8080/"
        },
        "id": "J4t_W8lZEJAx",
        "outputId": "94eed303-7bc4-4250-f713-1257f40d885b"
      },
      "source": [
        "mltno_matcher = coref_rules.make_resolver(coref_rules.match_last_token_no_overlap)\n",
        "coref.eval_on_dataset(mltno_matcher,all_markables);"
      ],
      "execution_count": 53,
      "outputs": [
        {
          "output_type": "stream",
          "text": [
            "F: 0.4911\tR: 0.4965\tP:0.4858\n"
          ],
          "name": "stdout"
        }
      ]
    },
    {
      "cell_type": "markdown",
      "metadata": {
        "id": "qw94481bEJAx"
      },
      "source": [
        "Both recall and precision increase. Why would recall increase? The restriction does not create any new coreference links, but it changes some incorrect links to correct links. This increases the number of true positives and reduces the number of false negatives."
      ]
    },
    {
      "cell_type": "code",
      "metadata": {
        "scrolled": true,
        "colab": {
          "base_uri": "https://localhost:8080/"
        },
        "id": "xFH3xjPqEJAx",
        "outputId": "5b45636d-47da-4d94-a358-1cd1064dcad4"
      },
      "source": [
        "coref_metrics(mltno_matcher, all_markables);"
      ],
      "execution_count": 54,
      "outputs": [
        {
          "output_type": "stream",
          "text": [
            "B-Cubed: 0.5571\tCEAF: 0.4610\tMUC: 0.5473\tAverage: 0.5218\n"
          ],
          "name": "stdout"
        }
      ]
    },
    {
      "cell_type": "markdown",
      "metadata": {
        "id": "zls7RRu8EJAx"
      },
      "source": [
        "Almost back to the results from the exact matcher."
      ]
    },
    {
      "cell_type": "code",
      "metadata": {
        "colab": {
          "base_uri": "https://localhost:8080/"
        },
        "id": "1kqNOQx8Gk3E",
        "outputId": "fdda874a-0214-42d9-d91b-2dcd39c4b77b"
      },
      "source": [
        "! nosetests tests/test_coref.py:test_match_no_overlap_f1_d2_5"
      ],
      "execution_count": 55,
      "outputs": [
        {
          "output_type": "stream",
          "text": [
            ".\n",
            "----------------------------------------------------------------------\n",
            "Ran 1 test in 1.281s\n",
            "\n",
            "OK\n"
          ],
          "name": "stdout"
        }
      ]
    },
    {
      "cell_type": "markdown",
      "metadata": {
        "id": "8atfHhCKEJAx"
      },
      "source": [
        "## Error analysis\n",
        "\n",
        "To see whether we can do even better, let's try some error analysis on a specific file."
      ]
    },
    {
      "cell_type": "code",
      "metadata": {
        "id": "ZZyBaakAEJAx"
      },
      "source": [
        "# predicted antecedent series\n",
        "markables_17, _ = coref.read_data('17_wsj_0072.sty',basedir=tr_dir)\n",
        "ant = coref_rules.make_resolver(coref_rules.match_last_token_no_overlap)(markables_17)"
      ],
      "execution_count": 56,
      "outputs": []
    },
    {
      "cell_type": "code",
      "metadata": {
        "id": "oFUiHbO8EJAx"
      },
      "source": [
        "# let's look at large entities\n",
        "m2e, e2m = coref.markables_to_entities(markables_17,ant)\n",
        "big_entities = [ent for ent, vals in e2m.items() if len(vals) > 10]"
      ],
      "execution_count": 57,
      "outputs": []
    },
    {
      "cell_type": "code",
      "metadata": {
        "scrolled": true,
        "colab": {
          "base_uri": "https://localhost:8080/"
        },
        "id": "ocDoAMrqEJAx",
        "outputId": "0c002eb9-3202-4306-dc00-6474fb9dd61a"
      },
      "source": [
        "for entity in big_entities:\n",
        "    print(f'Entity {entity}: {len(e2m[entity])} mentions')\n",
        "    print([' '.join(markables_17[idx].string) for idx in e2m[entity]])\n",
        "    print()"
      ],
      "execution_count": 58,
      "outputs": [
        {
          "output_type": "stream",
          "text": [
            "Entity 8: 11 mentions\n",
            "['Fed', 'Kansas City Fed', 'the Fed', 'the Fed', 'The Fed', 'The report from the Fed', 'the Fed', 'The Philadelphia Fed', 'Fed', 'Fed', 'regional Fed']\n",
            "\n"
          ],
          "name": "stdout"
        }
      ]
    },
    {
      "cell_type": "markdown",
      "metadata": {
        "id": "FU67f8ZMEJAy"
      },
      "source": [
        "## Incorporating parts of speech\n",
        "\n",
        "One clear mistake is that we are matching ''Kansas City Fed'' to ''The Philadelphia Fed'' and other ''Fed''s. The last token heuristic is the culprit: in this case, the first token is a key disambiguator. Let's try a more syntactically-motivated approach. \n",
        "\n",
        "Instead of matching the last token (low precision) or matching on all tokens (low recall), let's try matching on all *content* words. Let's start by including only the following grammatical categories:\n",
        "\n",
        "- Nouns (proper, common, singular, plural)\n",
        "- Pronouns (including possessive)\n",
        "- Adjectives (including comparative and superlative)\n",
        "- Cardinal numbers\n",
        "\n",
        "To get these categories, we can call `read_dataset()` again with the optional `tagger` argument, a part of speech tagger. We'll use NLTK for this project, which has a structured perceptron tagger on the [PTB tagset](https://www.ling.upenn.edu/courses/Fall_2003/ling001/penn_treebank_pos.html). "
      ]
    },
    {
      "cell_type": "code",
      "metadata": {
        "scrolled": true,
        "id": "c-wJeH3oEJAy"
      },
      "source": [
        "all_markables, _ = coref.read_dataset(tr_dir, tagger=pos_tag)\n",
        "all_markables_dev, all_words_dev = coref.read_dataset(dv_dir, tagger=pos_tag)\n",
        "all_markables_te, all_words_test = coref.read_dataset(te_dir, tagger=pos_tag)"
      ],
      "execution_count": 59,
      "outputs": []
    },
    {
      "cell_type": "code",
      "metadata": {
        "colab": {
          "base_uri": "https://localhost:8080/"
        },
        "id": "93an5uuFEJAy",
        "outputId": "43b7683a-c4b0-4bcc-e72f-3932429a06e8"
      },
      "source": [
        "all_markables[1][1]"
      ],
      "execution_count": 60,
      "outputs": [
        {
          "output_type": "execute_result",
          "data": {
            "text/plain": [
              "Markable(string=['a', 'trade', 'deficit', 'of', '$', '101', 'million'], entity='set_972', start_token=3, end_token=10, tags=['DT', 'NN', 'NN', 'IN', '$', 'CD', 'CD'])"
            ]
          },
          "metadata": {
            "tags": []
          },
          "execution_count": 60
        }
      ]
    },
    {
      "cell_type": "code",
      "metadata": {
        "id": "xDDr7wEOlc5_"
      },
      "source": [
        "#all_markables[0]"
      ],
      "execution_count": 128,
      "outputs": []
    },
    {
      "cell_type": "markdown",
      "metadata": {
        "id": "5OqRG1fdEJAy"
      },
      "source": [
        "As you can see, the markables now have the `tags` member populated with the part-of-speech tags for each token in the `string` field.\n",
        "\n",
        "**Deliverable 2.6** (3 points): Now implement a new matcher, `coref_rules.match_on_content()`. Your code should match $m_a$ and $m_i$ iff all content words are identical. It should also enforce the \"no overlap\" restriction defined above.\n",
        "\n",
        "* **Test:** `tests\\test_coref.py:test_match_content_f1_d2_6()`"
      ]
    },
    {
      "cell_type": "code",
      "metadata": {
        "colab": {
          "base_uri": "https://localhost:8080/"
        },
        "id": "14MEs_9cEJAy",
        "outputId": "f059c9c9-a660-4679-8eae-1d8a720957b6"
      },
      "source": [
        "content_matcher = coref_rules.make_resolver(coref_rules.match_on_content)\n",
        "coref.eval_on_dataset(content_matcher, all_markables);"
      ],
      "execution_count": 61,
      "outputs": [
        {
          "output_type": "stream",
          "text": [
            "F: 0.5565\tR: 0.4374\tP:0.7647\n"
          ],
          "name": "stdout"
        }
      ]
    },
    {
      "cell_type": "code",
      "metadata": {
        "colab": {
          "base_uri": "https://localhost:8080/"
        },
        "id": "evf70tNSEJAy",
        "outputId": "30cffc63-3edb-4361-c646-23a13801da8c"
      },
      "source": [
        "coref_metrics(content_matcher, all_markables);"
      ],
      "execution_count": 62,
      "outputs": [
        {
          "output_type": "stream",
          "text": [
            "B-Cubed: 0.5872\tCEAF: 0.4725\tMUC: 0.5727\tAverage: 0.5441\n"
          ],
          "name": "stdout"
        }
      ]
    },
    {
      "cell_type": "code",
      "metadata": {
        "colab": {
          "base_uri": "https://localhost:8080/"
        },
        "id": "XpkWyyK0GvnG",
        "outputId": "4336a69e-83c9-4544-85b0-f6ac93cdb7a0"
      },
      "source": [
        "! nosetests tests/test_coref.py:test_match_content_f1_d2_6"
      ],
      "execution_count": 63,
      "outputs": [
        {
          "output_type": "stream",
          "text": [
            ".\n",
            "----------------------------------------------------------------------\n",
            "Ran 1 test in 1.586s\n",
            "\n",
            "OK\n"
          ],
          "name": "stdout"
        }
      ]
    },
    {
      "cell_type": "markdown",
      "metadata": {
        "id": "MLVyDV04EJAy"
      },
      "source": [
        "Finally getting some headway on those metrics!"
      ]
    },
    {
      "cell_type": "markdown",
      "metadata": {
        "id": "tcYNcjSoEJAy"
      },
      "source": [
        "**Deliverable 2.7** (1.5 points): Run the code blocks below to output predictions for the dev and test data.\n",
        "\n",
        "* **Test:** `tests\\test_coref.py:test_dev_acc_f1_d2_7(), test_test_acc_f1_d2_7()`"
      ]
    },
    {
      "cell_type": "code",
      "metadata": {
        "scrolled": true,
        "id": "MaCH0ebMEJAy"
      },
      "source": [
        "!mkdir -p predictions"
      ],
      "execution_count": 64,
      "outputs": []
    },
    {
      "cell_type": "code",
      "metadata": {
        "id": "RecZ33hVEJAy"
      },
      "source": [
        "coref.write_predictions(coref_rules.make_resolver(coref_rules.match_on_content),\n",
        "                        all_markables_dev,\n",
        "                        'predictions/rules-dev.preds')"
      ],
      "execution_count": 65,
      "outputs": []
    },
    {
      "cell_type": "code",
      "metadata": {
        "colab": {
          "base_uri": "https://localhost:8080/"
        },
        "id": "ZGhZEJxmEJAy",
        "outputId": "d37ab7fd-0760-4225-98ad-2d99ceea81ec"
      },
      "source": [
        "f,r,p = coref.eval_predictions('predictions/rules-dev.preds',all_markables_dev);"
      ],
      "execution_count": 66,
      "outputs": [
        {
          "output_type": "stream",
          "text": [
            "F: 0.5463\tR: 0.3960\tP:0.8806\n"
          ],
          "name": "stdout"
        }
      ]
    },
    {
      "cell_type": "code",
      "metadata": {
        "colab": {
          "base_uri": "https://localhost:8080/"
        },
        "id": "f_p7h25tEJAz",
        "outputId": "e0697d92-bef0-4031-bec5-dbf37eac0824"
      },
      "source": [
        "coref_metrics(content_matcher, all_markables_dev);"
      ],
      "execution_count": 67,
      "outputs": [
        {
          "output_type": "stream",
          "text": [
            "B-Cubed: 0.5768\tCEAF: 0.4045\tMUC: 0.5463\tAverage: 0.5092\n"
          ],
          "name": "stdout"
        }
      ]
    },
    {
      "cell_type": "code",
      "metadata": {
        "id": "VCIbVOPZEJAz"
      },
      "source": [
        "coref.write_predictions(coref_rules.make_resolver(coref_rules.match_on_content),\n",
        "                        all_markables_te,\n",
        "                        'predictions/rules-test.preds')"
      ],
      "execution_count": 68,
      "outputs": []
    },
    {
      "cell_type": "code",
      "metadata": {
        "id": "jzOOvqsf2LZj"
      },
      "source": [
        ""
      ],
      "execution_count": 69,
      "outputs": []
    },
    {
      "cell_type": "code",
      "metadata": {
        "scrolled": true,
        "colab": {
          "base_uri": "https://localhost:8080/"
        },
        "id": "MwVr8ysYEJAz",
        "outputId": "e2f7e1d0-b45f-4821-bfee-e5a4d1c8fe09"
      },
      "source": [
        "# students can't run this (it'll match against a full-cluster match)\n",
        "coref.eval_predictions('predictions/rules-test.preds', all_markables_te);\n",
        "coref_metrics(content_matcher, all_markables_te);"
      ],
      "execution_count": null,
      "outputs": [
        {
          "output_type": "stream",
          "text": [
            "F: 0.3797\tR: 0.2344\tP:1.0000\n",
            "B-Cubed: 0.0228\tCEAF: 0.0071\tMUC: 0.3797\tAverage: 0.1365\n"
          ],
          "name": "stdout"
        }
      ]
    },
    {
      "cell_type": "code",
      "metadata": {
        "colab": {
          "base_uri": "https://localhost:8080/"
        },
        "id": "jXjOyfMSG1ni",
        "outputId": "e434d3fd-7b0a-4f39-9829-e10d00f80b2a"
      },
      "source": [
        "! nosetests tests/test_coref.py:test_dev_acc_f1_d2_7"
      ],
      "execution_count": 70,
      "outputs": [
        {
          "output_type": "stream",
          "text": [
            ".\n",
            "----------------------------------------------------------------------\n",
            "Ran 1 test in 0.926s\n",
            "\n",
            "OK\n"
          ],
          "name": "stdout"
        }
      ]
    },
    {
      "cell_type": "markdown",
      "metadata": {
        "id": "HG8Uni3FEJAz"
      },
      "source": [
        "# 3. Machine learning for coreference resolution (19.5 points)\n",
        "\n",
        "You will now implement coreference resolution using the mention-ranking model. Let's start by implementing some features.\n",
        "\n",
        "**Deliverable 3.1** (1.5 points): Implement `coref_features.minimal_features`, using the rules you wrote from `coref_rules.` This should be a function that takes a list of markables, and indices for two mentions, and returns a dict with features and counts. Include the following features:\n",
        "\n",
        "- `exact-match`\n",
        "- `last-token-match`\n",
        "- `content-match`\n",
        "- `crossover`: value of 1 iff the mentions overlap\n",
        "- `new-entity`: value of 1 iff i=j\n",
        "\n",
        "For the first four features, you should call your code from coref_rules directly.\n",
        "\n",
        "* **Test:** `tests\\test_coref.test_minimal_features_d3_1()`"
      ]
    },
    {
      "cell_type": "code",
      "metadata": {
        "colab": {
          "base_uri": "https://localhost:8080/"
        },
        "id": "Y-sgE-hoEJAz",
        "outputId": "f7975f9c-23c7-4562-de8e-85f7a9ad0b25"
      },
      "source": [
        "min_features = ['exact-match', 'last-token-match', 'content-match', 'crossover', 'new-entity']\n",
        "for i, markable in enumerate(all_markables[1][:15]):\n",
        "    print(i, markable)"
      ],
      "execution_count": 71,
      "outputs": [
        {
          "output_type": "stream",
          "text": [
            "0 Markable(string=['South', 'Korea'], entity='set_971', start_token=0, end_token=2, tags=['NNP', 'NNP'])\n",
            "1 Markable(string=['a', 'trade', 'deficit', 'of', '$', '101', 'million'], entity='set_972', start_token=3, end_token=10, tags=['DT', 'NN', 'NN', 'IN', '$', 'CD', 'CD'])\n",
            "2 Markable(string=['October'], entity='set_973', start_token=11, end_token=12, tags=['NNP'])\n",
            "3 Markable(string=['the', 'country', \"'s\", 'economic', 'sluggishness'], entity='set_974', start_token=14, end_token=19, tags=['DT', 'NN', 'POS', 'JJ', 'NN'])\n",
            "4 Markable(string=['country'], entity='set_971', start_token=15, end_token=16, tags=['NN'])\n",
            "5 Markable(string=['government', 'figures'], entity='set_975', start_token=22, end_token=24, tags=['NN', 'NNS'])\n",
            "6 Markable(string=['Wednesday'], entity='set_976', start_token=25, end_token=26, tags=['NNP'])\n",
            "7 Markable(string=['Preliminary', 'tallies'], entity='set_977', start_token=27, end_token=29, tags=['JJ', 'NNS'])\n",
            "8 Markable(string=['the', 'Trade', 'and', 'Industry', 'Ministry'], entity='set_978', start_token=30, end_token=35, tags=['DT', 'NNP', 'CC', 'NNP', 'NNP'])\n",
            "9 Markable(string=['another', 'trade', 'deficit', 'the', 'fifth', 'monthly', 'setback', 'this', 'year'], entity='set_979', start_token=36, end_token=48, tags=['DT', 'NN', 'NN', 'IN', 'NNP', ',', 'DT', 'JJ', 'JJ', 'NN', 'DT', 'NN'])\n",
            "10 Markable(string=['October'], entity='set_973', start_token=40, end_token=41, tags=['NNP'])\n",
            "11 Markable(string=['this', 'year'], entity='set_980', start_token=46, end_token=48, tags=['DT', 'NN'])\n",
            "12 Markable(string=['a', 'cloud'], entity='set_981', start_token=50, end_token=52, tags=['DT', 'NN'])\n",
            "13 Markable(string=['South', 'Korea'], entity='set_971', start_token=53, end_token=55, tags=['NNP', 'NNP'])\n",
            "14 Markable(string=['South', 'Korea', \"'s\", 'export-oriented', 'economy'], entity='set_982', start_token=53, end_token=58, tags=['NNP', 'NNP', 'POS', 'JJ', 'NN'])\n"
          ],
          "name": "stdout"
        }
      ]
    },
    {
      "cell_type": "code",
      "metadata": {
        "scrolled": true,
        "colab": {
          "base_uri": "https://localhost:8080/"
        },
        "id": "PHzi7AZ1EJAz",
        "outputId": "e6699abf-5590-4562-dfb5-2d3b847d1812"
      },
      "source": [
        "print(coref_features.minimal_features(all_markables[1],0,1))\n",
        "print(coref_features.minimal_features(all_markables[1],0,13))\n",
        "print(coref_features.minimal_features(all_markables[1],13,14))\n",
        "print(coref_features.minimal_features(all_markables[1],6,6))\n",
        "print(coref_features.minimal_features(all_markables[1],2,10))"
      ],
      "execution_count": 72,
      "outputs": [
        {
          "output_type": "stream",
          "text": [
            "defaultdict(<class 'float'>, {})\n",
            "defaultdict(<class 'float'>, {'exact-match': 1, 'last-token-match': 1, 'content-match': 1})\n",
            "defaultdict(<class 'float'>, {'crossover': 1})\n",
            "defaultdict(<class 'float'>, {'new-entity': 1})\n",
            "defaultdict(<class 'float'>, {'exact-match': 1, 'last-token-match': 1, 'content-match': 1})\n"
          ],
          "name": "stdout"
        }
      ]
    },
    {
      "cell_type": "code",
      "metadata": {
        "colab": {
          "base_uri": "https://localhost:8080/"
        },
        "id": "JycGHfjyHIQH",
        "outputId": "127d0222-8fe6-4c9a-8834-9b003e337989"
      },
      "source": [
        "! nosetests tests/test_coref.py:test_minimal_features_d3_1"
      ],
      "execution_count": 73,
      "outputs": [
        {
          "output_type": "stream",
          "text": [
            ".\n",
            "----------------------------------------------------------------------\n",
            "Ran 1 test in 0.926s\n",
            "\n",
            "OK\n"
          ],
          "name": "stdout"
        }
      ]
    },
    {
      "cell_type": "markdown",
      "metadata": {
        "id": "gEefn0LLEJAz"
      },
      "source": [
        "**Deliverable 3.2** (6 points): You will now use these features in a simple feedforward neural net. Using pytorch, implement the `__init__()` and `forward()` functions in `coref_learning.FFCoref` which will be composed of two linear layers separated by a tanh nonlinearity, producing a score for each possible antecedent.\n",
        "\n",
        "Later we will use this scoring function to select the most probable antecendent.\n",
        "\n",
        "* **Test:** `tests\\test_neural_coref.py:test_ffcoref_d3_2()`"
      ]
    },
    {
      "cell_type": "code",
      "metadata": {
        "id": "rOsLKApdEJAz"
      },
      "source": [
        "COREF_FF_HIDDEN = 5 # dimension for hidden layer"
      ],
      "execution_count": 74,
      "outputs": []
    },
    {
      "cell_type": "code",
      "metadata": {
        "scrolled": true,
        "colab": {
          "base_uri": "https://localhost:8080/"
        },
        "id": "K_9vM-CVEJAz",
        "outputId": "25f6e314-1b34-49d9-f2af-b899e325c680"
      },
      "source": [
        "torch.manual_seed(1984) # DO NOT CHANGE\n",
        "coref_ff = coref_learning.FFCoref(min_features, COREF_FF_HIDDEN)\n",
        "\n",
        "# scores for single mention pairs, no backprop\n",
        "print(coref_ff(coref_features.minimal_features(all_markables[1],0,1)))\n",
        "print(coref_ff(coref_features.minimal_features(all_markables[1],0,13)))\n",
        "print(coref_ff(coref_features.minimal_features(all_markables[1],2,10)))"
      ],
      "execution_count": 75,
      "outputs": [
        {
          "output_type": "stream",
          "text": [
            "tensor([-0.1148], grad_fn=<AddBackward0>)\n",
            "tensor([-0.3763], grad_fn=<AddBackward0>)\n",
            "tensor([-0.3763], grad_fn=<AddBackward0>)\n"
          ],
          "name": "stdout"
        }
      ]
    },
    {
      "cell_type": "code",
      "metadata": {
        "colab": {
          "base_uri": "https://localhost:8080/"
        },
        "id": "UC1M1oLrHRkr",
        "outputId": "a150a60f-63cb-49af-a91f-45af6f3524f0"
      },
      "source": [
        "! nosetests tests/test_neural_coref.py:test_ffcoref_d3_2"
      ],
      "execution_count": 76,
      "outputs": [
        {
          "output_type": "stream",
          "text": [
            ".\n",
            "----------------------------------------------------------------------\n",
            "Ran 1 test in 0.004s\n",
            "\n",
            "OK\n"
          ],
          "name": "stdout"
        }
      ]
    },
    {
      "cell_type": "markdown",
      "metadata": {
        "id": "xVKsPcCeEJA0"
      },
      "source": [
        "**Deliverable 3.3** (3 points): Implement `FFCoref.score_instance()` to score all the possible antecedents given a markable.\n",
        "\n",
        "* **Test:** `tests\\test_neural_coref.py:test_ffcoref_score_instance_d3_3()`"
      ]
    },
    {
      "cell_type": "code",
      "metadata": {
        "colab": {
          "base_uri": "https://localhost:8080/"
        },
        "id": "YgtwKajQEJA0",
        "outputId": "f1403571-27d5-4e04-e961-7bffd2788488"
      },
      "source": [
        "i_scores = coref_ff.score_instance(all_markables[1], coref_features.minimal_features, 13)\n",
        "print(i_scores)"
      ],
      "execution_count": 77,
      "outputs": [
        {
          "output_type": "stream",
          "text": [
            "tensor([[-0.3763, -0.1148, -0.1148, -0.1148, -0.1148, -0.1148, -0.1148, -0.1148,\n",
            "         -0.1148, -0.1148, -0.1148, -0.1148, -0.1148, -0.0424]],\n",
            "       grad_fn=<ViewBackward>)\n"
          ],
          "name": "stdout"
        }
      ]
    },
    {
      "cell_type": "code",
      "metadata": {
        "colab": {
          "base_uri": "https://localhost:8080/"
        },
        "id": "1D_nPKMSHaYk",
        "outputId": "53cbb30a-78b7-410e-ae0d-a9da56579818"
      },
      "source": [
        "! nosetests tests/test_neural_coref.py:test_ffcoref_score_instance_d3_3"
      ],
      "execution_count": 78,
      "outputs": [
        {
          "output_type": "stream",
          "text": [
            ".\n",
            "----------------------------------------------------------------------\n",
            "Ran 1 test in 0.004s\n",
            "\n",
            "OK\n"
          ],
          "name": "stdout"
        }
      ]
    },
    {
      "cell_type": "markdown",
      "metadata": {
        "id": "NCf6Ejo_EJA0"
      },
      "source": [
        "In inference time, all we need is to use the above function and report the most likely antecedent for each markable. In training time, we will use an objective based on the **hinge margin-loss** function. Our variant will require the highest-scoring false candidate (according to the true entity annotations) to score lower than the highest-scoring true candidate *by a margin*:\n",
        "\n",
        "$$L_{m_i} = \\{ \\text{max}_{a:m_a\\notin A(m_i)} s(m_i,m_a) + M - \\text{max}_{a:m_a\\in A(m_i)} s(m_i,m_a) \\}_{+}$$\n",
        "\n",
        "Where $s$ is the score from the previous deliverable, $A(m)$ denotes the set of true antecedents for $m$, $M$ is our margin, and the $+$ subscript indicates that negative values are replaced by $0$ (since this is a hinge loss).\n",
        "\n",
        "**Deliverable 3.4** (3 points):\n",
        "Implement the helper function `FFCoref.instance_top_scores()` which supplies the arguments for this loss function.\n",
        "**Note** the special cases where:\n",
        "- Only true candidates exist (we're in the first cluster) - the trainer will have to skip these. Return `None`s.\n",
        "- Only false candidates exist - this actually means we're in a new cluster.\n",
        "\n",
        "\n",
        "* **Test:** `tests\\test_neural_coref.py:test_ffcoref_score_instance_top_scores_d3_4()`"
      ]
    },
    {
      "cell_type": "code",
      "metadata": {
        "colab": {
          "base_uri": "https://localhost:8080/"
        },
        "id": "l3fNnYtpEJA0",
        "outputId": "91022c46-8d17-4fe2-911f-0d4a364793e9"
      },
      "source": [
        "best_true_score, best_false_score = coref_ff.instance_top_scores(all_markables[1], coref_features.minimal_features, 13, 4)\n",
        "print(torch.cat([best_true_score.view(1), best_false_score.view(1)], 0))"
      ],
      "execution_count": 79,
      "outputs": [
        {
          "output_type": "stream",
          "text": [
            "tensor([-0.1148, -0.0424], grad_fn=<CatBackward>)\n"
          ],
          "name": "stdout"
        }
      ]
    },
    {
      "cell_type": "markdown",
      "metadata": {
        "id": "REJy3RCZEJA0"
      },
      "source": [
        "Looks like we're ready to train our classifier!"
      ]
    },
    {
      "cell_type": "code",
      "metadata": {
        "scrolled": true,
        "colab": {
          "base_uri": "https://localhost:8080/"
        },
        "id": "zZqq3vtwEJA0",
        "outputId": "e50b8f84-f218-419c-b4fd-095156d41f85"
      },
      "source": [
        "torch.manual_seed(1984) # DO NOT CHANGE\n",
        "coref_ff = coref_learning.FFCoref(min_features, COREF_FF_HIDDEN)\n",
        "optimizer = optim.SGD(coref_ff.parameters(), lr=ETA_0)\n",
        "coref_learning.train(coref_ff, optimizer, all_markables, coref_features.minimal_features, margin=1.0, epochs=2)"
      ],
      "execution_count": 80,
      "outputs": [
        {
          "output_type": "stream",
          "text": [
            "Loss = 0.6110637256505783\n",
            "Loss = 0.4984031049442634\n"
          ],
          "name": "stdout"
        }
      ]
    },
    {
      "cell_type": "code",
      "metadata": {
        "colab": {
          "base_uri": "https://localhost:8080/"
        },
        "id": "J05Ysy6wEJA0",
        "outputId": "f7c63a96-0025-4aca-9e21-80d49cbb2546"
      },
      "source": [
        "# training set results\n",
        "coref_learning.evaluate(coref_ff, all_markables, coref_features.minimal_features)"
      ],
      "execution_count": 81,
      "outputs": [
        {
          "output_type": "stream",
          "text": [
            "F: 0.5148\tR: 0.3944\tP:0.7407\n"
          ],
          "name": "stdout"
        }
      ]
    },
    {
      "cell_type": "code",
      "metadata": {
        "colab": {
          "base_uri": "https://localhost:8080/"
        },
        "id": "NtRx1N-sEJA0",
        "outputId": "3685671a-d1cb-4b5c-99d5-98ebda32cb54"
      },
      "source": [
        "# dev set\n",
        "coref_learning.evaluate(coref_ff, all_markables_dev, coref_features.minimal_features)"
      ],
      "execution_count": 82,
      "outputs": [
        {
          "output_type": "stream",
          "text": [
            "F: 0.5258\tR: 0.3758\tP:0.8750\n"
          ],
          "name": "stdout"
        }
      ]
    },
    {
      "cell_type": "code",
      "metadata": {
        "colab": {
          "base_uri": "https://localhost:8080/"
        },
        "id": "CA_PVJ0kEJA0",
        "outputId": "300a2804-fc5e-401c-a765-d2e79d90730d"
      },
      "source": [
        "# standard metrics on training set\n",
        "ff_matcher = coref_learning.make_resolver(coref_features.minimal_features, coref_ff)\n",
        "coref_metrics(ff_matcher, all_markables);"
      ],
      "execution_count": 83,
      "outputs": [
        {
          "output_type": "stream",
          "text": [
            "B-Cubed: 0.5735\tCEAF: 0.4589\tMUC: 0.5572\tAverage: 0.5299\n"
          ],
          "name": "stdout"
        }
      ]
    },
    {
      "cell_type": "code",
      "metadata": {
        "colab": {
          "base_uri": "https://localhost:8080/"
        },
        "id": "eh0oitrkEJA0",
        "outputId": "4ffdc351-2f21-4c48-d8de-9970fa0cf3b2"
      },
      "source": [
        "# test set, students can't run\n",
        "coref_metrics(ff_matcher, all_markables_te);"
      ],
      "execution_count": null,
      "outputs": [
        {
          "output_type": "stream",
          "text": [
            "B-Cubed: 0.0214\tCEAF: 0.0072\tMUC: 0.3508\tAverage: 0.1265\n"
          ],
          "name": "stdout"
        }
      ]
    },
    {
      "cell_type": "code",
      "metadata": {
        "colab": {
          "base_uri": "https://localhost:8080/"
        },
        "id": "dgxb_vmgIIHB",
        "outputId": "649eda69-c845-42b6-f24f-25fed2409b9e"
      },
      "source": [
        "! nosetests tests/test_neural_coref.py:test_ffcoref_score_instance_top_scores_d3_4"
      ],
      "execution_count": 84,
      "outputs": [
        {
          "output_type": "stream",
          "text": [
            ".\n",
            "----------------------------------------------------------------------\n",
            "Ran 1 test in 0.004s\n",
            "\n",
            "OK\n"
          ],
          "name": "stdout"
        }
      ]
    },
    {
      "cell_type": "markdown",
      "metadata": {
        "id": "2jp7T_C0EJA1"
      },
      "source": [
        "**Deliverable 3.5** (3 points): We can add more features to try and better capture relations between markables.\n",
        "\n",
        "Implement distance features in `coref_features.distance_features()`, measuring the mention distance and the token distance. Specifically:\n",
        "\n",
        "- **Mention distance** is number of intervening mentions between i and j, $i-j$.\n",
        "- **Token distance** is number of tokens between the start of i and the end of j.\n",
        "\n",
        "These should be binary features, up to a maximum distance of 10 for tokens / 5 for mentions, with the final feature indicating distance of 10/5 and above, respectively. The desired behavior is shown below.\n",
        "\n",
        "* **Test:** `tests\\test_coref.py:test_distance_features_d3_5()`"
      ]
    },
    {
      "cell_type": "code",
      "metadata": {
        "colab": {
          "base_uri": "https://localhost:8080/"
        },
        "id": "C2vEe72wEJA1",
        "outputId": "566b2a8f-d716-47bb-bec9-4bc682b8d878"
      },
      "source": [
        "for i, markable_i in enumerate(all_markables[1][:4]):\n",
        "    print(i, markable_i)"
      ],
      "execution_count": 91,
      "outputs": [
        {
          "output_type": "stream",
          "text": [
            "0 Markable(string=['South', 'Korea'], entity='set_971', start_token=0, end_token=2, tags=['NNP', 'NNP'])\n",
            "1 Markable(string=['a', 'trade', 'deficit', 'of', '$', '101', 'million'], entity='set_972', start_token=3, end_token=10, tags=['DT', 'NN', 'NN', 'IN', '$', 'CD', 'CD'])\n",
            "2 Markable(string=['October'], entity='set_973', start_token=11, end_token=12, tags=['NNP'])\n",
            "3 Markable(string=['the', 'country', \"'s\", 'economic', 'sluggishness'], entity='set_974', start_token=14, end_token=19, tags=['DT', 'NN', 'POS', 'JJ', 'NN'])\n"
          ],
          "name": "stdout"
        }
      ]
    },
    {
      "cell_type": "code",
      "metadata": {
        "colab": {
          "base_uri": "https://localhost:8080/"
        },
        "id": "UNx2qci0EJA1",
        "outputId": "45e844b8-64ef-4148-8338-ba18628af08d"
      },
      "source": [
        "print(coref_features.distance_features(all_markables[1],0,0))\n",
        "print(coref_features.distance_features(all_markables[1],0,1))\n",
        "print(coref_features.distance_features(all_markables[1],0,2))\n",
        "print(coref_features.distance_features(all_markables[1],1,3))\n",
        "print(coref_features.distance_features(all_markables[1],0,30))"
      ],
      "execution_count": 92,
      "outputs": [
        {
          "output_type": "stream",
          "text": [
            "defaultdict(<class 'float'>, {})\n",
            "defaultdict(<class 'float'>, {'mention-distance-1': 1, 'token-distance-1': 1})\n",
            "defaultdict(<class 'float'>, {'mention-distance-2': 1, 'token-distance-9': 1})\n",
            "defaultdict(<class 'float'>, {'mention-distance-2': 1, 'token-distance-4': 1})\n",
            "defaultdict(<class 'float'>, {'mention-distance-5': 1, 'token-distance-10': 1})\n"
          ],
          "name": "stdout"
        }
      ]
    },
    {
      "cell_type": "code",
      "metadata": {
        "colab": {
          "base_uri": "https://localhost:8080/"
        },
        "id": "JVkGJoPjIOq0",
        "outputId": "d6683d20-a949-46d4-d95d-267a6ae2c2ff"
      },
      "source": [
        "! nosetests tests/test_coref.py:test_distance_features_d3_5"
      ],
      "execution_count": 93,
      "outputs": [
        {
          "output_type": "stream",
          "text": [
            ".\n",
            "----------------------------------------------------------------------\n",
            "Ran 1 test in 0.899s\n",
            "\n",
            "OK\n"
          ],
          "name": "stdout"
        }
      ]
    },
    {
      "cell_type": "markdown",
      "metadata": {
        "id": "Cp4dMAz7EJA1"
      },
      "source": [
        "**Deliverable 3.6** (3 points): Implement `coref_features.make_feature_union()`, which should take a list of feature functions, and return a function that computes the union of all features in the list. You can assume the feature functions don't use the same name for any feature.\n",
        "\n",
        "* **Test:** `tests\\test_coref.py:test_feature_union_d3_6()`"
      ]
    },
    {
      "cell_type": "code",
      "metadata": {
        "id": "Ut1w2tf8EJA1"
      },
      "source": [
        "joint_feats = coref_features.make_feature_union([coref_features.minimal_features,\n",
        "                                                 coref_features.distance_features])"
      ],
      "execution_count": 94,
      "outputs": []
    },
    {
      "cell_type": "code",
      "metadata": {
        "scrolled": true,
        "colab": {
          "base_uri": "https://localhost:8080/"
        },
        "id": "NOL3HecqEJA1",
        "outputId": "93038ad5-e84f-43f5-e171-a44ebff278c1"
      },
      "source": [
        "print(joint_feats(all_markables[1],1,3))\n",
        "print(joint_feats(all_markables[1],0,3))\n",
        "print(joint_feats(all_markables[1],0,7))\n",
        "print(joint_feats(all_markables[1],10,10))"
      ],
      "execution_count": 95,
      "outputs": [
        {
          "output_type": "stream",
          "text": [
            "defaultdict(<class 'float'>, {'mention-distance-2': 1, 'token-distance-4': 1})\n",
            "defaultdict(<class 'float'>, {'mention-distance-3': 1, 'token-distance-10': 1})\n",
            "defaultdict(<class 'float'>, {'mention-distance-5': 1, 'token-distance-10': 1})\n",
            "defaultdict(<class 'float'>, {'new-entity': 1})\n"
          ],
          "name": "stdout"
        }
      ]
    },
    {
      "cell_type": "code",
      "metadata": {
        "id": "YbAavJNoEJA1"
      },
      "source": [
        "min_features_and_distances = min_features\\\n",
        "                                   + [f'mention-distance-{i}' for i in range(1,6)]\\\n",
        "                                   + [f'token-distance-{i}' for i in range(1,11)]"
      ],
      "execution_count": 96,
      "outputs": []
    },
    {
      "cell_type": "code",
      "metadata": {
        "colab": {
          "base_uri": "https://localhost:8080/"
        },
        "id": "jqklFlIOIXD7",
        "outputId": "b78a2de6-13db-4150-d47f-d1f65274c01c"
      },
      "source": [
        "! nosetests tests/test_coref.py:test_feature_union_d3_6"
      ],
      "execution_count": 97,
      "outputs": [
        {
          "output_type": "stream",
          "text": [
            ".\n",
            "----------------------------------------------------------------------\n",
            "Ran 1 test in 0.908s\n",
            "\n",
            "OK\n"
          ],
          "name": "stdout"
        }
      ]
    },
    {
      "cell_type": "code",
      "metadata": {
        "colab": {
          "base_uri": "https://localhost:8080/"
        },
        "id": "fDjGyEqUEJA1",
        "outputId": "bb37653d-7c3d-41f3-b514-3659a54b399c"
      },
      "source": [
        "torch.manual_seed(1984) # DO NOT CHANGE\n",
        "coref_ff_w_distances = coref_learning.FFCoref(min_features_and_distances, 50) # we need more hidden units now\n",
        "optimizer = optim.SGD(coref_ff_w_distances.parameters(), lr=ETA_0)\n",
        "coref_learning.train(coref_ff_w_distances, optimizer, all_markables, joint_feats, epochs=2)"
      ],
      "execution_count": 98,
      "outputs": [
        {
          "output_type": "stream",
          "text": [
            "Loss = 0.5670151704351643\n",
            "Loss = 0.5090080360410884\n"
          ],
          "name": "stdout"
        }
      ]
    },
    {
      "cell_type": "code",
      "metadata": {
        "colab": {
          "base_uri": "https://localhost:8080/"
        },
        "id": "8ZeALgXNEJA1",
        "outputId": "dff87cac-e26e-43f1-857d-f3ed35ce1179"
      },
      "source": [
        "coref_learning.evaluate(coref_ff_w_distances, all_markables, joint_feats)"
      ],
      "execution_count": 99,
      "outputs": [
        {
          "output_type": "stream",
          "text": [
            "F: 0.5283\tR: 0.4002\tP:0.7770\n"
          ],
          "name": "stdout"
        }
      ]
    },
    {
      "cell_type": "code",
      "metadata": {
        "colab": {
          "base_uri": "https://localhost:8080/"
        },
        "id": "KhAgpQT1EJA1",
        "outputId": "9f4811b6-635b-4a25-fc30-ff9ef44b0576"
      },
      "source": [
        "ff_w_dist_matcher = coref_learning.make_resolver(joint_feats, coref_ff_w_distances)\n",
        "coref_metrics(ff_w_dist_matcher, all_markables);"
      ],
      "execution_count": 100,
      "outputs": [
        {
          "output_type": "stream",
          "text": [
            "B-Cubed: 0.5756\tCEAF: 0.4551\tMUC: 0.5605\tAverage: 0.5304\n"
          ],
          "name": "stdout"
        }
      ]
    },
    {
      "cell_type": "markdown",
      "metadata": {
        "id": "WaqI5JqBEJA2"
      },
      "source": [
        "Note that our basic F metric got slightly better, while the average standard metric stayed about the same."
      ]
    },
    {
      "cell_type": "code",
      "metadata": {
        "colab": {
          "base_uri": "https://localhost:8080/"
        },
        "id": "SESQ6iRUEJA2",
        "outputId": "92fbea3a-58fb-433d-a59c-56cb23656f83"
      },
      "source": [
        "coref.write_predictions(ff_w_dist_matcher,\n",
        "                        all_markables_dev,\n",
        "                        'predictions/ff-dev.preds')\n",
        "coref.eval_predictions('predictions/ff-dev.preds', all_markables_dev);"
      ],
      "execution_count": 101,
      "outputs": [
        {
          "output_type": "stream",
          "text": [
            "F: 0.5308\tR: 0.3758\tP:0.9032\n"
          ],
          "name": "stdout"
        }
      ]
    },
    {
      "cell_type": "code",
      "metadata": {
        "scrolled": true,
        "colab": {
          "base_uri": "https://localhost:8080/"
        },
        "id": "Krd-xSbWEJA2",
        "outputId": "938ae1c3-e548-48f7-cbef-259073a5f904"
      },
      "source": [
        "coref_metrics(ff_w_dist_matcher, all_markables_dev);"
      ],
      "execution_count": 102,
      "outputs": [
        {
          "output_type": "stream",
          "text": [
            "B-Cubed: 0.5653\tCEAF: 0.3966\tMUC: 0.5403\tAverage: 0.5007\n"
          ],
          "name": "stdout"
        }
      ]
    },
    {
      "cell_type": "code",
      "metadata": {
        "id": "SPzqoryoEJA2"
      },
      "source": [
        "coref.write_predictions(ff_w_dist_matcher,\n",
        "                        all_markables_te,\n",
        "                        'predictions/ff-test.preds')"
      ],
      "execution_count": 103,
      "outputs": []
    },
    {
      "cell_type": "code",
      "metadata": {
        "scrolled": true,
        "id": "JdB_4HXYEJA2",
        "outputId": "49b81296-18aa-4834-c81a-2de183aa46ca"
      },
      "source": [
        "# students can't run this\n",
        "coref.eval_predictions('predictions/ff-test.preds', all_markables_te);\n",
        "coref_metrics(ff_w_dist_matcher, all_markables_te);"
      ],
      "execution_count": null,
      "outputs": [
        {
          "output_type": "stream",
          "text": [
            "F: 0.4621\tR: 0.3378\tP:0.7310\n",
            "B-Cubed: 0.5329\tCEAF: 0.4206\tMUC: 0.4769\tAverage: 0.4768\n"
          ],
          "name": "stdout"
        }
      ]
    },
    {
      "cell_type": "markdown",
      "metadata": {
        "id": "pBY8W7lHEJA2"
      },
      "source": [
        "# 4. Sequential Text Represenation (22.5 points)\n",
        "\n",
        "In this section, we will find out whether neural representations of our text can help find coreferents.\n",
        "\n",
        "The main idea is to run a bidirectional LSTM model, which you already have implemented from previous problem sets, and use the resulting hidden states to form representations of the markables. These will be fed into a feedforward classifier similar to the one from the previous section, except that the match features will also be embedded."
      ]
    },
    {
      "cell_type": "code",
      "metadata": {
        "scrolled": true,
        "colab": {
          "base_uri": "https://localhost:8080/"
        },
        "id": "xSWTbrqWEJA2",
        "outputId": "d93aa5e0-06b4-4ce2-eb9c-41e9545ccc96"
      },
      "source": [
        "# Preparing the vocabulary for a word-to-index dictionary necessary for the initial embeddings table\n",
        "vocab = set()\n",
        "for doc in all_words + all_words_dev + all_words_test:\n",
        "    vocab.update(doc)\n",
        "vocab = sorted(list(vocab))\n",
        "word_to_ix = {w:i for i,w in enumerate(vocab)}\n",
        "print(len(vocab))"
      ],
      "execution_count": 104,
      "outputs": [
        {
          "output_type": "stream",
          "text": [
            "3530\n"
          ],
          "name": "stdout"
        }
      ]
    },
    {
      "cell_type": "markdown",
      "metadata": {
        "id": "huqMnem5EJA2"
      },
      "source": [
        "**Deliverable 4.1** (6 points):\n",
        "The first part will be very similar to code from the last homework, which you may reuse. Implement `neural_net.BiLSTMWordEmbedding` as a word  embedding lookup table followed by a bi-directional LSTM which runs on a text (here, the entire document) and outputs the hidden state from the LSTM as a contextual embedding for each word in it.\n",
        "\n",
        "* **Test:** `tests\\test_neural_coref.py:test_bilstm_embedding_d4_1()`"
      ]
    },
    {
      "cell_type": "code",
      "metadata": {
        "id": "Q6zt1EQ1EJA2"
      },
      "source": [
        "WORD_EMB_DIM = 64\n",
        "WORD_LSTM_EMB_DIM = 128"
      ],
      "execution_count": 105,
      "outputs": []
    },
    {
      "cell_type": "code",
      "metadata": {
        "colab": {
          "base_uri": "https://localhost:8080/"
        },
        "id": "Cvm8l50YEJA2",
        "outputId": "e258c89e-51b0-4947-f7dd-81dee5a3e347"
      },
      "source": [
        "torch.manual_seed(1984)\n",
        "word_lstm = neural_net.BiLSTMWordEmbedding(word_to_ix, WORD_EMB_DIM, WORD_LSTM_EMB_DIM, 1, 0.5)\n",
        "embs = word_lstm(all_words[0])\n",
        "print(' '.join(all_words[0][:17] + ['...']), '\\n')\n",
        "print(all_words[0][4], '\\n', embs[4][0][:5])\n",
        "print(all_words[0][13], '\\n', embs[13][0][:5])"
      ],
      "execution_count": 106,
      "outputs": [
        {
          "output_type": "stream",
          "text": [
            "McDermott International Inc. said its Babcock & Wilcox unit completed the sale of its Bailey Controls Operations ... \n",
            "\n",
            "its \n",
            " tensor([-0.0129, -0.1065,  0.1406, -0.4480, -0.0298], grad_fn=<SliceBackward>)\n",
            "its \n",
            " tensor([-3.4436e-04, -6.9696e-02,  8.9008e-02, -4.5312e-01, -2.8312e-02],\n",
            "       grad_fn=<SliceBackward>)\n"
          ],
          "name": "stdout"
        },
        {
          "output_type": "stream",
          "text": [
            "/usr/local/lib/python3.6/dist-packages/torch/nn/modules/rnn.py:61: UserWarning: dropout option adds dropout after all but last recurrent layer, so non-zero dropout expects num_layers greater than 1, but got dropout=0.5 and num_layers=1\n",
            "  \"num_layers={}\".format(dropout, num_layers))\n"
          ],
          "name": "stderr"
        }
      ]
    },
    {
      "cell_type": "code",
      "metadata": {
        "colab": {
          "base_uri": "https://localhost:8080/"
        },
        "id": "_mz7yvYaI67d",
        "outputId": "3a722be8-468a-44a6-c658-ed04329ae7de"
      },
      "source": [
        "! nosetests tests/test_neural_coref.py:test_bilstm_embedding_d4_1"
      ],
      "execution_count": 107,
      "outputs": [
        {
          "output_type": "stream",
          "text": [
            ".\n",
            "----------------------------------------------------------------------\n",
            "Ran 1 test in 0.011s\n",
            "\n",
            "OK\n"
          ],
          "name": "stdout"
        }
      ]
    },
    {
      "cell_type": "markdown",
      "metadata": {
        "id": "c8M_vu0aEJA3"
      },
      "source": [
        "We see how the same word type (*its*) is assigned different embeddings based on its context in the document."
      ]
    },
    {
      "cell_type": "markdown",
      "metadata": {
        "id": "vgnXA6kyEJA3"
      },
      "source": [
        "## Attention Model\n",
        "\n",
        "Our markable embeddings will be trained using an **Attention Model** which accepts the embeddings for the words $\\{w_i\\}$ in a markable and outputs a single vector that \"attends\" to the single vectors according to what it believes is their importance.\n",
        "This concept, [originally used](https://arxiv.org/abs/1409.0473) for sequence-to-sequence models such as Machine Translation, is applied for our task as yet another attempt to find the crucial part of a markable, like we did for the head-finding heuristic and for the content-word matching. While those were \"hard\" techniques, yes-or-no for each token, here we're applying a \"soft\" weighting that still assigns all the words in the text some significance.\n",
        "\n",
        "Practically, our model will train a vector parameter of the same embedding size as the BiLSTM output, $\\vec{u}$. Each word's embedding in the input span $\\vec{e_i}$ will be multiplied (dot-product) with $\\vec{u}$ to assign it a scalar weight, $a_i$ (i.e., passing $\\vec{e_i}$ through a linear layer with 1-d output). Finally each embedding will be multiplied by its normalized (softmaxed) weight $\\alpha_i$, and the sum of these weighted vectors will be our markable's output embedding, $\\vec{e_m}$:\n",
        "\n",
        "$$a_i = \\vec{u} \\cdot \\vec{e_i} + u_b$$\n",
        "\n",
        "$$\\vec{\\alpha} = \\text{Softmax}(\\vec{a})$$\n",
        "\n",
        "$$\\vec{e_m} = \\sum_i \\alpha_i \\vec{e_i}$$\n",
        "\n",
        "**Deliverable 4.2** (6 points):\n",
        "Implement `neural_net.AttentionBasedMarkableEmbedding`.\n",
        "\n",
        "* **Test:** `tests\\test_neural_coref.py:test_embedding_attention_d4_2()`"
      ]
    },
    {
      "cell_type": "code",
      "metadata": {
        "scrolled": true,
        "colab": {
          "base_uri": "https://localhost:8080/"
        },
        "id": "IVvWtOalEJA3",
        "outputId": "62e0fb17-9a81-4130-c15a-8cb6a2abdafd"
      },
      "source": [
        "torch.manual_seed(1984)\n",
        "attn_layer = neural_net.AttentionBasedMarkableEmbedding(WORD_LSTM_EMB_DIM)\n",
        "mark_embs = [attn_layer(embs, m) for m in all_markables[0]]\n",
        "for j in [0, 1, 4]:\n",
        "    print(all_markables[0][j].string, all_markables[0][j].entity, '\\n', mark_embs[j][:3])"
      ],
      "execution_count": 108,
      "outputs": [
        {
          "output_type": "stream",
          "text": [
            "['McDermott', 'International', 'Inc.'] set_356 \n",
            " tensor([0.1076, 0.1651, 0.1864], grad_fn=<SliceBackward>)\n",
            "['its'] set_356 \n",
            " tensor([-0.0129, -0.1065,  0.1406], grad_fn=<SliceBackward>)\n",
            "['its'] set_357 \n",
            " tensor([-0.0003, -0.0697,  0.0890], grad_fn=<SliceBackward>)\n"
          ],
          "name": "stdout"
        }
      ]
    },
    {
      "cell_type": "code",
      "metadata": {
        "id": "KhyOtEPEJUYj"
      },
      "source": [
        ""
      ],
      "execution_count": 108,
      "outputs": []
    },
    {
      "cell_type": "code",
      "metadata": {
        "colab": {
          "base_uri": "https://localhost:8080/"
        },
        "id": "NNobfNGFJB5g",
        "outputId": "ec234930-a112-4015-d34b-798f87c9936b"
      },
      "source": [
        "! nosetests tests/test_neural_coref.py:test_embedding_attention_d4_2"
      ],
      "execution_count": 109,
      "outputs": [
        {
          "output_type": "stream",
          "text": [
            ".\n",
            "----------------------------------------------------------------------\n",
            "Ran 1 test in 0.003s\n",
            "\n",
            "OK\n"
          ],
          "name": "stdout"
        }
      ]
    },
    {
      "cell_type": "markdown",
      "metadata": {
        "id": "F_RZEoo0EJA3"
      },
      "source": [
        "We will score a markable pair based on the following features:\n",
        "\n",
        "1. Each markable's attended embedding\n",
        "1. A low-dimension embedding for each of the pairwise features we've extracted in the previous sections. Since they are boolean, each will have an embedding for its ''false'' state and one for its ''true'' state.\n",
        "\n",
        "First, let's implement a quick extractor for positive-valued features from a mention pair."
      ]
    },
    {
      "cell_type": "code",
      "metadata": {
        "id": "Xi293Kb8EJA3"
      },
      "source": [
        "def get_positive_feats(doc, i, a, feats=coref_features.minimal_features):\n",
        "    return [k for k,v in feats(doc,i,a).items() if v > 0.0]"
      ],
      "execution_count": 110,
      "outputs": []
    },
    {
      "cell_type": "code",
      "metadata": {
        "colab": {
          "base_uri": "https://localhost:8080/"
        },
        "id": "qx5Fix_5EJA3",
        "outputId": "55175771-f91a-4cdb-9e51-66cc03e68dae"
      },
      "source": [
        "get_positive_feats(all_markables[1], 0, 13)"
      ],
      "execution_count": 111,
      "outputs": [
        {
          "output_type": "execute_result",
          "data": {
            "text/plain": [
              "['exact-match', 'last-token-match', 'content-match']"
            ]
          },
          "metadata": {
            "tags": []
          },
          "execution_count": 111
        }
      ]
    },
    {
      "cell_type": "markdown",
      "metadata": {
        "id": "6xIXiIMOEJA3"
      },
      "source": [
        "Now we will concatenate all of these embeddings together and use them as input in a two-layer feedforward network (with ReLU nonlinearity) which will produce a scalar score for markable match.\n",
        "\n",
        "**Deliverable 4.3** (4.5 points):\n",
        "Implement `__init__()` and `forward()` in `neural_net.SequentialScorer`.\n",
        "\n",
        "* **Test:** `tests\\test_neural_coref.py:test_sequential_scorer_d4_3()`"
      ]
    },
    {
      "cell_type": "code",
      "metadata": {
        "scrolled": true,
        "colab": {
          "base_uri": "https://localhost:8080/"
        },
        "id": "ObA_h_SWEJA3",
        "outputId": "85b0f807-963a-44f8-b5c3-9c341446e458"
      },
      "source": [
        "BOOLEAN_FEATURE_DIM = 6\n",
        "SCORER_HIDDEN_DIM = 164\n",
        "\n",
        "# starting with just one document\n",
        "torch.manual_seed(1984)\n",
        "word_lstm1 = neural_net.BiLSTMWordEmbedding(word_to_ix, WORD_EMB_DIM, WORD_LSTM_EMB_DIM, 1, 0.5)\n",
        "embs1 = word_lstm1(all_words[1])\n",
        "attn_layer1 = neural_net.AttentionBasedMarkableEmbedding(WORD_LSTM_EMB_DIM)\n",
        "mkbls1 = all_markables[1]\n",
        "mark_embs1 = [attn_layer(embs1, m) for m in mkbls1]\n",
        "scorer = neural_net.SequentialScorer(WORD_LSTM_EMB_DIM, min_features, BOOLEAN_FEATURE_DIM, SCORER_HIDDEN_DIM)\n",
        "scorer(mark_embs1[13], mark_embs1[0], get_positive_feats(mkbls1, 13, 0))"
      ],
      "execution_count": 112,
      "outputs": [
        {
          "output_type": "stream",
          "text": [
            "/usr/local/lib/python3.6/dist-packages/torch/nn/modules/rnn.py:61: UserWarning: dropout option adds dropout after all but last recurrent layer, so non-zero dropout expects num_layers greater than 1, but got dropout=0.5 and num_layers=1\n",
            "  \"num_layers={}\".format(dropout, num_layers))\n"
          ],
          "name": "stderr"
        },
        {
          "output_type": "execute_result",
          "data": {
            "text/plain": [
              "tensor([-0.1786], grad_fn=<AddBackward0>)"
            ]
          },
          "metadata": {
            "tags": []
          },
          "execution_count": 112
        }
      ]
    },
    {
      "cell_type": "code",
      "metadata": {
        "colab": {
          "base_uri": "https://localhost:8080/"
        },
        "id": "JPuAVWpZbOP9",
        "outputId": "617e1e99-0bcc-4f21-da28-fbc2c7dd60c8"
      },
      "source": [
        "! nosetests tests/test_neural_coref.py:test_sequential_scorer_d4_3"
      ],
      "execution_count": 113,
      "outputs": [
        {
          "output_type": "stream",
          "text": [
            ".\n",
            "----------------------------------------------------------------------\n",
            "Ran 1 test in 0.004s\n",
            "\n",
            "OK\n"
          ],
          "name": "stdout"
        }
      ]
    },
    {
      "cell_type": "markdown",
      "metadata": {
        "id": "kTZdsYepEJA3"
      },
      "source": [
        "**Deliverable 4.4** (3 points):\n",
        "Implement `score_instance()` and `instance_top_scores()` in `neural_net.SequentialScorer`. Their purpose is the same as the one in `FFCoref`, but they require the extra embeddings parameter. The former will require some changes to adapt to the different `forward()`, but the latter can be identical to its correlate in `FFCoref` if implemented correctly.\n",
        "\n",
        "* **Test:** `tests\\test_neural_coref.py:test_sequential_scorer_score_instance_d4_4(), test_sequential_scorer_instance_top_scores_d4_4()`"
      ]
    },
    {
      "cell_type": "code",
      "metadata": {
        "scrolled": true,
        "colab": {
          "base_uri": "https://localhost:8080/"
        },
        "id": "KcCpyWIgEJA3",
        "outputId": "4f48ad75-5455-4cda-9ff8-70a89383c5f5"
      },
      "source": [
        "scorer.score_instance(mark_embs1, all_markables[1], 13, coref_features.minimal_features)"
      ],
      "execution_count": 114,
      "outputs": [
        {
          "output_type": "execute_result",
          "data": {
            "text/plain": [
              "tensor([[-0.1786, -0.1996, -0.2356, -0.2084, -0.1870, -0.1862, -0.1949, -0.2230,\n",
              "         -0.2247, -0.2132, -0.2400, -0.1906, -0.2505, -0.2377]],\n",
              "       grad_fn=<CopySlices>)"
            ]
          },
          "metadata": {
            "tags": []
          },
          "execution_count": 114
        }
      ]
    },
    {
      "cell_type": "code",
      "metadata": {
        "colab": {
          "base_uri": "https://localhost:8080/"
        },
        "id": "o1kP7-T3KYRN",
        "outputId": "fbd599a6-c33d-4235-dd62-83b1b52cb5fa"
      },
      "source": [
        "! nosetests tests/test_neural_coref.py:test_sequential_scorer_score_instance_d4_4"
      ],
      "execution_count": 115,
      "outputs": [
        {
          "output_type": "stream",
          "text": [
            ".\n",
            "----------------------------------------------------------------------\n",
            "Ran 1 test in 0.005s\n",
            "\n",
            "OK\n"
          ],
          "name": "stdout"
        }
      ]
    },
    {
      "cell_type": "code",
      "metadata": {
        "colab": {
          "base_uri": "https://localhost:8080/"
        },
        "id": "6mnviRENKkOm",
        "outputId": "46e0ae68-bc87-4cef-8731-647b0cca98ad"
      },
      "source": [
        "! nosetests tests/test_neural_coref.py:test_sequential_scorer_instance_top_scores_d4_4"
      ],
      "execution_count": 116,
      "outputs": [
        {
          "output_type": "stream",
          "text": [
            ".\n",
            "----------------------------------------------------------------------\n",
            "Ran 1 test in 0.005s\n",
            "\n",
            "OK\n"
          ],
          "name": "stdout"
        }
      ]
    },
    {
      "cell_type": "markdown",
      "metadata": {
        "id": "AH54um_zEJA4"
      },
      "source": [
        "Due to the length of our documents and number of parameters, torch may not work properly on the entire text. We'll truncate the files before we train and use only the minimal pairwise feature space, causing our performance to be suboptimal."
      ]
    },
    {
      "cell_type": "code",
      "metadata": {
        "scrolled": true,
        "colab": {
          "base_uri": "https://localhost:8080/"
        },
        "id": "kcOyafn_EJA4",
        "outputId": "f2086acc-726f-4211-d49c-32bf66022a1a"
      },
      "source": [
        "torch.manual_seed(1984)\n",
        "tr_word_lstm = neural_net.BiLSTMWordEmbedding(word_to_ix, WORD_EMB_DIM, WORD_LSTM_EMB_DIM, 1, 0.2)\n",
        "tr_attn_layer = neural_net.AttentionBasedMarkableEmbedding(WORD_LSTM_EMB_DIM)\n",
        "tr_scorer = neural_net.SequentialScorer(WORD_LSTM_EMB_DIM, min_features, BOOLEAN_FEATURE_DIM, SCORER_HIDDEN_DIM)\n",
        "optimizer = optim.SGD(list(tr_word_lstm.parameters()) + list(tr_attn_layer.parameters()) + list(tr_scorer.parameters()), lr=ETA_0)\n",
        "neural_net.train(tr_word_lstm, tr_attn_layer, tr_scorer,\\\n",
        "                 optimizer, all_words, all_markables, coref_features.minimal_features, word_limit=150, epochs=3)"
      ],
      "execution_count": 117,
      "outputs": [
        {
          "output_type": "stream",
          "text": [
            "/usr/local/lib/python3.6/dist-packages/torch/nn/modules/rnn.py:61: UserWarning: dropout option adds dropout after all but last recurrent layer, so non-zero dropout expects num_layers greater than 1, but got dropout=0.2 and num_layers=1\n",
            "  \"num_layers={}\".format(dropout, num_layers))\n"
          ],
          "name": "stderr"
        },
        {
          "output_type": "stream",
          "text": [
            "Epoch 1 complete.\n",
            "Document losses = 0.94565, 0.72179, 0.60166, 0.71488, 0.90926, 0.91727, 0.79121, 0.47944, 0.44778, 0.58415, 0.58744, 0.67793, 0.55884, 0.60834, 0.43940, 0.47952, 0.37664, 0.50332, 0.49127, 0.15465, 0.77573, 0.83405\n",
            "Overall loss = 0.60977\n",
            "Epoch 2 complete.\n",
            "Document losses = 0.54433, 0.08258, 0.31583, 0.53469, 0.72477, 0.80510, 0.80130, 0.72107, 0.37884, 0.60794, 0.56670, 0.54593, 0.54602, 0.59385, 0.38264, 0.47128, 0.40817, 0.68890, 0.38611, 0.53756, 0.92980, 0.81550\n",
            "Overall loss = 0.56286\n",
            "Epoch 3 complete.\n",
            "Document losses = 0.51926, 0.23572, 0.52952, 0.62548, 0.73789, 0.85352, 0.79971, 0.49335, 0.36500, 0.50039, 0.59024, 0.45263, 0.54059, 0.56411, 0.38056, 0.48042, 0.39043, 0.51316, 0.48574, 0.19093, 0.80251, 0.87012\n",
            "Overall loss = 0.54387\n"
          ],
          "name": "stdout"
        }
      ]
    },
    {
      "cell_type": "code",
      "metadata": {
        "id": "-PfpnlCidGWZ"
      },
      "source": [
        ""
      ],
      "execution_count": 101,
      "outputs": []
    },
    {
      "cell_type": "markdown",
      "metadata": {
        "id": "LtJNicRtEJA4"
      },
      "source": [
        "Let's evaluate on the entire dataset."
      ]
    },
    {
      "cell_type": "code",
      "metadata": {
        "scrolled": true,
        "colab": {
          "base_uri": "https://localhost:8080/"
        },
        "id": "AEE1mK9AEJA4",
        "outputId": "b64c2f5f-7281-4ec1-e3a7-05532528c955"
      },
      "source": [
        "tr_resolver = neural_net.evaluate(tr_word_lstm, tr_attn_layer, tr_scorer, all_words, all_markables, coref_features.minimal_features)"
      ],
      "execution_count": 118,
      "outputs": [
        {
          "output_type": "stream",
          "text": [
            "F: 0.5329\tR: 0.4037\tP:0.7838\n"
          ],
          "name": "stdout"
        }
      ]
    },
    {
      "cell_type": "code",
      "metadata": {
        "colab": {
          "base_uri": "https://localhost:8080/"
        },
        "id": "qL8X66M4EJA4",
        "outputId": "5e17c3ef-4b2f-468c-a212-1613de1d9b0d"
      },
      "source": [
        "coref_metrics(tr_resolver, all_markables);"
      ],
      "execution_count": 119,
      "outputs": [
        {
          "output_type": "stream",
          "text": [
            "B-Cubed: 0.5756\tCEAF: 0.4551\tMUC: 0.5605\tAverage: 0.5304\n"
          ],
          "name": "stdout"
        }
      ]
    },
    {
      "cell_type": "code",
      "metadata": {
        "colab": {
          "base_uri": "https://localhost:8080/"
        },
        "id": "EJfxu3_tEJA4",
        "outputId": "e5f51a5a-6a06-4494-b89b-9756b0cf224e"
      },
      "source": [
        "dv_resolver = neural_net.evaluate(tr_word_lstm, tr_attn_layer, tr_scorer, all_words_dev, all_markables_dev, coref_features.minimal_features)"
      ],
      "execution_count": 120,
      "outputs": [
        {
          "output_type": "stream",
          "text": [
            "F: 0.5308\tR: 0.3758\tP:0.9032\n"
          ],
          "name": "stdout"
        }
      ]
    },
    {
      "cell_type": "code",
      "metadata": {
        "scrolled": true,
        "colab": {
          "base_uri": "https://localhost:8080/"
        },
        "id": "ifr1KB7fEJA4",
        "outputId": "b6a5ba1d-5385-4093-8195-3448c12a7df0"
      },
      "source": [
        "coref_metrics(dv_resolver, all_markables_dev);"
      ],
      "execution_count": 121,
      "outputs": [
        {
          "output_type": "stream",
          "text": [
            "B-Cubed: 0.5653\tCEAF: 0.3966\tMUC: 0.5403\tAverage: 0.5007\n"
          ],
          "name": "stdout"
        }
      ]
    },
    {
      "cell_type": "code",
      "metadata": {
        "id": "lRRj2ujBEJA5",
        "outputId": "c0c4ac11-9ea8-4f72-9168-f41af33336e0"
      },
      "source": [
        "# students can't run this\n",
        "te_resolver = neural_net.evaluate(tr_word_lstm, tr_attn_layer, tr_scorer, all_words_test, all_markables_te, coref_features.minimal_features)\n",
        "coref_metrics(te_resolver, all_markables_te);"
      ],
      "execution_count": null,
      "outputs": [
        {
          "output_type": "stream",
          "text": [
            "F: 0.4519\tR: 0.3297\tP:0.7176\n",
            "B-Cubed: 0.5334\tCEAF: 0.4225\tMUC: 0.4778\tAverage: 0.4779\n"
          ],
          "name": "stdout"
        }
      ]
    },
    {
      "cell_type": "markdown",
      "metadata": {
        "id": "VOrxm4_nEJA5"
      },
      "source": [
        "## Pretrained Word Embeddings\n",
        "\n",
        "**Deliverable 4.5** (3 points):\n",
        "Implement `utils.initialize_with_pretrained()`. Start by copying from your implementation in the last homework.\n",
        "\n",
        "* **Test:** `tests\\test_neural_coref.test_pretrain_embeddings_d4_5()`\n",
        "\n",
        "**Note** that there is a new pretrained file in the `data` folder. Although from the same original source, it is trimmed to the vocabulary in our new dataset, so don't use the same file from the last homework. In addition to this attribute, it includes a special token called **&lt;UNK&gt;**. You should use its assigned vector to initialize vectors for all unknown words in the dataset.\n",
        "\n",
        "Later, if you're interested in improving your model's performance, you may want to know that there are more special tokens with trained vectors in the data file:\n",
        "* **&lt;S&gt;** signifies the beginning of a sentence.\n",
        "* **&lt;/S&gt;** signifies the end of a sentence.\n",
        "* **&lt;PAD&gt;** is used to pad short sentences (this one probably won't be useful)."
      ]
    },
    {
      "cell_type": "code",
      "metadata": {
        "id": "uvKTh_B_EJA5"
      },
      "source": [
        "pret_embs = pickle.load(open('data/pretrained-embeds-coref.pkl', 'rb'))"
      ],
      "execution_count": 122,
      "outputs": []
    },
    {
      "cell_type": "code",
      "metadata": {
        "scrolled": true,
        "colab": {
          "base_uri": "https://localhost:8080/"
        },
        "id": "PJjH3r5rEJA5",
        "outputId": "038c3e0c-2bcd-4afc-9d44-23c5ad34da9c"
      },
      "source": [
        "print(pret_embs['Fujitsu'][:5])"
      ],
      "execution_count": 123,
      "outputs": [
        {
          "output_type": "stream",
          "text": [
            "[ 0.34177107 -0.1528549  -0.06971747  0.12536518  0.31670848]\n"
          ],
          "name": "stdout"
        }
      ]
    },
    {
      "cell_type": "code",
      "metadata": {
        "colab": {
          "base_uri": "https://localhost:8080/"
        },
        "id": "ERk2b8-vEJA5",
        "outputId": "3c30ec40-8b47-41f4-9694-9759b627e913"
      },
      "source": [
        "print(pret_embs['<UNK>'][:5])"
      ],
      "execution_count": 124,
      "outputs": [
        {
          "output_type": "stream",
          "text": [
            "[-0.2400684   0.0170402  -0.5328812   0.16161029 -0.03450763]\n"
          ],
          "name": "stdout"
        }
      ]
    },
    {
      "cell_type": "code",
      "metadata": {
        "colab": {
          "base_uri": "https://localhost:8080/"
        },
        "id": "H0bGdiwOEJA5",
        "outputId": "995e92ac-9931-4c86-d180-199592793907"
      },
      "source": [
        "torch.manual_seed(1984)\n",
        "tr_pt_word_lstm = neural_net.BiLSTMWordEmbedding(word_to_ix, WORD_EMB_DIM, WORD_LSTM_EMB_DIM, 1, 0.2)\n",
        "utils.initialize_with_pretrained(pret_embs, tr_pt_word_lstm)\n",
        "tr_pt_attn_layer = neural_net.AttentionBasedMarkableEmbedding(WORD_LSTM_EMB_DIM)\n",
        "tr_pt_scorer = neural_net.SequentialScorer(WORD_LSTM_EMB_DIM, min_features, BOOLEAN_FEATURE_DIM, SCORER_HIDDEN_DIM)\n",
        "optimizer = optim.SGD(list(tr_pt_word_lstm.parameters()) + list(tr_pt_attn_layer.parameters()) + list(tr_pt_scorer.parameters()), lr=ETA_0)\n",
        "neural_net.train(tr_pt_word_lstm, tr_pt_attn_layer, tr_pt_scorer,\\\n",
        "                 optimizer, all_words, all_markables, coref_features.minimal_features, word_limit=150, epochs=5)"
      ],
      "execution_count": 125,
      "outputs": [
        {
          "output_type": "stream",
          "text": [
            "/usr/local/lib/python3.6/dist-packages/torch/nn/modules/rnn.py:61: UserWarning: dropout option adds dropout after all but last recurrent layer, so non-zero dropout expects num_layers greater than 1, but got dropout=0.2 and num_layers=1\n",
            "  \"num_layers={}\".format(dropout, num_layers))\n"
          ],
          "name": "stderr"
        },
        {
          "output_type": "stream",
          "text": [
            "Epoch 1 complete.\n",
            "Document losses = 0.93532, 0.72020, 0.63929, 0.79194, 0.72040, 0.89231, 0.79309, 0.58134, 0.34572, 0.48719, 0.64850, 0.44828, 0.50067, 0.64606, 0.36389, 0.49039, 0.42083, 0.79277, 0.55337, 0.66727, 0.81885, 0.84035\n",
            "Overall loss = 0.63736\n",
            "Epoch 2 complete.\n",
            "Document losses = 0.55916, 0.05312, 0.35828, 0.45841, 1.10227, 0.80828, 0.74485, 0.50687, 0.39998, 0.58693, 0.55876, 0.53564, 0.53653, 0.58264, 0.36642, 0.47296, 0.40334, 0.62587, 0.45034, 0.18482, 0.94645, 0.86991\n",
            "Overall loss = 0.55066\n",
            "Epoch 3 complete.\n",
            "Document losses = 0.57564, 0.10515, 0.61917, 0.67002, 0.79576, 0.83516, 0.78449, 0.47714, 0.37494, 0.50172, 0.56711, 0.46329, 0.54898, 0.54713, 0.36121, 0.48616, 0.40745, 0.49241, 0.54198, 0.17694, 0.74800, 0.86620\n",
            "Overall loss = 0.54376\n",
            "Epoch 4 complete.\n",
            "Document losses = 0.56411, 0.05279, 0.32762, 0.46465, 0.81769, 0.82422, 0.77197, 0.45029, 0.36006, 0.49921, 0.55093, 0.45243, 0.53600, 0.54701, 0.35354, 0.48786, 0.40707, 0.49983, 0.50426, 0.18343, 0.74404, 0.86567\n",
            "Overall loss = 0.51160\n",
            "Epoch 5 complete.\n",
            "Document losses = 0.55530, 0.04912, 0.30937, 0.46331, 0.72711, 0.82899, 0.77694, 0.46696, 0.34806, 0.48935, 0.56174, 0.43336, 0.52824, 0.54275, 0.36029, 0.48375, 0.40232, 0.50221, 0.49025, 0.18812, 0.74585, 0.84635\n",
            "Overall loss = 0.50436\n"
          ],
          "name": "stdout"
        }
      ]
    },
    {
      "cell_type": "code",
      "metadata": {
        "scrolled": true,
        "colab": {
          "base_uri": "https://localhost:8080/"
        },
        "id": "KQqNao_NEJA5",
        "outputId": "0962496e-6389-47f1-88ab-1a1305539e88"
      },
      "source": [
        "tr_pt_resolver = neural_net.evaluate(tr_pt_word_lstm, tr_pt_attn_layer, tr_pt_scorer, all_words, all_markables, coref_features.minimal_features)"
      ],
      "execution_count": 126,
      "outputs": [
        {
          "output_type": "stream",
          "text": [
            "F: 0.5420\tR: 0.4188\tP:0.7681\n"
          ],
          "name": "stdout"
        }
      ]
    },
    {
      "cell_type": "code",
      "metadata": {
        "colab": {
          "base_uri": "https://localhost:8080/"
        },
        "id": "Um3aE7PhEJA5",
        "outputId": "9f93a19f-0d45-4f77-f43d-124af7c6adb8"
      },
      "source": [
        "coref_metrics(tr_pt_resolver, all_markables);"
      ],
      "execution_count": 127,
      "outputs": [
        {
          "output_type": "stream",
          "text": [
            "B-Cubed: 0.5787\tCEAF: 0.4673\tMUC: 0.5661\tAverage: 0.5374\n"
          ],
          "name": "stdout"
        }
      ]
    },
    {
      "cell_type": "code",
      "metadata": {
        "colab": {
          "base_uri": "https://localhost:8080/"
        },
        "id": "9sxu7NaUEJA6",
        "outputId": "12897391-239d-4545-ea52-5bf452f1cac2"
      },
      "source": [
        "tr_pt_resolver_dev = neural_net.evaluate(tr_pt_word_lstm, tr_pt_attn_layer, tr_pt_scorer, all_words_dev, all_markables_dev, coref_features.minimal_features)\n",
        "coref.write_predictions(tr_pt_resolver_dev,\n",
        "                        all_markables_dev,\n",
        "                        'predictions/nn-dev.preds');\n",
        "coref_metrics(tr_pt_resolver_dev, all_markables_dev);"
      ],
      "execution_count": 128,
      "outputs": [
        {
          "output_type": "stream",
          "text": [
            "F: 0.5540\tR: 0.3960\tP:0.9219\n",
            "B-Cubed: 0.5837\tCEAF: 0.4213\tMUC: 0.5540\tAverage: 0.5196\n"
          ],
          "name": "stdout"
        }
      ]
    },
    {
      "cell_type": "code",
      "metadata": {
        "scrolled": true,
        "id": "H_QPkbpeEJA6",
        "colab": {
          "base_uri": "https://localhost:8080/"
        },
        "outputId": "59b58150-2192-488e-8b1f-3d9e1df61034"
      },
      "source": [
        "# students can't run this\n",
        "tr_pt_resolver_te = neural_net.evaluate(tr_pt_word_lstm, tr_pt_attn_layer, tr_pt_scorer, all_words_test, all_markables_te, coref_features.minimal_features)\n",
        "coref.write_predictions(tr_pt_resolver_te,\n",
        "                        all_markables_te,\n",
        "                        'predictions/nn-test.preds');\n",
        "coref_metrics(tr_pt_resolver_te, all_markables_te);"
      ],
      "execution_count": 129,
      "outputs": [
        {
          "output_type": "stream",
          "text": [
            "F: 0.3541\tR: 0.2151\tP:1.0000\n",
            "B-Cubed: 0.0216\tCEAF: 0.0072\tMUC: 0.3541\tAverage: 0.1276\n"
          ],
          "name": "stdout"
        }
      ]
    },
    {
      "cell_type": "code",
      "metadata": {
        "colab": {
          "base_uri": "https://localhost:8080/"
        },
        "id": "0LkKSGw8lWus",
        "outputId": "e691ca54-ee5c-4717-f0f6-5dd45ca44cd0"
      },
      "source": [
        "! nosetests tests/test_neural_coref.py:test_pretrain_embeddings_d4_5"
      ],
      "execution_count": 130,
      "outputs": [
        {
          "output_type": "stream",
          "text": [
            ".\n",
            "----------------------------------------------------------------------\n",
            "Ran 1 test in 0.003s\n",
            "\n",
            "OK\n"
          ],
          "name": "stdout"
        }
      ]
    },
    {
      "cell_type": "markdown",
      "metadata": {
        "id": "ystWasaAEJA6"
      },
      "source": [
        "## 5. Domain Adaptation (no deliverables)\n",
        "\n",
        "Our dataset has a second part, which is a corpus of fairy tales, rather than news stories.\n",
        "\n",
        "Let's take advantage of this setup to see how well our WSJ-trained model does over the fairy tale data, as opposed to a model trained on the fairy tales themselves."
      ]
    },
    {
      "cell_type": "code",
      "metadata": {
        "id": "zfiUrh5uEJA6"
      },
      "source": [
        "ft_dv_dir = os.path.join('data','tales','dev')\n",
        "ft_tr_dir = os.path.join('data','tales','train')\n",
        "ft_te_dir = os.path.join('data','tales','test')"
      ],
      "execution_count": 131,
      "outputs": []
    },
    {
      "cell_type": "code",
      "metadata": {
        "id": "m2iq5booEJA6"
      },
      "source": [
        "ft_all_markables, ft_all_words = coref.read_dataset(ft_tr_dir, tagger=pos_tag)\n",
        "ft_all_markables_dev, ft_all_words_dev = coref.read_dataset(ft_dv_dir, tagger=pos_tag)\n",
        "ft_all_markables_te, ft_all_words_te = coref.read_dataset(ft_te_dir, tagger=pos_tag)"
      ],
      "execution_count": 132,
      "outputs": []
    },
    {
      "cell_type": "code",
      "metadata": {
        "colab": {
          "base_uri": "https://localhost:8080/"
        },
        "id": "1pRgkAAFEJA6",
        "outputId": "b263d336-1914-47aa-fb35-f099a82c3cd9"
      },
      "source": [
        "coref.eval_on_dataset(exact_matcher, ft_all_markables);"
      ],
      "execution_count": 133,
      "outputs": [
        {
          "output_type": "stream",
          "text": [
            "F: 0.6511\tR: 0.5545\tP:0.7884\n"
          ],
          "name": "stdout"
        }
      ]
    },
    {
      "cell_type": "markdown",
      "metadata": {
        "id": "Gn94c6MEEJA6"
      },
      "source": [
        "The exact matcher is getting much higher numbers on this dataset than on WSJ. Let's train an ML system and see the differences. We'll use `FFCoref` from section 3."
      ]
    },
    {
      "cell_type": "code",
      "metadata": {
        "colab": {
          "base_uri": "https://localhost:8080/"
        },
        "id": "NXum3cCIEJA6",
        "outputId": "03c51153-6db8-4a31-828c-6ff17ae594b2"
      },
      "source": [
        "torch.manual_seed(1984) # DO NOT CHANGE\n",
        "coref_ff_fairy = coref_learning.FFCoref(min_features_and_distances, 50)\n",
        "optimizer = optim.SGD(coref_ff_fairy.parameters(), lr=ETA_0)\n",
        "coref_learning.train(coref_ff_fairy, optimizer, ft_all_markables, joint_feats, epochs=2)"
      ],
      "execution_count": 134,
      "outputs": [
        {
          "output_type": "stream",
          "text": [
            "Loss = 0.7183681557135433\n",
            "Loss = 0.677033908750819\n"
          ],
          "name": "stdout"
        }
      ]
    },
    {
      "cell_type": "code",
      "metadata": {
        "scrolled": true,
        "colab": {
          "base_uri": "https://localhost:8080/"
        },
        "id": "EuCba1tMEJA7",
        "outputId": "dd711c4b-6459-47cf-b7cc-c22992a498af"
      },
      "source": [
        "# in-domain trained, tested on fairy tale data\n",
        "coref_learning.evaluate(coref_ff_fairy, ft_all_markables_dev, joint_feats)"
      ],
      "execution_count": 135,
      "outputs": [
        {
          "output_type": "stream",
          "text": [
            "F: 0.5910\tR: 0.5161\tP:0.6914\n"
          ],
          "name": "stdout"
        }
      ]
    },
    {
      "cell_type": "code",
      "metadata": {
        "scrolled": true,
        "colab": {
          "base_uri": "https://localhost:8080/"
        },
        "id": "v6X9K9xrEJA7",
        "outputId": "0c44080e-95ed-4dc3-d179-bb6c465e9878"
      },
      "source": [
        "ft_ff_matcher = coref_learning.make_resolver(joint_feats, coref_ff_fairy)\n",
        "coref_metrics(ft_ff_matcher, ft_all_markables_dev);"
      ],
      "execution_count": 136,
      "outputs": [
        {
          "output_type": "stream",
          "text": [
            "B-Cubed: 0.5220\tCEAF: 0.4773\tMUC: 0.6755\tAverage: 0.5582\n"
          ],
          "name": "stdout"
        }
      ]
    },
    {
      "cell_type": "markdown",
      "metadata": {
        "id": "a2HEFSvoEJA7"
      },
      "source": [
        "These are the **in-domain** dev set scores for the fairy tale dataset.\n",
        "\n",
        "Recall that the in-domain numbers for the WSJ portion were the following:"
      ]
    },
    {
      "cell_type": "code",
      "metadata": {
        "colab": {
          "base_uri": "https://localhost:8080/"
        },
        "id": "RdUmhnsfEJA7",
        "outputId": "c2b58095-33d0-4eb7-bd57-041d4637132b"
      },
      "source": [
        "coref_metrics(ff_w_dist_matcher, all_markables_dev);"
      ],
      "execution_count": 122,
      "outputs": [
        {
          "output_type": "stream",
          "text": [
            "B-Cubed: 0.5653\tCEAF: 0.3966\tMUC: 0.5403\tAverage: 0.5007\n"
          ],
          "name": "stdout"
        }
      ]
    },
    {
      "cell_type": "markdown",
      "metadata": {
        "id": "v60NXiJXEJA7"
      },
      "source": [
        "Now we can see how the **cross-domain** results look. Can a model trained on news data be reliably used in a fairy-tale setting? How about the converse?"
      ]
    },
    {
      "cell_type": "code",
      "metadata": {
        "colab": {
          "base_uri": "https://localhost:8080/"
        },
        "id": "kI1Cuv_oEJA7",
        "outputId": "b3c54c40-6a76-40d1-bb50-6676b84df274"
      },
      "source": [
        "# trained on fairy, tested on WSJ\n",
        "coref_metrics(ft_ff_matcher, all_markables_dev);"
      ],
      "execution_count": 137,
      "outputs": [
        {
          "output_type": "stream",
          "text": [
            "B-Cubed: 0.5668\tCEAF: 0.4798\tMUC: 0.5442\tAverage: 0.5303\n"
          ],
          "name": "stdout"
        }
      ]
    },
    {
      "cell_type": "code",
      "metadata": {
        "colab": {
          "base_uri": "https://localhost:8080/"
        },
        "id": "-yVNkWOoEJA8",
        "outputId": "7331bf70-2a5e-48c3-88ce-bf91f3317a22"
      },
      "source": [
        "# trained on WSJ, tested on fairy\n",
        "coref_metrics(ff_w_dist_matcher, ft_all_markables_dev);"
      ],
      "execution_count": 138,
      "outputs": [
        {
          "output_type": "stream",
          "text": [
            "B-Cubed: 0.4632\tCEAF: 0.3597\tMUC: 0.6082\tAverage: 0.4770\n"
          ],
          "name": "stdout"
        }
      ]
    },
    {
      "cell_type": "markdown",
      "metadata": {
        "id": "eFLWfs_9EJA8"
      },
      "source": [
        "The fairy numbers are lower (but not drastically) than in-domain, and the WSJ numbers are even slightly higher than in-domain (though might not be the case with better tuning).\n",
        "\n",
        "If you're interested, you may try and join the two training sets together and see where that gets you. You can also use this extra data (only training sets!) for your bakeoff."
      ]
    },
    {
      "cell_type": "markdown",
      "metadata": {
        "id": "oK3FywrHEJA8"
      },
      "source": [
        "# 6. Final Bakeoff! (16 points)\n",
        "\n",
        "Ideas for improvements:\n",
        "\n",
        "- Cost-sensitive training to balance precision and recall\n",
        "- Syntax (you can parse all the markables as a preprocessing step)\n",
        "  - Tree distance\n",
        "  - Syntactic parallelism\n",
        "  - Better head matching\n",
        "- Add layers\n",
        "- Ensemble (average) multiple models together\n",
        "\n",
        "Feel free to search the research literature to get ideas. If you use an idea from another paper, mention the paper (authors, title, and URL) in your writeup.\n",
        "\n",
        "As usual, sometimes improvement can also come from tweaking parameters in the neural nets.\n",
        "\n",
        "In section 4, recall that we truncated the training documents - maybe more data (or different portions of each document) can help.\n",
        "\n",
        "To use cuda, pass in use_cuda=True into `neural_net.train()` and `utils.initialize_with_pretrained()`."
      ]
    },
    {
      "cell_type": "code",
      "metadata": {
        "id": "-Tme5ZO8qmeT"
      },
      "source": [
        "pret_embs = pickle.load(open('data/pretrained-embeds-coref.pkl', 'rb'))"
      ],
      "execution_count": 139,
      "outputs": []
    },
    {
      "cell_type": "code",
      "metadata": {
        "id": "YnmCIpQxkXZX"
      },
      "source": [
        "# temp_mark = all_markables.copy()\n",
        "# temp_word = all_words.copy()\n",
        "# temp_mark.extend(ft_all_markables)\n",
        "# temp_word.extend(ft_all_words)\n",
        "# for ele in range(len(ft_all_markables)):\n",
        "#   temp_mark.append(ft_all_markables[ele])\n",
        "#   temp_word.append(ft_all_words[ele])"
      ],
      "execution_count": 151,
      "outputs": []
    },
    {
      "cell_type": "code",
      "metadata": {
        "colab": {
          "base_uri": "https://localhost:8080/"
        },
        "id": "r9bMNU4ZhEeP",
        "outputId": "cf99bd98-d11f-4256-a526-a3c8209da071"
      },
      "source": [
        "vocab_combined = set()\n",
        "for doc in all_words + all_words_dev + all_words_test + ft_all_words + ft_all_words_dev + ft_all_words_te:\n",
        "    vocab_combined.update(doc)\n",
        "vocab_combined = sorted(list(vocab_combined))\n",
        "word_to_ix_comb = {w:i for i,w in enumerate(vocab_combined)}\n",
        "print(len(vocab_combined))"
      ],
      "execution_count": 179,
      "outputs": [
        {
          "output_type": "stream",
          "text": [
            "4725\n"
          ],
          "name": "stdout"
        }
      ]
    },
    {
      "cell_type": "code",
      "metadata": {
        "colab": {
          "base_uri": "https://localhost:8080/"
        },
        "id": "NvkoSVWIxNSe",
        "outputId": "787f8abb-0174-40d6-c819-64e1871a33d5"
      },
      "source": [
        "len(ft_all_words)"
      ],
      "execution_count": 180,
      "outputs": [
        {
          "output_type": "execute_result",
          "data": {
            "text/plain": [
              "20"
            ]
          },
          "metadata": {
            "tags": []
          },
          "execution_count": 180
        }
      ]
    },
    {
      "cell_type": "code",
      "metadata": {
        "id": "9dihbZV-wDcl"
      },
      "source": [
        "temp_mark = []\n",
        "temp_words = []\n",
        "for i in all_markables:\n",
        "  temp_mark.append(i)\n",
        "for i in ft_all_markables:\n",
        "  temp_mark.append(i)\n",
        "for i in all_words:\n",
        "  temp_words.append(i)\n",
        "for i in ft_all_words:\n",
        "  temp_words.append(i)\n",
        "\n",
        "\n"
      ],
      "execution_count": 181,
      "outputs": []
    },
    {
      "cell_type": "code",
      "metadata": {
        "colab": {
          "base_uri": "https://localhost:8080/"
        },
        "id": "Sph6TOYxwjCZ",
        "outputId": "1749b36d-79a2-4fed-8236-fcb82537dfec"
      },
      "source": [
        "len(temp_words)"
      ],
      "execution_count": 182,
      "outputs": [
        {
          "output_type": "execute_result",
          "data": {
            "text/plain": [
              "42"
            ]
          },
          "metadata": {
            "tags": []
          },
          "execution_count": 182
        }
      ]
    },
    {
      "cell_type": "code",
      "metadata": {
        "colab": {
          "base_uri": "https://localhost:8080/"
        },
        "id": "yqDv2rTbn4MK",
        "outputId": "2172d8c9-2ea6-454a-e005-c8b3bf4eb5a3"
      },
      "source": [
        "type(all_markables)"
      ],
      "execution_count": 171,
      "outputs": [
        {
          "output_type": "execute_result",
          "data": {
            "text/plain": [
              "list"
            ]
          },
          "metadata": {
            "tags": []
          },
          "execution_count": 171
        }
      ]
    },
    {
      "cell_type": "code",
      "metadata": {
        "colab": {
          "base_uri": "https://localhost:8080/"
        },
        "id": "iYXMlge5MO0r",
        "outputId": "a3da1cd2-79b0-4c38-a272-90b328b77140"
      },
      "source": [
        "temp_mark[0][0]"
      ],
      "execution_count": 167,
      "outputs": [
        {
          "output_type": "execute_result",
          "data": {
            "text/plain": [
              "Markable(string=['McDermott', 'International', 'Inc.'], entity='set_356', start_token=0, end_token=3, tags=['NNP', 'NNP', 'NNP'])"
            ]
          },
          "metadata": {
            "tags": []
          },
          "execution_count": 167
        }
      ]
    },
    {
      "cell_type": "code",
      "metadata": {
        "id": "jeCUUFmGMKZ1"
      },
      "source": [
        "import random"
      ],
      "execution_count": 173,
      "outputs": []
    },
    {
      "cell_type": "code",
      "metadata": {
        "id": "_dWB7HBiMGBu"
      },
      "source": [
        "#random.shuffle(temp_mark)"
      ],
      "execution_count": 174,
      "outputs": []
    },
    {
      "cell_type": "code",
      "metadata": {
        "colab": {
          "base_uri": "https://localhost:8080/"
        },
        "id": "lLuQHhuPMSq5",
        "outputId": "e7a41979-b869-45c5-cb11-4bc3f08fc5e2"
      },
      "source": [
        "temp_mark[0][0]"
      ],
      "execution_count": 175,
      "outputs": [
        {
          "output_type": "execute_result",
          "data": {
            "text/plain": [
              "Markable(string=['Newsweek'], entity='set_1611', start_token=0, end_token=1, tags=['NNP'])"
            ]
          },
          "metadata": {
            "tags": []
          },
          "execution_count": 175
        }
      ]
    },
    {
      "cell_type": "code",
      "metadata": {
        "colab": {
          "base_uri": "https://localhost:8080/"
        },
        "id": "CMxmTlGAoheI",
        "outputId": "19538426-d7b7-4986-c8d1-ca267d3b296b"
      },
      "source": [
        "torch.manual_seed(1984)#1984\n",
        "tr_pt_word_lstm = neural_net.BiLSTMWordEmbedding(word_to_ix_comb, WORD_EMB_DIM, WORD_LSTM_EMB_DIM, 1, 0.2)\n",
        "utils.initialize_with_pretrained(pret_embs, tr_pt_word_lstm)\n",
        "tr_pt_attn_layer = neural_net.AttentionBasedMarkableEmbedding(WORD_LSTM_EMB_DIM)\n",
        "tr_pt_scorer = neural_net.SequentialScorer(WORD_LSTM_EMB_DIM, min_features, BOOLEAN_FEATURE_DIM, SCORER_HIDDEN_DIM)\n",
        "optimizer = optim.SGD(list(tr_pt_word_lstm.parameters()) + list(tr_pt_attn_layer.parameters()) + list(tr_pt_scorer.parameters()), lr=0.002)#0.005ETA_0 SGD\n",
        "neural_net.train(tr_pt_word_lstm, tr_pt_attn_layer, tr_pt_scorer,\\\n",
        "                 optimizer, temp_words, temp_mark, coref_features.minimal_features, word_limit=150, epochs=50)#20"
      ],
      "execution_count": 207,
      "outputs": [
        {
          "output_type": "stream",
          "text": [
            "/usr/local/lib/python3.6/dist-packages/torch/nn/modules/rnn.py:61: UserWarning: dropout option adds dropout after all but last recurrent layer, so non-zero dropout expects num_layers greater than 1, but got dropout=0.2 and num_layers=1\n",
            "  \"num_layers={}\".format(dropout, num_layers))\n"
          ],
          "name": "stderr"
        },
        {
          "output_type": "stream",
          "text": [
            "Epoch 1 complete.\n",
            "Document losses = 0.98316, 0.95209, 0.92554, 0.91273, 0.90314, 0.83302, 0.93350, 0.76336, 0.76597, 0.70839, 0.90354, 0.84734, 0.70620, 0.67235, 0.45028, 0.23927, 0.50218, 0.84730, 0.27545, 0.75855, 0.45032, 0.32969, 0.49980, 0.59795, 0.78163, 0.50723, 0.75095, 0.38667, 0.73013, 0.40505, 0.73602, 0.13153, 0.56790, 0.71028, 0.81196, 0.69448, 0.57888, 0.57064, 0.67893, 0.55839, 0.26957, 0.70476\n",
            "Overall loss = 0.65025\n",
            "Epoch 2 complete.\n",
            "Document losses = 0.48138, 0.62336, 0.45208, 0.76778, 0.58190, 0.26365, 0.71507, 0.85504, 0.50984, 0.86378, 0.42082, 0.68242, 0.40391, 0.52524, 0.42322, 0.68582, 0.75239, 0.65656, 0.47898, 0.58105, 0.28565, 0.74883, 0.66872, 0.66872, 0.68132, 0.80914, 0.30326, 0.74509, 0.92715, 0.37695, 0.76670, 0.90151, 0.53730, 0.07993, 0.47123, 0.78031, 0.49799, 0.45191, 0.70526, 0.26171, 0.65227, 0.26525\n",
            "Overall loss = 0.57505\n",
            "Epoch 3 complete.\n",
            "Document losses = 0.44410, 0.13645, 0.53143, 0.84984, 0.42880, 0.74947, 0.25895, 0.96477, 0.27067, 0.80022, 0.68237, 0.76140, 0.43688, 0.76373, 0.81061, 0.58284, 0.23077, 0.31561, 0.49863, 0.48960, 0.85936, 0.37894, 1.01714, 0.56305, 0.68686, 0.44064, 0.76599, 0.59486, 0.35040, 0.47282, 0.44682, 0.24634, 0.72838, 0.65535, 0.73114, 0.68033, 0.87525, 0.56248, 0.63568, 0.51166, 0.43380, 0.61500\n",
            "Overall loss = 0.57620\n",
            "Epoch 4 complete.\n",
            "Document losses = 0.32501, 1.05569, 0.79302, 0.51149, 0.76477, 0.78616, 0.63819, 0.48801, 0.79169, 0.78915, 0.48868, 0.69040, 0.64203, 0.32103, 0.26380, 0.68824, 0.45186, 0.60843, 0.45723, 0.36060, 0.60155, 0.50576, 0.42698, 0.58145, 0.41942, 0.93248, 0.46382, 0.72640, 0.28838, 0.83657, 0.70530, 0.20922, 0.73070, 0.48949, 0.62834, 0.83589, 0.52374, 0.47667, 0.56244, 0.25064, 0.72892, 0.13415\n",
            "Overall loss = 0.56891\n",
            "Epoch 5 complete.\n",
            "Document losses = 1.07644, 0.51566, 0.45254, 0.44673, 0.62917, 0.20806, 0.41707, 0.72259, 0.76215, 0.64445, 0.48429, 0.77624, 0.68009, 0.26057, 0.75468, 0.72630, 0.50333, 0.56001, 0.37807, 0.74853, 0.23575, 0.21772, 0.67675, 0.47497, 0.58451, 0.82946, 0.76806, 0.55391, 0.43031, 0.68340, 0.13699, 0.89373, 0.47236, 0.25494, 0.92434, 0.44694, 0.49288, 0.37134, 0.51719, 0.69129, 0.63409, 0.56559\n",
            "Overall loss = 0.55665\n",
            "Epoch 6 complete.\n",
            "Document losses = 0.57679, 0.69695, 0.68199, 0.27241, 0.44328, 0.19242, 0.86483, 0.63128, 0.19549, 0.48507, 0.74732, 0.49254, 0.89600, 0.62997, 0.76285, 0.47530, 0.46458, 0.22977, 0.62387, 0.46548, 0.44519, 0.71894, 0.85986, 0.34965, 0.52061, 0.43092, 0.31789, 0.35252, 0.57288, 0.64379, 0.55248, 0.61871, 0.73018, 0.66205, 0.32322, 0.84088, 0.49533, 0.73908, 0.45323, 0.80606, 0.45401, 0.57559\n",
            "Overall loss = 0.55206\n",
            "Epoch 7 complete.\n",
            "Document losses = 0.54952, 0.62743, 0.09455, 0.65411, 0.49582, 0.85457, 0.77095, 0.56552, 0.42802, 0.24910, 0.69757, 0.26757, 0.42683, 0.78806, 0.51067, 0.69017, 0.88016, 0.38347, 0.66990, 0.54799, 0.44554, 0.46263, 0.35676, 0.49065, 0.71130, 0.60381, 0.19374, 0.44845, 0.45271, 0.42747, 0.27011, 0.24593, 0.43953, 0.63650, 0.88641, 0.71300, 0.51401, 0.68565, 0.66865, 0.70770, 0.73889, 0.55451\n",
            "Overall loss = 0.53939\n",
            "Epoch 8 complete.\n",
            "Document losses = 0.59858, 0.31214, 0.74234, 0.24508, 0.19925, 0.25143, 0.49418, 0.59712, 0.47017, 0.42274, 0.87179, 0.57727, 0.81136, 0.70221, 0.56947, 0.27156, 0.09235, 0.68731, 0.84035, 0.41528, 0.65225, 0.49716, 0.87878, 0.45821, 0.75398, 0.70321, 0.76610, 0.54682, 0.43746, 0.67682, 0.45979, 0.54354, 0.58645, 0.65936, 0.36593, 0.26092, 0.45574, 0.67925, 0.63992, 0.42522, 0.66607, 0.41250\n",
            "Overall loss = 0.53799\n",
            "Epoch 9 complete.\n",
            "Document losses = 0.44183, 0.31064, 0.44749, 0.48159, 0.42587, 0.75451, 0.25449, 0.92438, 0.44761, 0.44753, 0.72615, 0.22649, 0.23720, 0.69981, 0.59185, 0.49888, 0.68032, 0.63424, 0.58826, 0.58437, 0.36059, 0.52022, 0.87058, 0.74786, 0.69170, 0.54437, 0.05996, 0.48166, 0.53371, 0.74624, 0.31125, 0.74840, 0.55461, 0.44423, 0.48569, 0.67186, 0.65040, 0.41298, 0.27262, 0.42146, 0.78719, 0.76105\n",
            "Overall loss = 0.53447\n",
            "Epoch 10 complete.\n",
            "Document losses = 0.32462, 0.42053, 0.69463, 0.68918, 0.43138, 0.50776, 0.43029, 0.50778, 0.64204, 0.78341, 0.39612, 0.45791, 0.86430, 0.43187, 0.73907, 0.58417, 0.54083, 0.40113, 0.27864, 0.47469, 0.17891, 0.63962, 0.68181, 0.53016, 0.24448, 0.88632, 0.53536, 0.55707, 0.74966, 0.51870, 0.49627, 0.42843, 0.39642, 0.46704, 0.65395, 0.55100, 0.78559, 0.61155, 0.46324, 0.09398, 0.31132, 0.70730\n",
            "Overall loss = 0.52387\n",
            "Epoch 11 complete.\n",
            "Document losses = 0.51169, 0.53361, 0.51374, 0.42913, 0.51180, 0.19651, 0.51428, 0.51750, 0.57092, 0.76204, 0.31830, 0.21609, 0.71225, 0.10083, 0.20778, 0.54872, 0.36267, 0.58344, 0.73112, 0.36685, 0.59815, 0.45162, 0.63706, 0.67699, 0.43767, 0.57130, 0.39946, 0.50113, 0.28055, 0.44936, 0.68526, 0.53398, 0.71922, 0.49244, 0.45287, 0.70805, 0.59556, 0.76423, 0.42664, 0.45678, 0.30172, 0.65527\n",
            "Overall loss = 0.49964\n",
            "Epoch 12 complete.\n",
            "Document losses = 0.52675, 0.46489, 0.45970, 0.50887, 0.72432, 0.48818, 0.38800, 0.26721, 0.36597, 0.27067, 0.21456, 0.59034, 0.64068, 0.51021, 0.51792, 0.51077, 0.54190, 0.69363, 0.55750, 0.70799, 0.78766, 0.48292, 0.71453, 0.42541, 0.45112, 0.44611, 0.56467, 0.82948, 0.72145, 0.59555, 0.38327, 0.35331, 0.38305, 0.65760, 0.44501, 0.27409, 0.13027, 0.54645, 0.54877, 0.29531, 0.14803, 0.34447\n",
            "Overall loss = 0.48570\n",
            "Epoch 13 complete.\n",
            "Document losses = 0.13889, 0.42029, 0.53319, 0.48218, 0.48539, 0.68181, 0.39134, 0.48396, 0.20598, 0.51410, 0.42292, 0.61231, 0.42456, 0.22915, 0.62887, 0.30357, 0.05105, 0.47444, 0.41782, 0.27741, 0.49325, 0.60013, 0.48422, 0.42871, 0.45143, 0.34966, 0.52656, 0.70424, 0.71109, 0.65196, 0.35523, 0.27265, 0.65407, 0.50572, 0.56259, 0.68603, 0.58085, 0.52641, 0.47662, 0.37648, 0.65775, 0.39597\n",
            "Overall loss = 0.46663\n",
            "Epoch 14 complete.\n",
            "Document losses = 0.45892, 0.65219, 0.19058, 0.73279, 0.54478, 0.52669, 0.48250, 0.38493, 0.65875, 0.53860, 0.47955, 0.64763, 0.49210, 0.50285, 0.63596, 0.34463, 0.64679, 0.19364, 0.29362, 0.54042, 0.50410, 0.29147, 0.03877, 0.19029, 0.44163, 0.57452, 0.59551, 0.35239, 0.49941, 0.48446, 0.68025, 0.70352, 0.45234, 0.29200, 0.43232, 0.49942, 0.41288, 0.36001, 0.32878, 0.50823, 0.46045, 0.66292\n",
            "Overall loss = 0.46775\n",
            "Epoch 15 complete.\n",
            "Document losses = 0.57649, 0.31658, 0.43562, 0.41873, 0.44347, 0.41776, 0.58713, 0.45891, 0.48084, 0.42910, 0.55611, 0.64369, 0.41423, 0.33125, 0.34282, 0.25659, 0.66258, 0.47217, 0.54058, 0.73714, 0.29547, 0.39077, 0.31837, 0.46659, 0.42452, 0.26672, 0.13804, 0.05214, 0.49685, 0.36867, 0.48117, 0.57906, 0.38819, 0.49041, 0.57834, 0.68695, 0.27901, 0.52224, 0.69069, 0.64428, 0.53692, 0.53340\n",
            "Overall loss = 0.45522\n",
            "Epoch 16 complete.\n",
            "Document losses = 0.17929, 0.34404, 0.45930, 0.47296, 0.32865, 0.34730, 0.65803, 0.41780, 0.68652, 0.41785, 0.48190, 0.46960, 0.47044, 0.18550, 0.60245, 0.41127, 0.52047, 0.27266, 0.49174, 0.28159, 0.38517, 0.62666, 0.40105, 0.29058, 0.64603, 0.53927, 0.47356, 0.68241, 0.44563, 0.36863, 0.43624, 0.49474, 0.45537, 0.57865, 0.35327, 0.04485, 0.73890, 0.48448, 0.69006, 0.57027, 0.63158, 0.15483\n",
            "Overall loss = 0.45112\n",
            "Epoch 17 complete.\n",
            "Document losses = 0.65160, 0.38483, 0.43365, 0.67952, 0.43248, 0.65703, 0.62258, 0.53371, 0.59754, 0.26410, 0.56343, 0.41106, 0.42830, 0.19365, 0.18071, 0.46850, 0.49740, 0.55508, 0.47348, 0.38087, 0.43185, 0.29278, 0.48736, 0.37716, 0.33551, 0.55034, 0.48637, 0.66682, 0.47662, 0.46518, 0.32428, 0.47670, 0.69245, 0.58989, 0.44066, 0.23405, 0.47862, 0.31726, 0.03428, 0.45469, 0.49679, 0.32805\n",
            "Overall loss = 0.44786\n",
            "Epoch 18 complete.\n",
            "Document losses = 0.59079, 0.63260, 0.40044, 0.03238, 0.14944, 0.56227, 0.64275, 0.42387, 0.48494, 0.44047, 0.66926, 0.42754, 0.69129, 0.53638, 0.17951, 0.37555, 0.65298, 0.35699, 0.46233, 0.37590, 0.29781, 0.42127, 0.67011, 0.56920, 0.50779, 0.54935, 0.54276, 0.46548, 0.40811, 0.41477, 0.42700, 0.36333, 0.32719, 0.43696, 0.32704, 0.61465, 0.48372, 0.25955, 0.28482, 0.56763, 0.19195, 0.47520\n",
            "Overall loss = 0.44381\n",
            "Epoch 19 complete.\n",
            "Document losses = 0.57761, 0.33520, 0.52656, 0.46933, 0.48641, 0.59972, 0.04041, 0.49636, 0.43974, 0.67622, 0.40383, 0.45193, 0.55516, 0.65076, 0.33254, 0.48458, 0.34831, 0.20822, 0.71739, 0.40412, 0.14552, 0.31530, 0.45353, 0.26778, 0.54057, 0.22391, 0.26823, 0.47081, 0.54722, 0.58694, 0.28381, 0.45327, 0.44723, 0.50262, 0.61033, 0.65929, 0.43140, 0.41236, 0.51267, 0.38187, 0.41507, 0.41705\n",
            "Overall loss = 0.44121\n",
            "Epoch 20 complete.\n",
            "Document losses = 0.47996, 0.54610, 0.45508, 0.43589, 0.31100, 0.65510, 0.61512, 0.41810, 0.55043, 0.40809, 0.64188, 0.43800, 0.28597, 0.48180, 0.54016, 0.64291, 0.34618, 0.34239, 0.47360, 0.35753, 0.18113, 0.47045, 0.14461, 0.46677, 0.54779, 0.50835, 0.44612, 0.21021, 0.45143, 0.51794, 0.67755, 0.64402, 0.46598, 0.38341, 0.04077, 0.26519, 0.54805, 0.48726, 0.35157, 0.25513, 0.42350, 0.49970\n",
            "Overall loss = 0.43792\n",
            "Epoch 21 complete.\n",
            "Document losses = 0.46398, 0.65087, 0.45699, 0.49422, 0.60347, 0.41173, 0.66354, 0.12290, 0.43901, 0.62929, 0.40875, 0.38220, 0.59251, 0.35213, 0.64162, 0.28818, 0.32589, 0.48355, 0.36444, 0.31624, 0.14053, 0.26889, 0.66183, 0.45722, 0.55787, 0.47894, 0.40204, 0.46582, 0.42995, 0.30169, 0.42229, 0.48327, 0.43891, 0.49512, 0.45332, 0.53265, 0.64880, 0.57680, 0.19485, 0.48605, 0.17128, 0.29644\n",
            "Overall loss = 0.43807\n",
            "Epoch 22 complete.\n",
            "Document losses = 0.34010, 0.38438, 0.40480, 0.45851, 0.40910, 0.35562, 0.28402, 0.40850, 0.55466, 0.21841, 0.47696, 0.49067, 0.64213, 0.55793, 0.19164, 0.44384, 0.25668, 0.60643, 0.26281, 0.32003, 0.41077, 0.53008, 0.32044, 0.45463, 0.43919, 0.65324, 0.30412, 0.56457, 0.41048, 0.47965, 0.71428, 0.65251, 0.49210, 0.03108, 0.58951, 0.40785, 0.57326, 0.49259, 0.48355, 0.42588, 0.20670, 0.64612\n",
            "Overall loss = 0.43558\n",
            "Epoch 23 complete.\n",
            "Document losses = 0.03807, 0.44215, 0.43932, 0.40841, 0.15874, 0.29641, 0.36749, 0.60582, 0.50672, 0.41600, 0.47490, 0.50194, 0.56489, 0.46079, 0.19590, 0.70488, 0.26502, 0.56683, 0.65829, 0.54685, 0.41966, 0.44112, 0.31756, 0.47916, 0.32078, 0.50140, 0.40860, 0.27958, 0.17590, 0.61829, 0.34310, 0.58739, 0.25781, 0.41165, 0.44765, 0.43785, 0.47424, 0.61725, 0.35371, 0.41435, 0.64426, 0.66095\n",
            "Overall loss = 0.43267\n",
            "Epoch 24 complete.\n",
            "Document losses = 0.63713, 0.05957, 0.55312, 0.30632, 0.45371, 0.32344, 0.65595, 0.54049, 0.33262, 0.12325, 0.59427, 0.45110, 0.57710, 0.44177, 0.65915, 0.47960, 0.37161, 0.42799, 0.59944, 0.39832, 0.54865, 0.26666, 0.41814, 0.41075, 0.29477, 0.47764, 0.51142, 0.42431, 0.48331, 0.64539, 0.39676, 0.40663, 0.28880, 0.46506, 0.41301, 0.53808, 0.59871, 0.19217, 0.17904, 0.46388, 0.35304, 0.29044\n",
            "Overall loss = 0.42851\n",
            "Epoch 25 complete.\n",
            "Document losses = 0.68163, 0.40116, 0.53616, 0.31646, 0.38777, 0.45890, 0.55494, 0.02894, 0.29294, 0.46059, 0.28224, 0.25872, 0.56198, 0.42146, 0.41822, 0.35960, 0.27726, 0.41393, 0.67169, 0.43853, 0.36968, 0.42032, 0.47428, 0.45572, 0.58452, 0.52523, 0.67058, 0.21391, 0.44982, 0.34894, 0.61423, 0.45539, 0.63327, 0.60870, 0.40766, 0.18643, 0.56158, 0.30418, 0.48145, 0.44925, 0.14283, 0.45776\n",
            "Overall loss = 0.42775\n",
            "Epoch 26 complete.\n",
            "Document losses = 0.56018, 0.57655, 0.30040, 0.42425, 0.43854, 0.25602, 0.16487, 0.41251, 0.68541, 0.40255, 0.28802, 0.51767, 0.54210, 0.42219, 0.57317, 0.36137, 0.48371, 0.40586, 0.29724, 0.66336, 0.36585, 0.02429, 0.44973, 0.40890, 0.48164, 0.56296, 0.34741, 0.45100, 0.20853, 0.45756, 0.49117, 0.52617, 0.63347, 0.46326, 0.43386, 0.33991, 0.31317, 0.58319, 0.58346, 0.21519, 0.48619, 0.38012\n",
            "Overall loss = 0.42774\n",
            "Epoch 27 complete.\n",
            "Document losses = 0.28756, 0.60471, 0.05255, 0.25663, 0.55963, 0.28060, 0.56802, 0.40065, 0.34465, 0.41039, 0.21626, 0.53311, 0.38084, 0.61797, 0.46525, 0.45630, 0.38249, 0.43362, 0.34662, 0.12275, 0.52847, 0.46816, 0.69494, 0.61590, 0.48017, 0.31650, 0.54397, 0.56030, 0.45149, 0.27666, 0.43740, 0.44723, 0.44324, 0.49681, 0.31256, 0.45801, 0.43185, 0.18150, 0.39523, 0.63234, 0.42345, 0.55324\n",
            "Overall loss = 0.42518\n",
            "Epoch 28 complete.\n",
            "Document losses = 0.57801, 0.64878, 0.37485, 0.27815, 0.56470, 0.49321, 0.47612, 0.42881, 0.42824, 0.13276, 0.44265, 0.27979, 0.18103, 0.17036, 0.44958, 0.42120, 0.46373, 0.46539, 0.50789, 0.30872, 0.59807, 0.63875, 0.35936, 0.58042, 0.49121, 0.31533, 0.43253, 0.48341, 0.03051, 0.34959, 0.26397, 0.31590, 0.44356, 0.35946, 0.57134, 0.52735, 0.42592, 0.43313, 0.56098, 0.42972, 0.33363, 0.65681\n",
            "Overall loss = 0.42049\n",
            "Epoch 29 complete.\n",
            "Document losses = 0.50593, 0.36214, 0.13169, 0.41437, 0.43269, 0.54479, 0.17976, 0.29253, 0.39941, 0.41959, 0.43848, 0.20792, 0.43275, 0.37794, 0.38764, 0.62418, 0.37987, 0.63377, 0.25649, 0.46349, 0.46051, 0.51124, 0.04336, 0.46778, 0.42942, 0.34090, 0.44011, 0.39916, 0.58148, 0.29637, 0.26984, 0.33096, 0.39476, 0.60051, 0.53209, 0.46770, 0.51676, 0.50694, 0.66266, 0.29086, 0.61097, 0.59377\n",
            "Overall loss = 0.41895\n",
            "Epoch 30 complete.\n",
            "Document losses = 0.45261, 0.44125, 0.03510, 0.33521, 0.44313, 0.25688, 0.34300, 0.45818, 0.49385, 0.38849, 0.56525, 0.40522, 0.58145, 0.38468, 0.57053, 0.31162, 0.42968, 0.37298, 0.15222, 0.65180, 0.49936, 0.33977, 0.62746, 0.46486, 0.38300, 0.20024, 0.42957, 0.43672, 0.35742, 0.54376, 0.61881, 0.56894, 0.63729, 0.30362, 0.18151, 0.50400, 0.54753, 0.44390, 0.24749, 0.58285, 0.48883, 0.28846\n",
            "Overall loss = 0.42092\n",
            "Epoch 31 complete.\n",
            "Document losses = 0.64218, 0.22214, 0.44368, 0.57505, 0.26277, 0.58080, 0.51152, 0.42081, 0.63126, 0.31798, 0.45604, 0.50974, 0.39922, 0.34094, 0.41406, 0.40860, 0.36080, 0.43943, 0.54254, 0.42947, 0.43789, 0.33572, 0.30795, 0.49375, 0.56700, 0.41892, 0.61469, 0.30795, 0.28791, 0.16141, 0.50767, 0.38020, 0.45959, 0.50515, 0.34937, 0.03197, 0.27545, 0.45718, 0.14880, 0.44840, 0.49055, 0.56753\n",
            "Overall loss = 0.41425\n",
            "Epoch 32 complete.\n",
            "Document losses = 0.29917, 0.60149, 0.19918, 0.50905, 0.41625, 0.56136, 0.56575, 0.39020, 0.47944, 0.28383, 0.27355, 0.50000, 0.39202, 0.59618, 0.00947, 0.28633, 0.41561, 0.27163, 0.35187, 0.66607, 0.62999, 0.52792, 0.47310, 0.55544, 0.40152, 0.40659, 0.17018, 0.35730, 0.45695, 0.41070, 0.35671, 0.34830, 0.66085, 0.48093, 0.46521, 0.42796, 0.46959, 0.45266, 0.34405, 0.12837, 0.43733, 0.35379\n",
            "Overall loss = 0.41270\n",
            "Epoch 33 complete.\n",
            "Document losses = 0.53586, 0.61399, 0.41056, 0.28048, 0.48883, 0.42323, 0.55756, 0.41154, 0.36928, 0.23902, 0.66883, 0.39069, 0.14811, 0.54203, 0.51696, 0.19095, 0.41179, 0.41539, 0.29378, 0.62322, 0.51675, 0.39385, 0.43232, 0.27001, 0.44838, 0.32209, 0.54928, 0.44074, 0.55829, 0.36831, 0.34490, 0.18335, 0.35916, 0.55077, 0.34931, 0.44211, 0.01878, 0.41839, 0.25047, 0.48673, 0.62040, 0.43811\n",
            "Overall loss = 0.40987\n",
            "Epoch 34 complete.\n",
            "Document losses = 0.42386, 0.46889, 0.60119, 0.53056, 0.36073, 0.39834, 0.62541, 0.60415, 0.32067, 0.27176, 0.40333, 0.41808, 0.44557, 0.43732, 0.41574, 0.36956, 0.50057, 0.44768, 0.40760, 0.35900, 0.52941, 0.53384, 0.23958, 0.32205, 0.28994, 0.17438, 0.01398, 0.40208, 0.18088, 0.53880, 0.42899, 0.13244, 0.57108, 0.52750, 0.50956, 0.41792, 0.28674, 0.56323, 0.33262, 0.61886, 0.55624, 0.27895\n",
            "Overall loss = 0.40917\n",
            "Epoch 35 complete.\n",
            "Document losses = 0.41468, 0.56935, 0.32036, 0.44776, 0.51681, 0.29078, 0.15818, 0.48993, 0.46873, 0.42808, 0.54672, 0.42670, 0.56179, 0.36927, 0.39341, 0.30767, 0.43325, 0.51726, 0.15064, 0.34937, 0.34348, 0.40850, 0.28850, 0.29116, 0.18888, 0.37319, 0.60714, 0.48848, 0.42522, 0.01862, 0.53683, 0.58358, 0.40408, 0.63322, 0.33687, 0.24276, 0.43889, 0.42559, 0.40197, 0.62398, 0.48349, 0.64444\n",
            "Overall loss = 0.41155\n",
            "Epoch 36 complete.\n",
            "Document losses = 0.28844, 0.59867, 0.49918, 0.54703, 0.32696, 0.30616, 0.16267, 0.43158, 0.48487, 0.34846, 0.32446, 0.19535, 0.00568, 0.43983, 0.41741, 0.26241, 0.62008, 0.38409, 0.43857, 0.34884, 0.26802, 0.32257, 0.13810, 0.54360, 0.48312, 0.54294, 0.65656, 0.40887, 0.43098, 0.64300, 0.42861, 0.39967, 0.38917, 0.53050, 0.33270, 0.54436, 0.40243, 0.55081, 0.30509, 0.53692, 0.39142, 0.43498\n",
            "Overall loss = 0.40510\n",
            "Epoch 37 complete.\n",
            "Document losses = 0.55168, 0.40845, 0.55630, 0.40939, 0.52092, 0.27403, 0.61782, 0.44039, 0.46995, 0.49507, 0.15616, 0.40879, 0.32804, 0.30437, 0.37500, 0.38721, 0.42796, 0.25772, 0.43698, 0.15182, 0.32618, 0.58868, 0.46231, 0.54504, 0.41783, 0.15984, 0.55809, 0.01162, 0.26095, 0.42541, 0.30802, 0.55178, 0.53056, 0.60465, 0.48468, 0.41162, 0.42712, 0.34225, 0.36669, 0.52580, 0.38410, 0.26830\n",
            "Overall loss = 0.40198\n",
            "Epoch 38 complete.\n",
            "Document losses = 0.41854, 0.39047, 0.60218, 0.23066, 0.56526, 0.41951, 0.35088, 0.39657, 0.41727, 0.54334, 0.52466, 0.31544, 0.54273, 0.33055, 0.30299, 0.03026, 0.24647, 0.41497, 0.30205, 0.18568, 0.46127, 0.35433, 0.34778, 0.12529, 0.40473, 0.39487, 0.27167, 0.60182, 0.48621, 0.27999, 0.42050, 0.53444, 0.51558, 0.56303, 0.52376, 0.52596, 0.46509, 0.46238, 0.40786, 0.18549, 0.53191, 0.47723\n",
            "Overall loss = 0.40087\n",
            "Epoch 39 complete.\n",
            "Document losses = 0.17190, 0.54785, 0.55913, 0.64070, 0.52224, 0.57481, 0.46223, 0.39103, 0.24192, 0.47709, 0.12197, 0.26496, 0.34644, 0.39487, 0.33221, 0.26258, 0.43676, 0.27614, 0.25667, 0.43482, 0.35340, 0.42663, 0.37756, 0.00544, 0.42440, 0.56203, 0.34534, 0.40532, 0.40851, 0.61969, 0.51801, 0.53023, 0.42657, 0.17519, 0.42580, 0.34258, 0.42262, 0.47453, 0.48375, 0.32235, 0.40672, 0.50624\n",
            "Overall loss = 0.39521\n",
            "Epoch 40 complete.\n",
            "Document losses = 0.31062, 0.42164, 0.45623, 0.02917, 0.40438, 0.24578, 0.40204, 0.50073, 0.62240, 0.20368, 0.55921, 0.33940, 0.45948, 0.35364, 0.25699, 0.28030, 0.50262, 0.47172, 0.37261, 0.42165, 0.56632, 0.47973, 0.43256, 0.40242, 0.39137, 0.14651, 0.42487, 0.45255, 0.26279, 0.41306, 0.35480, 0.38356, 0.61209, 0.32723, 0.33327, 0.18125, 0.46190, 0.32443, 0.55360, 0.54317, 0.51860, 0.52573\n",
            "Overall loss = 0.39599\n",
            "Epoch 41 complete.\n",
            "Document losses = 0.51366, 0.56987, 0.41328, 0.37737, 0.29809, 0.24711, 0.53471, 0.17305, 0.38805, 0.39918, 0.25730, 0.35590, 0.42504, 0.58800, 0.35725, 0.45048, 0.33837, 0.28019, 0.41356, 0.50686, 0.17077, 0.38528, 0.49515, 0.51864, 0.42275, 0.36909, 0.47399, 0.34490, 0.54371, 0.54905, 0.58521, 0.51430, 0.47040, 0.55880, 0.62170, 0.41965, 0.41032, 0.24581, 0.30453, 0.41069, 0.02727, 0.12158\n",
            "Overall loss = 0.39958\n",
            "Epoch 42 complete.\n",
            "Document losses = 0.46979, 0.15531, 0.39775, 0.58383, 0.27696, 0.32358, 0.24787, 0.42478, 0.35826, 0.54461, 0.14697, 0.38948, 0.53506, 0.36487, 0.28876, 0.42769, 0.36968, 0.47114, 0.51232, 0.44225, 0.49677, 0.41115, 0.26045, 0.00794, 0.52202, 0.45494, 0.37735, 0.40952, 0.54407, 0.50262, 0.43793, 0.61007, 0.31429, 0.46815, 0.32720, 0.40747, 0.59544, 0.23820, 0.32435, 0.47411, 0.12146, 0.33879\n",
            "Overall loss = 0.38851\n",
            "Epoch 43 complete.\n",
            "Document losses = 0.31364, 0.46064, 0.42673, 0.52927, 0.26223, 0.54934, 0.59182, 0.42682, 0.47827, 0.27487, 0.34894, 0.26808, 0.49041, 0.51597, 0.47588, 0.54139, 0.33738, 0.42173, 0.17684, 0.62101, 0.51354, 0.42620, 0.54242, 0.41299, 0.39493, 0.28973, 0.38660, 0.51857, 0.39746, 0.13106, 0.41236, 0.54366, 0.39681, 0.37250, 0.02267, 0.31317, 0.25716, 0.32796, 0.41326, 0.26517, 0.53366, 0.33305\n",
            "Overall loss = 0.39702\n",
            "Epoch 44 complete.\n",
            "Document losses = 0.41244, 0.01797, 0.47027, 0.41312, 0.46701, 0.47659, 0.36965, 0.47017, 0.25575, 0.61818, 0.56343, 0.50135, 0.41148, 0.46263, 0.55392, 0.36877, 0.51647, 0.43948, 0.32509, 0.54375, 0.38760, 0.30962, 0.39943, 0.34312, 0.39476, 0.42040, 0.14979, 0.37159, 0.28729, 0.27663, 0.36448, 0.42995, 0.60943, 0.26895, 0.11927, 0.22988, 0.21015, 0.56329, 0.32260, 0.57913, 0.49425, 0.29337\n",
            "Overall loss = 0.39090\n",
            "Epoch 45 complete.\n",
            "Document losses = 0.43955, 0.42036, 0.44381, 0.47712, 0.55001, 0.39253, 0.37608, 0.36409, 0.46857, 0.44550, 0.53615, 0.54222, 0.40735, 0.53950, 0.33376, 0.31873, 0.46300, 0.25546, 0.15459, 0.36160, 0.41703, 0.34558, 0.53230, 0.43817, 0.25619, 0.40700, 0.47386, 0.12794, 0.22753, 0.30828, 0.60051, 0.33539, 0.31168, 0.30013, 0.24563, 0.43132, 0.55484, 0.57393, 0.24639, 0.48512, 0.02013, 0.42241\n",
            "Overall loss = 0.38764\n",
            "Epoch 46 complete.\n",
            "Document losses = 0.30547, 0.60552, 0.51795, 0.22937, 0.56435, 0.12086, 0.30891, 0.59853, 0.40595, 0.17457, 0.43702, 0.00414, 0.43194, 0.43249, 0.44476, 0.46625, 0.14136, 0.52145, 0.57225, 0.50220, 0.38684, 0.64404, 0.40422, 0.35833, 0.43280, 0.41153, 0.32494, 0.40962, 0.26013, 0.37407, 0.49858, 0.25793, 0.28187, 0.44478, 0.51090, 0.26053, 0.30253, 0.52949, 0.44773, 0.43846, 0.39822, 0.33972\n",
            "Overall loss = 0.39050\n",
            "Epoch 47 complete.\n",
            "Document losses = 0.23672, 0.39433, 0.26019, 0.14822, 0.43249, 0.51977, 0.31561, 0.45562, 0.48472, 0.42655, 0.50679, 0.30531, 0.44963, 0.43791, 0.52726, 0.39780, 0.26162, 0.41919, 0.16149, 0.32669, 0.40309, 0.52015, 0.32003, 0.45497, 0.30239, 0.55306, 0.41981, 0.45664, 0.55439, 0.39643, 0.32930, 0.62684, 0.31070, 0.40770, 0.56901, 0.36954, 0.00550, 0.13591, 0.41172, 0.24696, 0.53710, 0.33655\n",
            "Overall loss = 0.38178\n",
            "Epoch 48 complete.\n",
            "Document losses = 0.27696, 0.31660, 0.45095, 0.13885, 0.38447, 0.34246, 0.41410, 0.57869, 0.54898, 0.45134, 0.33669, 0.44361, 0.31813, 0.49500, 0.47512, 0.57081, 0.21674, 0.46319, 0.23215, 0.11814, 0.41372, 0.60581, 0.45206, 0.31927, 0.34371, 0.41338, 0.52124, 0.50065, 0.24492, 0.50353, 0.00641, 0.53782, 0.38544, 0.25239, 0.37546, 0.24502, 0.41165, 0.31011, 0.52232, 0.40939, 0.52717, 0.36832\n",
            "Overall loss = 0.38489\n",
            "Epoch 49 complete.\n",
            "Document losses = 0.23898, 0.14934, 0.39584, 0.35200, 0.12698, 0.42468, 0.51427, 0.33824, 0.44503, 0.42830, 0.31643, 0.52715, 0.45684, 0.47194, 0.24991, 0.52794, 0.41949, 0.40863, 0.61129, 0.46933, 0.32211, 0.32345, 0.37033, 0.43935, 0.38273, 0.00748, 0.24303, 0.28589, 0.33083, 0.27720, 0.46609, 0.27823, 0.55557, 0.50820, 0.62989, 0.58721, 0.41106, 0.36872, 0.40580, 0.49556, 0.16294, 0.47425\n",
            "Overall loss = 0.38302\n",
            "Epoch 50 complete.\n",
            "Document losses = 0.39484, 0.16621, 0.34377, 0.31283, 0.01306, 0.29577, 0.47584, 0.15774, 0.43113, 0.40300, 0.29349, 0.25273, 0.26337, 0.30424, 0.45129, 0.27036, 0.52273, 0.42620, 0.52608, 0.33286, 0.33491, 0.44317, 0.46062, 0.31296, 0.53274, 0.13445, 0.59122, 0.27962, 0.42650, 0.39839, 0.37754, 0.43914, 0.40576, 0.51660, 0.39041, 0.53304, 0.44735, 0.51246, 0.39130, 0.59849, 0.49392, 0.38552\n",
            "Overall loss = 0.38041\n"
          ],
          "name": "stdout"
        }
      ]
    },
    {
      "cell_type": "code",
      "metadata": {
        "colab": {
          "base_uri": "https://localhost:8080/"
        },
        "id": "kOjZYeyFpADj",
        "outputId": "1a942efc-5c05-4ec3-8714-322b94deaae7"
      },
      "source": [
        "tr_pt_resolver_bakeoff = neural_net.evaluate(tr_pt_word_lstm, tr_pt_attn_layer, tr_pt_scorer, all_words, all_markables, coref_features.minimal_features)"
      ],
      "execution_count": 208,
      "outputs": [
        {
          "output_type": "stream",
          "text": [
            "F: 0.5696\tR: 0.5174\tP:0.6335\n"
          ],
          "name": "stdout"
        }
      ]
    },
    {
      "cell_type": "code",
      "metadata": {
        "colab": {
          "base_uri": "https://localhost:8080/"
        },
        "id": "oJJrmd4opDB9",
        "outputId": "a7a99cb3-8ecc-4714-f7e6-184f69675b50"
      },
      "source": [
        "coref_metrics(tr_pt_resolver_bakeoff, all_markables);"
      ],
      "execution_count": 209,
      "outputs": [
        {
          "output_type": "stream",
          "text": [
            "B-Cubed: 0.5915\tCEAF: 0.4933\tMUC: 0.6450\tAverage: 0.5766\n"
          ],
          "name": "stdout"
        }
      ]
    },
    {
      "cell_type": "code",
      "metadata": {
        "colab": {
          "base_uri": "https://localhost:8080/"
        },
        "id": "dPk5EnxTpOuW",
        "outputId": "2555a4e6-be04-4ff9-b691-f816386c3ecd"
      },
      "source": [
        "tr_pt_resolver_dev = neural_net.evaluate(tr_pt_word_lstm, tr_pt_attn_layer, tr_pt_scorer, all_words_dev, all_markables_dev, coref_features.minimal_features)\n",
        "coref.write_predictions(tr_pt_resolver_dev,\n",
        "                        all_markables_dev,\n",
        "                        'predictions/nn-dev-bakeoff.preds');\n",
        "coref_metrics(tr_pt_resolver_dev, all_markables_dev);"
      ],
      "execution_count": 210,
      "outputs": [
        {
          "output_type": "stream",
          "text": [
            "F: 0.6000\tR: 0.4832\tP:0.7912\n",
            "B-Cubed: 0.6166\tCEAF: 0.4710\tMUC: 0.6083\tAverage: 0.5653\n"
          ],
          "name": "stdout"
        }
      ]
    },
    {
      "cell_type": "code",
      "metadata": {
        "colab": {
          "base_uri": "https://localhost:8080/"
        },
        "id": "yJ9vjKYTpPZU",
        "outputId": "03145e15-fcc6-41e3-db1b-ba082e597b1e"
      },
      "source": [
        "# students can't run this\n",
        "tr_pt_resolver_te = neural_net.evaluate(tr_pt_word_lstm, tr_pt_attn_layer, tr_pt_scorer, all_words_test, all_markables_te, coref_features.minimal_features)\n",
        "coref.write_predictions(tr_pt_resolver_te,\n",
        "                        all_markables_te,\n",
        "                        'predictions/nn-test-bakeoff.preds');\n",
        "coref_metrics(tr_pt_resolver_te, all_markables_te);"
      ],
      "execution_count": 211,
      "outputs": [
        {
          "output_type": "stream",
          "text": [
            "F: 0.4845\tR: 0.3197\tP:1.0000\n",
            "B-Cubed: 0.0506\tCEAF: 0.0229\tMUC: 0.4845\tAverage: 0.1860\n"
          ],
          "name": "stdout"
        }
      ]
    },
    {
      "cell_type": "code",
      "metadata": {
        "id": "0pGiUaHJpTVG"
      },
      "source": [
        ""
      ],
      "execution_count": null,
      "outputs": []
    },
    {
      "cell_type": "markdown",
      "metadata": {
        "id": "4DWmmjOnEJA8"
      },
      "source": [
        "**Deliverable 6** (16 points):\n",
        "\n",
        "Copy the applicable cells from section 3 or 4 by your choice to output predictions for both the dev and test sets of WSJ.\n",
        "\n",
        "Write your predictions to `predictions/bakeoff-dev.preds` and `predictions/bakeoff-test.preds`.\n",
        "\n",
        "Scoring:\n",
        "\n",
        "- Dev F1 > .55: 2 points\n",
        "- Dev F1 > .57: 4 points\n",
        "- Dev F1 > .59: 6 points\n",
        "- Dev F1 > .61: 8 points\n",
        "- Test F1 > .53: 2 points\n",
        "- Test F1 > .54: 4 points\n",
        "- Test F1 > .55: 6 points\n",
        "- Test F1 > .56: 8 points\n",
        "\n",
        "- Top 3 in class (Test F1): + 4 points (bonus)\n",
        "- We'll also give 4 bonus points to particularly unique / creative / well-motivated solutions (with motivation to be included in the write-up)."
      ]
    },
    {
      "cell_type": "code",
      "metadata": {
        "id": "wKsmhs2G3wMm"
      },
      "source": [
        ""
      ],
      "execution_count": null,
      "outputs": []
    },
    {
      "cell_type": "markdown",
      "metadata": {
        "id": "6Hx7RCwTEJA8"
      },
      "source": [
        "# 7. Writeup (18 points)\n",
        "\n",
        "You can start your write-up in any format you prefer (e.g., LaTeX, Markdown), but please remember to export to `pset4-writeup.pdf` upon submission. Also, you will be asked to post your writeup on Piazza after the due date (plus late days).\n",
        "\n",
        "**Deliverable 7.1** (6 points):\n",
        "\n",
        "Describe your bakeoff design. What worked and what didn't? Give a possible reason behind it.\n",
        "\n",
        "**Deliverable 7.2** (8 points):\n",
        "\n",
        "You will select a research paper at ACL, EMNLP or NAACL that focuses on **coreference resolution**. Summarize the paper, answering the following questions:\n",
        "\n",
        "1. What are the main ideas of the paper?\n",
        "2. What worked and what didn't?\n",
        "3. Are there any rationales the paper provided or you think that lead to the results?\n",
        "4. How would you further improve over this work if you have the opportunity?\n",
        "\n",
        "You must choose a paper in the main conference (not workshops). The paper must be at least four pages long. All papers from these conferences are available for free online: https://www.aclweb.org/anthology/.\n",
        "\n",
        "**Deliverable 7.3** (4 points):\n",
        "\n",
        "Pick any topic that you like or learned a lot from this course. Propose a related quiz question and give an answer to it. Please feel free to be creative here and remember that we don't have final exams for this iteration of the course :)"
      ]
    },
    {
      "cell_type": "code",
      "metadata": {
        "id": "Aa6Zm1-tEJA8"
      },
      "source": [
        ""
      ],
      "execution_count": null,
      "outputs": []
    }
  ]
}